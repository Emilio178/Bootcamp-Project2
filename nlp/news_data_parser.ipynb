{
 "cells": [
  {
   "cell_type": "code",
   "execution_count": 2,
   "id": "22598130-0f7e-44cd-9fd9-87ea089adc21",
   "metadata": {},
   "outputs": [],
   "source": [
    "import pandas as pd\n",
    "from pathlib import Path\n",
    "import yahoo_fin.stock_info as si\n",
    "from nltk.sentiment.vader import SentimentIntensityAnalyzer"
   ]
  },
  {
   "cell_type": "markdown",
   "id": "06f1d253-0a99-4930-b57b-86e6350b5216",
   "metadata": {},
   "source": [
    "## Read in News Dataset"
   ]
  },
  {
   "cell_type": "code",
   "execution_count": 142,
   "id": "442597db-a6a4-4832-9c16-37bf4a38f7ce",
   "metadata": {},
   "outputs": [],
   "source": [
    "df = pd.read_csv('article_data/us_equities_news_dataset.csv')\n",
    "df.set_index(df.release_date, inplace=True)"
   ]
  },
  {
   "cell_type": "code",
   "execution_count": 144,
   "id": "67c9b7ca-1e6c-47e5-aff0-f5cc5dde9156",
   "metadata": {},
   "outputs": [],
   "source": [
    "df.drop(columns = ['release_date'], axis=1, inplace=True)"
   ]
  },
  {
   "cell_type": "code",
   "execution_count": 145,
   "id": "915e1375-04a2-4b70-93a6-cad31cf3c40f",
   "metadata": {},
   "outputs": [
    {
     "data": {
      "text/html": [
       "<div>\n",
       "<style scoped>\n",
       "    .dataframe tbody tr th:only-of-type {\n",
       "        vertical-align: middle;\n",
       "    }\n",
       "\n",
       "    .dataframe tbody tr th {\n",
       "        vertical-align: top;\n",
       "    }\n",
       "\n",
       "    .dataframe thead th {\n",
       "        text-align: right;\n",
       "    }\n",
       "</style>\n",
       "<table border=\"1\" class=\"dataframe\">\n",
       "  <thead>\n",
       "    <tr style=\"text-align: right;\">\n",
       "      <th></th>\n",
       "      <th>id</th>\n",
       "      <th>ticker</th>\n",
       "      <th>title</th>\n",
       "      <th>category</th>\n",
       "      <th>content</th>\n",
       "      <th>provider</th>\n",
       "      <th>url</th>\n",
       "      <th>article_id</th>\n",
       "    </tr>\n",
       "    <tr>\n",
       "      <th>release_date</th>\n",
       "      <th></th>\n",
       "      <th></th>\n",
       "      <th></th>\n",
       "      <th></th>\n",
       "      <th></th>\n",
       "      <th></th>\n",
       "      <th></th>\n",
       "      <th></th>\n",
       "    </tr>\n",
       "  </thead>\n",
       "  <tbody>\n",
       "    <tr>\n",
       "      <th>2008-10-02</th>\n",
       "      <td>227750</td>\n",
       "      <td>KYOCY</td>\n",
       "      <td>Nikkei down 1 4 pct on economy fears  autos drop</td>\n",
       "      <td>news</td>\n",
       "      <td>Nikkei down 1 4 pct  hits lowest point in ove...</td>\n",
       "      <td>Reuters</td>\n",
       "      <td>https://www.investing.com/news/forex-news/nikk...</td>\n",
       "      <td>669</td>\n",
       "    </tr>\n",
       "    <tr>\n",
       "      <th>2008-10-03</th>\n",
       "      <td>327113</td>\n",
       "      <td>TGT</td>\n",
       "      <td>FOREX Dollar poised for biggest weekly gain in...</td>\n",
       "      <td>news</td>\n",
       "      <td>Money market squeeze  ECB shift fuel dollar ...</td>\n",
       "      <td>Reuters</td>\n",
       "      <td>https://www.investing.com/news/forex-news/fore...</td>\n",
       "      <td>671</td>\n",
       "    </tr>\n",
       "    <tr>\n",
       "      <th>2008-10-03</th>\n",
       "      <td>435744</td>\n",
       "      <td>C</td>\n",
       "      <td>GLOBAL MARKETS Stocks rally on Wells Wachovia ...</td>\n",
       "      <td>news</td>\n",
       "      <td>U S  stocks rally  dollar gains on European w...</td>\n",
       "      <td>Reuters</td>\n",
       "      <td>https://www.investing.com/news/forex-news/glob...</td>\n",
       "      <td>682</td>\n",
       "    </tr>\n",
       "    <tr>\n",
       "      <th>2008-10-03</th>\n",
       "      <td>441802</td>\n",
       "      <td>WFC</td>\n",
       "      <td>GLOBAL MARKETS Stocks hold up after Wells Wach...</td>\n",
       "      <td>news</td>\n",
       "      <td>Europe stocks  U S  stock futures up on Well...</td>\n",
       "      <td>Reuters</td>\n",
       "      <td>https://www.investing.com/news/forex-news/glob...</td>\n",
       "      <td>673</td>\n",
       "    </tr>\n",
       "    <tr>\n",
       "      <th>2008-10-03</th>\n",
       "      <td>441803</td>\n",
       "      <td>WFC</td>\n",
       "      <td>GLOBAL MARKETS U S  bailout plan passes  inves...</td>\n",
       "      <td>news</td>\n",
       "      <td>U S  House of Representatives approves bailou...</td>\n",
       "      <td>Reuters</td>\n",
       "      <td>https://www.investing.com/news/forex-news/glob...</td>\n",
       "      <td>686</td>\n",
       "    </tr>\n",
       "  </tbody>\n",
       "</table>\n",
       "</div>"
      ],
      "text/plain": [
       "                  id ticker  \\\n",
       "release_date                  \n",
       "2008-10-02    227750  KYOCY   \n",
       "2008-10-03    327113    TGT   \n",
       "2008-10-03    435744      C   \n",
       "2008-10-03    441802    WFC   \n",
       "2008-10-03    441803    WFC   \n",
       "\n",
       "                                                          title category  \\\n",
       "release_date                                                               \n",
       "2008-10-02     Nikkei down 1 4 pct on economy fears  autos drop     news   \n",
       "2008-10-03    FOREX Dollar poised for biggest weekly gain in...     news   \n",
       "2008-10-03    GLOBAL MARKETS Stocks rally on Wells Wachovia ...     news   \n",
       "2008-10-03    GLOBAL MARKETS Stocks hold up after Wells Wach...     news   \n",
       "2008-10-03    GLOBAL MARKETS U S  bailout plan passes  inves...     news   \n",
       "\n",
       "                                                        content provider  \\\n",
       "release_date                                                               \n",
       "2008-10-02     Nikkei down 1 4 pct  hits lowest point in ove...  Reuters   \n",
       "2008-10-03      Money market squeeze  ECB shift fuel dollar ...  Reuters   \n",
       "2008-10-03     U S  stocks rally  dollar gains on European w...  Reuters   \n",
       "2008-10-03      Europe stocks  U S  stock futures up on Well...  Reuters   \n",
       "2008-10-03     U S  House of Representatives approves bailou...  Reuters   \n",
       "\n",
       "                                                            url  article_id  \n",
       "release_date                                                                 \n",
       "2008-10-02    https://www.investing.com/news/forex-news/nikk...         669  \n",
       "2008-10-03    https://www.investing.com/news/forex-news/fore...         671  \n",
       "2008-10-03    https://www.investing.com/news/forex-news/glob...         682  \n",
       "2008-10-03    https://www.investing.com/news/forex-news/glob...         673  \n",
       "2008-10-03    https://www.investing.com/news/forex-news/glob...         686  "
      ]
     },
     "execution_count": 145,
     "metadata": {},
     "output_type": "execute_result"
    }
   ],
   "source": [
    "df.sort_index(inplace=True)\n",
    "df.head()"
   ]
  },
  {
   "cell_type": "code",
   "execution_count": 146,
   "id": "f8f9d6b2-85b3-4327-abd8-ad868c1f2bbe",
   "metadata": {},
   "outputs": [],
   "source": [
    "# Create Copy of dataframe to manipulate\n",
    "df2 = df.copy()\n",
    "df2 = df2.loc['2016-01-01':]"
   ]
  },
  {
   "cell_type": "code",
   "execution_count": 149,
   "id": "0e27ec08-af1b-471b-b594-cbc5764bb2ed",
   "metadata": {},
   "outputs": [],
   "source": [
    "df_ticker_list = df2['ticker'].unique()\n",
    "sp500_tickers = si.tickers_sp500()"
   ]
  },
  {
   "cell_type": "code",
   "execution_count": 150,
   "id": "5dcff7b5-a543-4a41-bc13-16920d1e509a",
   "metadata": {},
   "outputs": [],
   "source": [
    "# Gets list of S&P 500 tickers found in news dataset\n",
    "df_sp500_list = [x for x in sp500_tickers if x in df_ticker_list]"
   ]
  },
  {
   "cell_type": "code",
   "execution_count": 151,
   "id": "ec858cca-6204-4645-b1d1-fe522a5c4b9a",
   "metadata": {},
   "outputs": [
    {
     "data": {
      "text/plain": [
       "340"
      ]
     },
     "execution_count": 151,
     "metadata": {},
     "output_type": "execute_result"
    }
   ],
   "source": [
    "len(df_sp500_list)"
   ]
  },
  {
   "cell_type": "code",
   "execution_count": 152,
   "id": "1eef7bbb-26de-453e-8590-aa35156c9459",
   "metadata": {},
   "outputs": [],
   "source": [
    "# Gets list of S&P 500 tickers NOT found in news dataset\n",
    "missing_tickers = [x for x in sp500_tickers if x not in df_sp500_list]"
   ]
  },
  {
   "cell_type": "code",
   "execution_count": 153,
   "id": "89767d7d-a5ce-40fa-81fe-7f52ce9054e9",
   "metadata": {},
   "outputs": [
    {
     "data": {
      "text/plain": [
       "164"
      ]
     },
     "execution_count": 153,
     "metadata": {},
     "output_type": "execute_result"
    }
   ],
   "source": [
    "len(missing_tickers)"
   ]
  },
  {
   "cell_type": "code",
   "execution_count": 154,
   "id": "60373880-a8bb-4937-9c7b-f6311c0bc65e",
   "metadata": {},
   "outputs": [],
   "source": [
    "# Add Tesla to list of tickers\n",
    "df_sp500_list.append('TSLA')"
   ]
  },
  {
   "cell_type": "code",
   "execution_count": 155,
   "id": "0543d10b-9641-45cc-b6f2-f4ca12b9a787",
   "metadata": {},
   "outputs": [
    {
     "data": {
      "text/plain": [
       "341"
      ]
     },
     "execution_count": 155,
     "metadata": {},
     "output_type": "execute_result"
    }
   ],
   "source": [
    "len(df_sp500_list)"
   ]
  },
  {
   "cell_type": "code",
   "execution_count": 156,
   "id": "38fec170-d046-4dfe-8865-85d19e2f24f0",
   "metadata": {},
   "outputs": [],
   "source": [
    "# Set Dataframe such that only rows containing S&P 500 tickers and Tesla are found\n",
    "df2 = df2.loc[df2['ticker'].isin(df_sp500_list)]"
   ]
  },
  {
   "cell_type": "code",
   "execution_count": 158,
   "id": "50e11890-a203-4d5a-9d8d-4ba7bb8f961a",
   "metadata": {},
   "outputs": [],
   "source": [
    "# Create a new dataframe with just the headlines and ticker\n",
    "news_df = df2[['ticker', 'title']]"
   ]
  },
  {
   "cell_type": "code",
   "execution_count": 159,
   "id": "8e382c29-23d8-4397-8280-c728536e0b1b",
   "metadata": {},
   "outputs": [
    {
     "name": "stderr",
     "output_type": "stream",
     "text": [
      "/var/folders/g0/x29rhtxs77n94c0nv9tn68km0000gn/T/ipykernel_59536/3955821164.py:5: SettingWithCopyWarning:\n",
      "\n",
      "\n",
      "A value is trying to be set on a copy of a slice from a DataFrame.\n",
      "Try using .loc[row_indexer,col_indexer] = value instead\n",
      "\n",
      "See the caveats in the documentation: https://pandas.pydata.org/pandas-docs/stable/user_guide/indexing.html#returning-a-view-versus-a-copy\n",
      "\n"
     ]
    }
   ],
   "source": [
    "# Create vader Sentiment analyzer\n",
    "vader = SentimentIntensityAnalyzer()\n",
    "# Lambda function to run vader sentiment on title column\n",
    "f = lambda title: vader.polarity_scores(title)['compound']\n",
    "# Apply sentiment to title column and put values in a new column named title_sentiment\n",
    "news_df['title_sentiment'] = news_df.title.apply(f)"
   ]
  },
  {
   "cell_type": "code",
   "execution_count": 162,
   "id": "cd0a42c6",
   "metadata": {},
   "outputs": [
    {
     "name": "stderr",
     "output_type": "stream",
     "text": [
      "/var/folders/g0/x29rhtxs77n94c0nv9tn68km0000gn/T/ipykernel_59536/629580004.py:1: SettingWithCopyWarning:\n",
      "\n",
      "\n",
      "A value is trying to be set on a copy of a slice from a DataFrame\n",
      "\n",
      "See the caveats in the documentation: https://pandas.pydata.org/pandas-docs/stable/user_guide/indexing.html#returning-a-view-versus-a-copy\n",
      "\n"
     ]
    }
   ],
   "source": [
    "# Sort dataframe rows by ticker and release date\n",
    "news_df.sort_values(by=['ticker', 'release_date'], ascending=True, inplace=True)"
   ]
  },
  {
   "cell_type": "code",
   "execution_count": 1,
   "id": "d3f1cf0a-8014-41de-910b-81808d8245ee",
   "metadata": {},
   "outputs": [
    {
     "ename": "NameError",
     "evalue": "name 'news_df' is not defined",
     "output_type": "error",
     "traceback": [
      "\u001b[0;31m---------------------------------------------------------------------------\u001b[0m",
      "\u001b[0;31mNameError\u001b[0m                                 Traceback (most recent call last)",
      "Input \u001b[0;32mIn [1]\u001b[0m, in \u001b[0;36m<cell line: 1>\u001b[0;34m()\u001b[0m\n\u001b[0;32m----> 1\u001b[0m \u001b[43mnews_df\u001b[49m\u001b[38;5;241m.\u001b[39mtail()\n",
      "\u001b[0;31mNameError\u001b[0m: name 'news_df' is not defined"
     ]
    }
   ],
   "source": [
    "news_df.tail()"
   ]
  },
  {
   "cell_type": "code",
   "execution_count": 166,
   "id": "b6330749-3ba9-4660-9951-440a9ecc8203",
   "metadata": {},
   "outputs": [
    {
     "data": {
      "text/html": [
       "<div>\n",
       "<style scoped>\n",
       "    .dataframe tbody tr th:only-of-type {\n",
       "        vertical-align: middle;\n",
       "    }\n",
       "\n",
       "    .dataframe tbody tr th {\n",
       "        vertical-align: top;\n",
       "    }\n",
       "\n",
       "    .dataframe thead th {\n",
       "        text-align: right;\n",
       "    }\n",
       "</style>\n",
       "<table border=\"1\" class=\"dataframe\">\n",
       "  <thead>\n",
       "    <tr style=\"text-align: right;\">\n",
       "      <th></th>\n",
       "      <th>title_sentiment</th>\n",
       "    </tr>\n",
       "  </thead>\n",
       "  <tbody>\n",
       "    <tr>\n",
       "      <th>count</th>\n",
       "      <td>144657.000000</td>\n",
       "    </tr>\n",
       "    <tr>\n",
       "      <th>mean</th>\n",
       "      <td>0.066251</td>\n",
       "    </tr>\n",
       "    <tr>\n",
       "      <th>std</th>\n",
       "      <td>0.310186</td>\n",
       "    </tr>\n",
       "    <tr>\n",
       "      <th>min</th>\n",
       "      <td>-0.942200</td>\n",
       "    </tr>\n",
       "    <tr>\n",
       "      <th>25%</th>\n",
       "      <td>0.000000</td>\n",
       "    </tr>\n",
       "    <tr>\n",
       "      <th>50%</th>\n",
       "      <td>0.000000</td>\n",
       "    </tr>\n",
       "    <tr>\n",
       "      <th>75%</th>\n",
       "      <td>0.273200</td>\n",
       "    </tr>\n",
       "    <tr>\n",
       "      <th>max</th>\n",
       "      <td>0.933700</td>\n",
       "    </tr>\n",
       "  </tbody>\n",
       "</table>\n",
       "</div>"
      ],
      "text/plain": [
       "       title_sentiment\n",
       "count    144657.000000\n",
       "mean          0.066251\n",
       "std           0.310186\n",
       "min          -0.942200\n",
       "25%           0.000000\n",
       "50%           0.000000\n",
       "75%           0.273200\n",
       "max           0.933700"
      ]
     },
     "execution_count": 166,
     "metadata": {},
     "output_type": "execute_result"
    }
   ],
   "source": [
    "news_df.describe()"
   ]
  },
  {
   "cell_type": "code",
   "execution_count": 164,
   "id": "25490a75",
   "metadata": {},
   "outputs": [],
   "source": [
    "# Create csv out of news_df table\n",
    "filepath = Path('article_data/news_sentiment.csv')\n",
    "news_df.to_csv(filepath)"
   ]
  }
 ],
 "metadata": {
  "kernelspec": {
   "display_name": "Python 3 (ipykernel)",
   "language": "python",
   "name": "python3"
  },
  "language_info": {
   "codemirror_mode": {
    "name": "ipython",
    "version": 3
   },
   "file_extension": ".py",
   "mimetype": "text/x-python",
   "name": "python",
   "nbconvert_exporter": "python",
   "pygments_lexer": "ipython3",
   "version": "3.8.2"
  }
 },
 "nbformat": 4,
 "nbformat_minor": 5
}
