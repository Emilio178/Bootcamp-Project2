{
 "cells": [
  {
   "cell_type": "code",
   "execution_count": 1,
   "id": "e1904e73-4086-451c-89b6-b1a19adad559",
   "metadata": {},
   "outputs": [
    {
     "name": "stdout",
     "output_type": "stream",
     "text": [
      "Collecting tweepy\n",
      "  Downloading tweepy-4.10.0-py3-none-any.whl (94 kB)\n",
      "\u001b[2K     \u001b[90m━━━━━━━━━━━━━━━━━━━━━━━━━━━━━━━━━━━━━━━━\u001b[0m \u001b[32m94.4/94.4 KB\u001b[0m \u001b[31m2.2 MB/s\u001b[0m eta \u001b[36m0:00:00\u001b[0m\n",
      "\u001b[?25hRequirement already satisfied: requests<3,>=2.27.0 in /Users/hasnainraza/opt/anaconda3/lib/python3.8/site-packages (from tweepy) (2.27.1)\n",
      "Collecting requests-oauthlib<2,>=1.2.0\n",
      "  Downloading requests_oauthlib-1.3.1-py2.py3-none-any.whl (23 kB)\n",
      "Collecting oauthlib<4,>=3.2.0\n",
      "  Downloading oauthlib-3.2.0-py3-none-any.whl (151 kB)\n",
      "\u001b[2K     \u001b[90m━━━━━━━━━━━━━━━━━━━━━━━━━━━━━━━━━━━━━━━\u001b[0m \u001b[32m151.5/151.5 KB\u001b[0m \u001b[31m4.1 MB/s\u001b[0m eta \u001b[36m0:00:00\u001b[0m\n",
      "\u001b[?25hRequirement already satisfied: idna<4,>=2.5 in /Users/hasnainraza/opt/anaconda3/lib/python3.8/site-packages (from requests<3,>=2.27.0->tweepy) (3.3)\n",
      "Requirement already satisfied: certifi>=2017.4.17 in /Users/hasnainraza/opt/anaconda3/lib/python3.8/site-packages (from requests<3,>=2.27.0->tweepy) (2022.5.18.1)\n",
      "Requirement already satisfied: urllib3<1.27,>=1.21.1 in /Users/hasnainraza/opt/anaconda3/lib/python3.8/site-packages (from requests<3,>=2.27.0->tweepy) (1.26.9)\n",
      "Requirement already satisfied: charset-normalizer~=2.0.0 in /Users/hasnainraza/opt/anaconda3/lib/python3.8/site-packages (from requests<3,>=2.27.0->tweepy) (2.0.12)\n",
      "Installing collected packages: oauthlib, requests-oauthlib, tweepy\n",
      "Successfully installed oauthlib-3.2.0 requests-oauthlib-1.3.1 tweepy-4.10.0\n",
      "\u001b[33mWARNING: You are using pip version 22.0.4; however, version 22.1.2 is available.\n",
      "You should consider upgrading via the '/Users/hasnainraza/opt/anaconda3/bin/python -m pip install --upgrade pip' command.\u001b[0m\u001b[33m\n",
      "\u001b[0m"
     ]
    }
   ],
   "source": [
    "!pip install tweepy"
   ]
  },
  {
   "cell_type": "code",
   "execution_count": 2,
   "id": "c99b5d9f-d81e-42a1-ad2a-81689ab3fcc4",
   "metadata": {},
   "outputs": [
    {
     "name": "stdout",
     "output_type": "stream",
     "text": [
      "Collecting textblob\n",
      "  Downloading textblob-0.17.1-py2.py3-none-any.whl (636 kB)\n",
      "\u001b[2K     \u001b[90m━━━━━━━━━━━━━━━━━━━━━━━━━━━━━━━━━━━━━━━\u001b[0m \u001b[32m636.8/636.8 KB\u001b[0m \u001b[31m6.6 MB/s\u001b[0m eta \u001b[36m0:00:00\u001b[0m00:01\u001b[0m00:01\u001b[0m\n",
      "\u001b[?25hRequirement already satisfied: nltk>=3.1 in /Users/hasnainraza/opt/anaconda3/lib/python3.8/site-packages (from textblob) (3.7)\n",
      "Requirement already satisfied: tqdm in /Users/hasnainraza/opt/anaconda3/lib/python3.8/site-packages (from nltk>=3.1->textblob) (4.64.0)\n",
      "Requirement already satisfied: joblib in /Users/hasnainraza/opt/anaconda3/lib/python3.8/site-packages (from nltk>=3.1->textblob) (1.1.0)\n",
      "Requirement already satisfied: regex>=2021.8.3 in /Users/hasnainraza/opt/anaconda3/lib/python3.8/site-packages (from nltk>=3.1->textblob) (2022.3.15)\n",
      "Requirement already satisfied: click in /Users/hasnainraza/opt/anaconda3/lib/python3.8/site-packages (from nltk>=3.1->textblob) (8.0.4)\n",
      "Installing collected packages: textblob\n",
      "Successfully installed textblob-0.17.1\n",
      "\u001b[33mWARNING: You are using pip version 22.0.4; however, version 22.1.2 is available.\n",
      "You should consider upgrading via the '/Users/hasnainraza/opt/anaconda3/bin/python -m pip install --upgrade pip' command.\u001b[0m\u001b[33m\n",
      "\u001b[0m"
     ]
    }
   ],
   "source": [
    "!pip install textblob"
   ]
  },
  {
   "cell_type": "code",
   "execution_count": 1,
   "id": "512e10fd-4f05-4e80-92f8-810c25337321",
   "metadata": {},
   "outputs": [
    {
     "data": {
      "text/plain": [
       "True"
      ]
     },
     "execution_count": 1,
     "metadata": {},
     "output_type": "execute_result"
    }
   ],
   "source": [
    "from textblob import TextBlob\n",
    "import tweepy\n",
    "import sys\n",
    "import pandas as pd\n",
    "import numpy as np\n",
    "import os\n",
    "from dotenv import load_dotenv\n",
    "load_dotenv()"
   ]
  },
  {
   "cell_type": "code",
   "execution_count": 2,
   "id": "542e2cd1-3984-4238-a426-7abd218d9f3d",
   "metadata": {},
   "outputs": [],
   "source": [
    "api_key = os.getenv(\"API_Key\")\n",
    "api_secret_key = os.getenv(\"API_Key_Secret\")\n",
    "access_token = os.getenv(\"Access_Token\")\n",
    "access_token_secret = os.getenv(\"Access_Token_Secret\")"
   ]
  },
  {
   "cell_type": "code",
   "execution_count": 3,
   "id": "f3568a44-03af-44df-bb56-ce413fa8c5e6",
   "metadata": {},
   "outputs": [],
   "source": [
    "auth_handler = tweepy.OAuthHandler(api_key, api_secret_key)\n",
    "auth_handler.set_access_token(access_token, access_token_secret)"
   ]
  },
  {
   "cell_type": "code",
   "execution_count": 4,
   "id": "6e559593-9dda-4bbd-a6aa-2cedc87c2c1c",
   "metadata": {},
   "outputs": [],
   "source": [
    "api = tweepy.API(auth_handler, wait_on_rate_limit=True)"
   ]
  },
  {
   "cell_type": "code",
   "execution_count": 104,
   "id": "5de7a19b-4d4c-456f-a7ed-8ed1265101fa",
   "metadata": {},
   "outputs": [],
   "source": [
    "search_term = 'tesla -filter:retweets'\n",
    "count = 100\n",
    "tweet_amount = 200"
   ]
  },
  {
   "cell_type": "code",
   "execution_count": 147,
   "id": "a3ba4c5e-ca13-47e5-aad5-522880a15887",
   "metadata": {},
   "outputs": [],
   "source": [
    "tweets = tweepy.Cursor(api.search_tweets, q=search_term, lang='en', max_id='1533750547357966336', result_type='mixed').items(tweet_amount)"
   ]
  },
  {
   "cell_type": "code",
   "execution_count": 148,
   "id": "a731c463-367e-4845-a2f4-07b4ca5f2f5f",
   "metadata": {},
   "outputs": [],
   "source": [
    "# tweets = #tweepy.Cursor(api.search_full_archive(label='123stock', query='exact'), q=search_term, fromDate=date_since).items(tweet_amount)"
   ]
  },
  {
   "cell_type": "code",
   "execution_count": 149,
   "id": "3b94e69d-5a66-4ecb-83f0-2080e22c099f",
   "metadata": {},
   "outputs": [],
   "source": [
    "twt_list_2 = []\n",
    "for tweet in tweets:\n",
    "    tweets_list.append([tweet.text, tweet.created_at, tweet.id])\n",
    "    twt_list_2.append([tweet.text, tweet.created_at, tweet.id])"
   ]
  },
  {
   "cell_type": "code",
   "execution_count": 150,
   "id": "c2cc0e10-2b1d-4687-9fbb-ce895a084a9c",
   "metadata": {},
   "outputs": [
    {
     "data": {
      "text/plain": [
       "49"
      ]
     },
     "execution_count": 150,
     "metadata": {},
     "output_type": "execute_result"
    }
   ],
   "source": [
    "len(tweets_list)"
   ]
  },
  {
   "cell_type": "code",
   "execution_count": 151,
   "id": "34ba13fc-8219-46d4-85c1-699c0319de1b",
   "metadata": {},
   "outputs": [
    {
     "data": {
      "text/plain": [
       "1533750547357966336"
      ]
     },
     "execution_count": 151,
     "metadata": {},
     "output_type": "execute_result"
    }
   ],
   "source": [
    "tweets_list[48][2]"
   ]
  },
  {
   "cell_type": "code",
   "execution_count": 152,
   "id": "7b6b1a37-b205-45bd-aa91-3b85a1d8339d",
   "metadata": {},
   "outputs": [
    {
     "data": {
      "text/plain": [
       "0"
      ]
     },
     "execution_count": 152,
     "metadata": {},
     "output_type": "execute_result"
    }
   ],
   "source": [
    "len(twt_list_2)"
   ]
  },
  {
   "cell_type": "code",
   "execution_count": null,
   "id": "3bbbf763-d993-47ec-b9bd-6fbf4288e9af",
   "metadata": {},
   "outputs": [],
   "source": []
  }
 ],
 "metadata": {
  "kernelspec": {
   "display_name": "Python 3 (ipykernel)",
   "language": "python",
   "name": "python3"
  },
  "language_info": {
   "codemirror_mode": {
    "name": "ipython",
    "version": 3
   },
   "file_extension": ".py",
   "mimetype": "text/x-python",
   "name": "python",
   "nbconvert_exporter": "python",
   "pygments_lexer": "ipython3",
   "version": "3.8.2"
  }
 },
 "nbformat": 4,
 "nbformat_minor": 5
}
