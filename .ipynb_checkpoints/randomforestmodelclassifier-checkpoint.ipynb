{
 "cells": [
  {
   "cell_type": "code",
   "execution_count": 74,
   "id": "16b9eb7d-9781-4762-aa6e-7dfb05e8e5ac",
   "metadata": {},
   "outputs": [],
   "source": [
    "import pandas as pd\n",
    "import numpy as np\n",
    "import datetime\n",
    "import random as rd\n",
    "\n",
    "from sklearn.model_selection import train_test_split\n",
    "from sklearn.ensemble import RandomForestClassifier\n",
    "from sklearn.metrics import accuracy_score\n",
    "\n",
    "from pathlib import Path\n",
    "\n",
    "import seaborn as sns\n",
    "import matplotlib.pyplot as plt\n",
    "\n",
    "%matplotlib inline"
   ]
  },
  {
   "cell_type": "markdown",
   "id": "ae813b23-721b-4bfb-b112-96b87e6b25ec",
   "metadata": {},
   "source": [
    "## Import both model datasets"
   ]
  },
  {
   "cell_type": "code",
   "execution_count": 75,
   "id": "a7002784-badd-4291-b5a9-e03e7019144d",
   "metadata": {},
   "outputs": [],
   "source": [
    "model_1_path = Path('data/model_1.csv')\n",
    "model_2_path = Path('data/model_2.csv')\n",
    "\n",
    "dfmdl1 = pd.read_csv(model_1_path)\n",
    "dfmdl2 = pd.read_csv(model_2_path)"
   ]
  },
  {
   "cell_type": "markdown",
   "id": "76dc239d-e4b2-4727-9496-eafc9ea2aa07",
   "metadata": {},
   "source": [
    "# Model 1 Classification"
   ]
  },
  {
   "cell_type": "markdown",
   "id": "bdb1f035-9a70-4fe4-b3d9-55b59603e627",
   "metadata": {},
   "source": [
    "## Missing Data Handling for Model 1"
   ]
  },
  {
   "cell_type": "code",
   "execution_count": 76,
   "id": "9b2fa7b5-2a04-45f6-9fe6-c33caf9d1a92",
   "metadata": {},
   "outputs": [],
   "source": [
    "# Assume following attributes as 0 when missing\n",
    "dfmdl1['CAPX'] = dfmdl1['CAPX'].fillna(0)\n",
    "dfmdl1['Dividends'] = dfmdl1['Dividends'].fillna(0)\n",
    "dfmdl1['Dividend_yields_new'] = dfmdl1['Dividend_yields_new'].fillna(0)\n",
    "dfmdl1['Assets_yoy'] = dfmdl1['Assets_yoy'].fillna(0)\n",
    "dfmdl1['Cash_yoy'] = dfmdl1['Cash_yoy'].fillna(0)\n",
    "dfmdl1['CFO_qoq'] = dfmdl1['CFO_qoq'].fillna(0)\n",
    "dfmdl1['FCF_qoq'] = dfmdl1['FCF_qoq'].fillna(0)\n",
    "\n",
    "# Assume missing gross margin = net margin  (rationale: certain industry doesn't report gross margin)\n",
    "dfmdl1['Gross_margin'] = dfmdl1['Gross_margin'].fillna(dfmdl1['Operating_margin'])\n",
    "\n",
    "# Assume missing QoQ change from average\n",
    "dfmdl1[\"Revenue_qoq\"]  = dfmdl1['Revenue_qoq'].fillna(dfmdl1.groupby('Ticker')['Revenue_qoq'].transform('mean'))\n",
    "dfmdl1[\"Net_Income_qoq\"]  = dfmdl1['Net_Income_qoq'].fillna(dfmdl1.groupby('Ticker')['Net_Income_qoq'].transform('mean'))\n",
    "dfmdl1[\"Gross_margin_qoq\"]  = dfmdl1['Gross_margin_qoq'].fillna(dfmdl1.groupby('Ticker')['Gross_margin_qoq'].transform('mean'))\n",
    "dfmdl1[\"Operating_margin_qoq\"]  = dfmdl1['Operating_margin_qoq'].fillna(dfmdl1.groupby('Ticker')['Operating_margin_qoq'].transform('mean'))\n",
    "dfmdl1[\"Net_margin_qoq\"]  = dfmdl1['Net_margin_qoq'].fillna(dfmdl1.groupby('Ticker')['Net_margin_qoq'].transform('mean'))\n",
    "# if still missing: \n",
    "dfmdl1[\"Gross_margin_qoq\"]  = dfmdl1['Gross_margin_qoq'].fillna(dfmdl1['Operating_margin_qoq'])\n",
    "\n",
    "\n",
    "# Assume missing YoY change is interpolated from QoQ \n",
    "def interpolation(df,var):\n",
    "    df[var+'_yoy'].fillna((1+df[var+'_qoq'])**4-1, inplace=True)\n",
    "    return df\n",
    "\n",
    "for var in ['Revenue','Net_Income','Gross_margin','Operating_margin','Net_margin']:\n",
    "    interpolation(dfmdl1,var)\n",
    "\n",
    "# Assume missing sentiment score from ticker's average, it still missing then 0\n",
    "dfmdl1[\"cs_last5\"]  = dfmdl1['cs_last5'].fillna(dfmdl1.groupby('Ticker')['cs_last5'].transform('mean'))\n",
    "dfmdl1['cs_last5'] = dfmdl1['cs_last5'].fillna(0)"
   ]
  },
  {
   "cell_type": "markdown",
   "id": "4be301dc-3ff8-49cf-9cc6-31b9ee1f83f4",
   "metadata": {},
   "source": [
    "## Create Target signal for binary classification"
   ]
  },
  {
   "cell_type": "code",
   "execution_count": 77,
   "id": "6250c503-ad33-4fee-af9d-cba32752551e",
   "metadata": {},
   "outputs": [],
   "source": [
    "# Give signal of 1 for positive returns, otherwise 0\n",
    "dfmdl1['target'] = np.where(dfmdl1['T0_5'] > 0.0, 1.0, 0.0)"
   ]
  },
  {
   "cell_type": "code",
   "execution_count": 78,
   "id": "642a6789-6a0e-4ce5-8b5e-43f8b5ab83d3",
   "metadata": {},
   "outputs": [],
   "source": [
    "# Drop all remaining Null values\n",
    "dfmdl1.dropna(inplace=True)"
   ]
  },
  {
   "cell_type": "code",
   "execution_count": 79,
   "id": "570568c0-5b64-4704-b212-999aee4acda9",
   "metadata": {},
   "outputs": [
    {
     "data": {
      "text/plain": [
       "(7814, 85)"
      ]
     },
     "execution_count": 79,
     "metadata": {},
     "output_type": "execute_result"
    }
   ],
   "source": [
    "dfmdl1.shape"
   ]
  },
  {
   "cell_type": "code",
   "execution_count": 80,
   "id": "cdadb373-5a22-4771-b455-5086b5f9d902",
   "metadata": {},
   "outputs": [
    {
     "data": {
      "text/plain": [
       "Index(['Ticker', 'Fiscal Period', 'Sector', 'Industry', 'Next_EarningDate'], dtype='object')"
      ]
     },
     "execution_count": 80,
     "metadata": {},
     "output_type": "execute_result"
    }
   ],
   "source": [
    "dfmdl1.select_dtypes(include='O').columns"
   ]
  },
  {
   "cell_type": "markdown",
   "id": "356bd1d4-1c06-4ea2-ad00-5e003cdac17f",
   "metadata": {},
   "source": [
    "## Feature Encoding for object datatypes"
   ]
  },
  {
   "cell_type": "code",
   "execution_count": 81,
   "id": "c76eaf0d-27f6-4a37-a5ce-48ad88bac243",
   "metadata": {},
   "outputs": [],
   "source": [
    "def label_encoding(data, feature):\n",
    "    mapping_dict = {}\n",
    "    for i, feature_value in enumerate(list(data[feature].sort_values().unique())):\n",
    "        mapping_dict[feature_value] = i+1\n",
    "    data[feature] = data[feature].map(lambda x: mapping_dict[x])\n",
    "    return data"
   ]
  },
  {
   "cell_type": "code",
   "execution_count": 82,
   "id": "151e0792-745b-4264-96ee-478407a75f57",
   "metadata": {},
   "outputs": [],
   "source": [
    "def target_encoding(data, columns: list, target):\n",
    "    empty_dict = {}\n",
    "    \n",
    "    for col in columns:\n",
    "        grouped = data[[col,target]].groupby(col,as_index=False).mean()\n",
    "        \n",
    "        for i in range(len(grouped)):\n",
    "            empty_dict[grouped.iloc[i,0]]=grouped.iloc[i,1]\n",
    "            \n",
    "        data[col]=data[col].map(lambda x: empty_dict[x])\n",
    "    \n",
    "    return data"
   ]
  },
  {
   "cell_type": "code",
   "execution_count": 83,
   "id": "a9a44831-02e3-4081-a5d1-a3ab486ec0d4",
   "metadata": {},
   "outputs": [],
   "source": [
    "# Split date column into individual 'Year', 'Month', 'Day' columns\n",
    "dfmdl1.Next_EarningDate = pd.to_datetime(dfmdl1.Next_EarningDate, format='%Y-%m-%d')\n",
    "dfmdl1['Next_EarningDate_Y'] = dfmdl1.Next_EarningDate.dt.year\n",
    "dfmdl1['Next_EarningDate_M'] = dfmdl1.Next_EarningDate.dt.month\n",
    "dfmdl1['Next_EarningDate_D'] = dfmdl1.Next_EarningDate.dt.day\n",
    "dfmdl1.drop(columns=['Next_EarningDate'], inplace=True)"
   ]
  },
  {
   "cell_type": "code",
   "execution_count": 84,
   "id": "4ca829a4-8018-4536-b874-976d0c9260c1",
   "metadata": {},
   "outputs": [
    {
     "name": "stdout",
     "output_type": "stream",
     "text": [
      "Fiscal Period=4\n",
      "Ticker=407\n",
      "Sector=11\n",
      "Industry=105\n"
     ]
    }
   ],
   "source": [
    "fp_unq = len(dfmdl1['Fiscal Period'].unique())\n",
    "tick_unq = len(dfmdl1['Ticker'].unique())\n",
    "sec_unq = len(dfmdl1['Sector'].unique())\n",
    "ind_unq = len(dfmdl1['Industry'].unique())\n",
    "\n",
    "print(f'Fiscal Period={fp_unq}')\n",
    "print(f'Ticker={tick_unq}')        \n",
    "print(f'Sector={sec_unq}')\n",
    "print(f'Industry={ind_unq}')"
   ]
  },
  {
   "cell_type": "code",
   "execution_count": 85,
   "id": "5938f5d4-90f1-4446-81db-e1b359100cc1",
   "metadata": {},
   "outputs": [],
   "source": [
    "# Apply label encoding on the Fiscal Period column\n",
    "dfmdl1 = label_encoding(dfmdl1, 'Fiscal Period')\n",
    "\n",
    "# Apply target encoding on Ticker, Sector, and Industry columns\n",
    "dfmdl1 = target_encoding(dfmdl1, ['Ticker','Sector','Industry'], 'T0_5')"
   ]
  },
  {
   "cell_type": "code",
   "execution_count": 86,
   "id": "aa800f87-2999-4f79-94c6-5ea13a95c3b0",
   "metadata": {},
   "outputs": [
    {
     "name": "stdout",
     "output_type": "stream",
     "text": [
      "Fiscal Period=4\n",
      "Ticker=407\n",
      "Sector=11\n",
      "Industry=105\n"
     ]
    }
   ],
   "source": [
    "# Ensure that unique values stayed consistent\n",
    "fp_unq = len(dfmdl1['Fiscal Period'].unique())\n",
    "tick_unq = len(dfmdl1['Ticker'].unique())\n",
    "sec_unq = len(dfmdl1['Sector'].unique())\n",
    "ind_unq = len(dfmdl1['Industry'].unique())\n",
    "\n",
    "print(f'Fiscal Period={fp_unq}')\n",
    "print(f'Ticker={tick_unq}')        \n",
    "print(f'Sector={sec_unq}')\n",
    "print(f'Industry={ind_unq}')"
   ]
  },
  {
   "cell_type": "code",
   "execution_count": 87,
   "id": "38df5e23-1740-4a9e-83c4-ce0e2f92c328",
   "metadata": {},
   "outputs": [],
   "source": [
    "dfmdl1.EPSsuprise_ind = dfmdl1.EPSsuprise_ind.astype(int)"
   ]
  },
  {
   "cell_type": "code",
   "execution_count": 88,
   "id": "58bee8f5-c46b-4c2d-b00d-bec1b6d911ac",
   "metadata": {},
   "outputs": [],
   "source": [
    "dfmdl1.replace([np.inf, -np.inf], np.nan, inplace=True)"
   ]
  },
  {
   "cell_type": "code",
   "execution_count": 89,
   "id": "a891dd95-32ad-4b7b-a9bd-35518fb4750e",
   "metadata": {},
   "outputs": [],
   "source": [
    "dfmdl1.dropna(inplace=True)"
   ]
  },
  {
   "cell_type": "code",
   "execution_count": 90,
   "id": "83bf68aa-c7f7-42a5-bcc0-24bff36c56ab",
   "metadata": {},
   "outputs": [
    {
     "data": {
      "text/plain": [
       "(7796, 87)"
      ]
     },
     "execution_count": 90,
     "metadata": {},
     "output_type": "execute_result"
    }
   ],
   "source": [
    "dfmdl1.shape"
   ]
  },
  {
   "cell_type": "code",
   "execution_count": 91,
   "id": "9c09d615-831f-4ae2-9a78-bb05246bf037",
   "metadata": {},
   "outputs": [
    {
     "data": {
      "text/plain": [
       "Index([], dtype='object')"
      ]
     },
     "execution_count": 91,
     "metadata": {},
     "output_type": "execute_result"
    }
   ],
   "source": [
    "dfmdl1.select_dtypes(include='O').columns"
   ]
  },
  {
   "cell_type": "markdown",
   "id": "b0f99377-c9ab-49ef-928b-4cc456074211",
   "metadata": {},
   "source": [
    "## Train Model with all features included"
   ]
  },
  {
   "cell_type": "code",
   "execution_count": 92,
   "id": "ea5dfdab-196d-49ea-b244-e8d1641dc727",
   "metadata": {},
   "outputs": [],
   "source": [
    "X1 = dfmdl1.drop(columns=['T0_5', 'target'], axis=0)\n",
    "y = dfmdl1['target']\n",
    "\n",
    "X1_train, X1_test, y_train, y_test = train_test_split(X1, \n",
    "                                                    y, \n",
    "                                                    random_state=1, \n",
    "                                                    train_size=0.7)"
   ]
  },
  {
   "cell_type": "code",
   "execution_count": 93,
   "id": "cb830cf2-6da7-4f25-a422-ed97c5519e56",
   "metadata": {},
   "outputs": [
    {
     "data": {
      "text/plain": [
       "RandomForestClassifier(random_state=42)"
      ]
     },
     "execution_count": 93,
     "metadata": {},
     "output_type": "execute_result"
    }
   ],
   "source": [
    "rf_1 = RandomForestClassifier(n_estimators=100, random_state=42)\n",
    "rf_1.fit(X1_train, y_train)"
   ]
  },
  {
   "cell_type": "markdown",
   "id": "c195bd3a-aaf3-4fc8-8550-1bd88c2e8724",
   "metadata": {},
   "source": [
    "## Display chart to show which features were the most important to the model"
   ]
  },
  {
   "cell_type": "code",
   "execution_count": 94,
   "id": "69c6819d-5d9a-47cf-9a78-67a992ff0b52",
   "metadata": {},
   "outputs": [
    {
     "data": {
      "text/plain": [
       "<AxesSubplot:xlabel='Features', ylabel='Importance'>"
      ]
     },
     "execution_count": 94,
     "metadata": {},
     "output_type": "execute_result"
    },
    {
     "data": {
      "image/png": "[encoded data removed]",
      "text/plain": [
       "<Figure size 1440x360 with 1 Axes>"
      ]
     },
     "metadata": {
      "needs_background": "light"
     },
     "output_type": "display_data"
    }
   ],
   "source": [
    "importances = rf_1.feature_importances_\n",
    "feature_df = pd.DataFrame({'Features':X1_train.columns, 'Importance': importances})\n",
    "feature_df.sort_values('Importance', ascending=False, inplace=True)\n",
    "\n",
    "plt.figure(figsize=(20,5))\n",
    "plt.xticks(rotation=90)\n",
    "sns.barplot(x=\"Features\", y= 'Importance', data=feature_df)"
   ]
  },
  {
   "cell_type": "markdown",
   "id": "017f1d61-b2c4-436a-90cb-10802463b51a",
   "metadata": {},
   "source": [
    "## Drop Features with the least importance"
   ]
  },
  {
   "cell_type": "code",
   "execution_count": 95,
   "id": "3d9df79a-780f-43be-b100-4450bd4e935d",
   "metadata": {},
   "outputs": [],
   "source": [
    "drop_feats = list(feature_df.loc[feature_df.Importance < 0.010]['Features'])"
   ]
  },
  {
   "cell_type": "code",
   "execution_count": 96,
   "id": "6a609a55-6585-410f-be6f-4a443fd22538",
   "metadata": {},
   "outputs": [],
   "source": [
    "features = list(feature_df.loc[feature_df.Importance >= 0.010]['Features'])"
   ]
  },
  {
   "cell_type": "code",
   "execution_count": 97,
   "id": "3f690e97-8a36-47ec-8443-6fbb2257182c",
   "metadata": {},
   "outputs": [
    {
     "data": {
      "text/plain": [
       "67"
      ]
     },
     "execution_count": 97,
     "metadata": {},
     "output_type": "execute_result"
    }
   ],
   "source": [
    "len(features)"
   ]
  },
  {
   "cell_type": "markdown",
   "id": "f445d87e-5b92-43fc-b75c-b3ddc8f9d5af",
   "metadata": {},
   "source": [
    "## Train another model with features dropped"
   ]
  },
  {
   "cell_type": "code",
   "execution_count": 98,
   "id": "b030fb50-e84b-406f-aed7-46bdb9a8545a",
   "metadata": {},
   "outputs": [],
   "source": [
    "X2 = X1.drop(columns=drop_feats)\n",
    "X2_train, X2_test, y_train, y_test = train_test_split(X2, y, random_state=1, train_size=0.7)"
   ]
  },
  {
   "cell_type": "code",
   "execution_count": 99,
   "id": "5759c42c-4175-45ac-ae87-086a9a240266",
   "metadata": {},
   "outputs": [
    {
     "data": {
      "text/plain": [
       "RandomForestClassifier(random_state=42)"
      ]
     },
     "execution_count": 99,
     "metadata": {},
     "output_type": "execute_result"
    }
   ],
   "source": [
    "rf_2 = RandomForestClassifier(n_estimators=100, random_state=42)\n",
    "rf_2.fit(X2_train, y_train)\n",
    "\n",
    "# sel_rfe_tree = RFE(estimator=model_tree, n_features_to_select=1, step=1)"
   ]
  },
  {
   "cell_type": "markdown",
   "id": "2bd1ef52-09c8-47aa-96fa-7486c7249e4a",
   "metadata": {},
   "source": [
    "## Prediction Probabilities"
   ]
  },
  {
   "cell_type": "code",
   "execution_count": 203,
   "id": "c68762dc-fcbc-456c-b080-06b3818d1c67",
   "metadata": {},
   "outputs": [],
   "source": [
    "r1_probs = [0 for _ in range(len(y_test))]\n",
    "rf1_probs = rf_1.predict_proba(X1_test)\n",
    "rf2_probs = rf_2.predict_proba(X2_test)"
   ]
  },
  {
   "cell_type": "markdown",
   "id": "6c54ba04-592f-4699-abe5-2e3cb643baac",
   "metadata": {},
   "source": [
    "Probabilities for a Positive outcome is kept"
   ]
  },
  {
   "cell_type": "code",
   "execution_count": 206,
   "id": "1b01548b-a740-47c7-8f04-0ac7bcc79c43",
   "metadata": {},
   "outputs": [],
   "source": [
    "rf1_probs = rf1_probs[:, 1]\n",
    "rf2_probs = rf2_probs[:, 1]"
   ]
  },
  {
   "cell_type": "markdown",
   "id": "660c27be-40f7-493f-a48d-02972ee92a04",
   "metadata": {},
   "source": [
    "## Computing AUC and ROC curve"
   ]
  },
  {
   "cell_type": "code",
   "execution_count": 102,
   "id": "623184a3-7cbe-4149-a622-b479362e0385",
   "metadata": {},
   "outputs": [],
   "source": [
    "from sklearn.metrics import roc_auc_score, roc_curve"
   ]
  },
  {
   "cell_type": "markdown",
   "id": "2d075f1a-3975-46db-adc6-b138fd3b11fe",
   "metadata": {},
   "source": [
    "#### Calculate AUC\n",
    "\n",
    "**ROC** is the receiver operating characteristic\n",
    "**AUC** is the area under the ROC curve"
   ]
  },
  {
   "cell_type": "code",
   "execution_count": 208,
   "id": "67c86a49-9a37-49ac-8728-18a13485b467",
   "metadata": {},
   "outputs": [],
   "source": [
    "r_auc = roc_auc_score(y_test, r1_probs)\n",
    "rf1_auc = roc_auc_score(y_test, rf1_probs)\n",
    "rf2_auc = roc_auc_score(y_test, rf2_probs)"
   ]
  },
  {
   "cell_type": "markdown",
   "id": "cecb6f62-056e-4778-87a2-c4b443ba668f",
   "metadata": {},
   "source": [
    "## AUC Scores"
   ]
  },
  {
   "cell_type": "code",
   "execution_count": 104,
   "id": "88c28360-e646-4358-8e23-bcf9a6cfff00",
   "metadata": {},
   "outputs": [
    {
     "name": "stdout",
     "output_type": "stream",
     "text": [
      "Random (chance) Prediction: AUROC = 0.500\n",
      "Random Forest Model 1 (All Features) Prediction: AUROC = 0.708\n",
      "Random Forest Model 2 (Selected Features) Prediction: Prediction: AUROC = 0.696\n"
     ]
    }
   ],
   "source": [
    "print('Random (chance) Prediction: AUROC = %.3f' %(r_auc))\n",
    "print('Random Forest Model 1 (All Features) Prediction: AUROC = %.3f' %(rf1_auc))\n",
    "print('Random Forest Model 2 (Selected Features) Prediction: Prediction: AUROC = %.3f' %(rf2_auc))"
   ]
  },
  {
   "cell_type": "markdown",
   "id": "7caa9bbf-5d9a-43a8-b5c0-4577bf1413f1",
   "metadata": {},
   "source": [
    "## Calculate ROC Curves"
   ]
  },
  {
   "cell_type": "code",
   "execution_count": 211,
   "id": "5b1a169a-1477-44b7-9177-98d0f7af2a9c",
   "metadata": {},
   "outputs": [],
   "source": [
    "r1_fpr, r1_tpr, _ = roc_curve(y_test, r1_probs)\n",
    "rf1_fpr, rf1_tpr, _ = roc_curve(y_test, rf1_probs)\n",
    "rf2_fpr, rf2_tpr, _ = roc_curve(y_test, rf2_probs)"
   ]
  },
  {
   "cell_type": "code",
   "execution_count": 195,
   "id": "0d11430a-ee9c-4d6d-809b-b68b3d28c0f5",
   "metadata": {},
   "outputs": [
    {
     "data": {
      "image/png": "[encoded data removed]",
      "text/plain": [
       "<Figure size 432x288 with 1 Axes>"
      ]
     },
     "metadata": {
      "needs_background": "light"
     },
     "output_type": "display_data"
    }
   ],
   "source": [
    "plt.plot(r_fpr,r_tpr, linestyle='--', label='Random (chance) Prediction: AUC = %.3f' %(r_auc))\n",
    "plt.plot(rf1_fpr,rf1_tpr, label='RF1 Prediction: AUC = %.3f' %(rf1_auc))\n",
    "plt.plot(rf2_fpr,rf2_tpr, label='RF2 Prediction: AUC = %.3f' %(rf2_auc))\n",
    "\n",
    "# Title\n",
    "plt.title('ROC Plot')\n",
    "\n",
    "# Axis labels\n",
    "plt.xlabel('False Positive Rate')\n",
    "plt.ylabel('True Positive Rate')\n",
    "\n",
    "# Show legend\n",
    "plt.legend()\n",
    "\n",
    "# Show Plot\n",
    "plt.show()"
   ]
  },
  {
   "cell_type": "markdown",
   "id": "4789bb9a-adbe-4260-8258-1abca26db540",
   "metadata": {},
   "source": [
    "# Model 2 Classification"
   ]
  },
  {
   "cell_type": "markdown",
   "id": "946764cb-f358-45a9-b5c0-0576d4b75015",
   "metadata": {},
   "source": [
    "## Handling Missing Data for Model 2"
   ]
  },
  {
   "cell_type": "code",
   "execution_count": 113,
   "id": "80af7aa6-8c16-41ba-93b2-53006fd987b5",
   "metadata": {},
   "outputs": [],
   "source": [
    "# Assume following attributes as 0 when missing\n",
    "dfmdl2['CAPX'] = dfmdl2['CAPX'].fillna(0)\n",
    "dfmdl2['Dividends'] = dfmdl2['Dividends'].fillna(0)\n",
    "dfmdl2['Dividend_yields_new'] = dfmdl2['Dividend_yields_new'].fillna(0)\n",
    "dfmdl2['Assets_yoy'] = dfmdl2['Assets_yoy'].fillna(0)\n",
    "dfmdl2['Cash_yoy'] = dfmdl2['Cash_yoy'].fillna(0)\n",
    "dfmdl2['CFO_qoq'] = dfmdl2['CFO_qoq'].fillna(0)\n",
    "dfmdl2['FCF_qoq'] = dfmdl2['FCF_qoq'].fillna(0)\n",
    "\n",
    "# Assume missing gross margin = net margin  (rationale: certain industry doesn't report gross margin)\n",
    "dfmdl2['Gross_margin'] = dfmdl2['Gross_margin'].fillna(dfmdl2['Operating_margin'])\n",
    "\n",
    "# Assume missing QoQ change from average\n",
    "dfmdl2[\"Revenue_qoq\"]  = dfmdl2['Revenue_qoq'].fillna(dfmdl2.groupby('Ticker')['Revenue_qoq'].transform('mean'))\n",
    "dfmdl2[\"Net_Income_qoq\"]  = dfmdl2['Net_Income_qoq'].fillna(dfmdl2.groupby('Ticker')['Net_Income_qoq'].transform('mean'))\n",
    "dfmdl2[\"Gross_margin_qoq\"]  = dfmdl2['Gross_margin_qoq'].fillna(dfmdl2.groupby('Ticker')['Gross_margin_qoq'].transform('mean'))\n",
    "dfmdl2[\"Operating_margin_qoq\"]  = dfmdl2['Operating_margin_qoq'].fillna(dfmdl2.groupby('Ticker')['Operating_margin_qoq'].transform('mean'))\n",
    "dfmdl2[\"Net_margin_qoq\"]  = dfmdl2['Net_margin_qoq'].fillna(dfmdl2.groupby('Ticker')['Net_margin_qoq'].transform('mean'))\n",
    "# if still missing: \n",
    "dfmdl2[\"Gross_margin_qoq\"]  = dfmdl2['Gross_margin_qoq'].fillna(dfmdl2['Operating_margin_qoq'])\n",
    "\n",
    "\n",
    "# Assume missing YoY change is interpolated from QoQ \n",
    "def interpolation(df,var):\n",
    "    df[var+'_yoy'].fillna((1+df[var+'_qoq'])**4-1, inplace=True)\n",
    "    return df\n",
    "\n",
    "for var in ['Revenue','Net_Income','Gross_margin','Operating_margin','Net_margin']:\n",
    "    interpolation(dfmdl2,var)\n",
    "\n",
    "# Assume missing sentiment score from ticker's average, it still missing then 0\n",
    "dfmdl2[\"cs_last5\"]  = dfmdl2['cs_last5'].fillna(dfmdl2.groupby('Ticker')['cs_last5'].transform('mean'))\n",
    "dfmdl2['cs_last5'] = dfmdl2['cs_last5'].fillna(0)"
   ]
  },
  {
   "cell_type": "code",
   "execution_count": 121,
   "id": "0d6f639a-8b38-483e-97af-8f84eb78d1af",
   "metadata": {},
   "outputs": [
    {
     "data": {
      "text/plain": [
       "(8241, 88)"
      ]
     },
     "execution_count": 121,
     "metadata": {},
     "output_type": "execute_result"
    }
   ],
   "source": [
    "dfmdl2.shape"
   ]
  },
  {
   "cell_type": "code",
   "execution_count": 120,
   "id": "91812106-0044-45d5-a1c0-34dc9e38721d",
   "metadata": {},
   "outputs": [],
   "source": [
    "dfmdl2.dropna(inplace=True)"
   ]
  },
  {
   "cell_type": "code",
   "execution_count": 126,
   "id": "f17878c7-c1ea-41a2-a3bb-fa8db20b8d85",
   "metadata": {},
   "outputs": [],
   "source": [
    "dfmdl2['target'] = np.where(dfmdl2['T1_5'] > 0.0, 1.0, 0.0)"
   ]
  },
  {
   "cell_type": "code",
   "execution_count": 163,
   "id": "248fce25-ecb1-4072-8ad8-3aff2ed0295b",
   "metadata": {},
   "outputs": [
    {
     "data": {
      "text/plain": [
       "['Ticker', 'Fiscal Period', 'Sector', 'Industry']"
      ]
     },
     "execution_count": 163,
     "metadata": {},
     "output_type": "execute_result"
    }
   ],
   "source": [
    "list(dfmdl2.select_dtypes(include='O').columns.values)"
   ]
  },
  {
   "cell_type": "code",
   "execution_count": 141,
   "id": "04dde759-f150-47d2-bc47-6a1b989dcffb",
   "metadata": {},
   "outputs": [
    {
     "data": {
      "text/html": [
       "<div>\n",
       "<style scoped>\n",
       "    .dataframe tbody tr th:only-of-type {\n",
       "        vertical-align: middle;\n",
       "    }\n",
       "\n",
       "    .dataframe tbody tr th {\n",
       "        vertical-align: top;\n",
       "    }\n",
       "\n",
       "    .dataframe thead th {\n",
       "        text-align: right;\n",
       "    }\n",
       "</style>\n",
       "<table border=\"1\" class=\"dataframe\">\n",
       "  <thead>\n",
       "    <tr style=\"text-align: right;\">\n",
       "      <th></th>\n",
       "      <th>Ticker</th>\n",
       "      <th>Earning Date</th>\n",
       "      <th>Fiscal Period</th>\n",
       "      <th>Sector</th>\n",
       "      <th>Industry</th>\n",
       "      <th>date</th>\n",
       "      <th>nextday</th>\n",
       "      <th>lastday</th>\n",
       "    </tr>\n",
       "  </thead>\n",
       "  <tbody>\n",
       "    <tr>\n",
       "      <th>0</th>\n",
       "      <td>A</td>\n",
       "      <td>2016-08-17</td>\n",
       "      <td>Q3</td>\n",
       "      <td>Healthcare</td>\n",
       "      <td>Diagnostics &amp; Research</td>\n",
       "      <td>2016-08-18</td>\n",
       "      <td>2016-08-19</td>\n",
       "      <td>2016-08-17</td>\n",
       "    </tr>\n",
       "    <tr>\n",
       "      <th>1</th>\n",
       "      <td>A</td>\n",
       "      <td>2016-11-15</td>\n",
       "      <td>Q4</td>\n",
       "      <td>Healthcare</td>\n",
       "      <td>Diagnostics &amp; Research</td>\n",
       "      <td>2016-11-16</td>\n",
       "      <td>2016-11-17</td>\n",
       "      <td>2016-11-15</td>\n",
       "    </tr>\n",
       "    <tr>\n",
       "      <th>2</th>\n",
       "      <td>A</td>\n",
       "      <td>2017-02-14</td>\n",
       "      <td>Q1</td>\n",
       "      <td>Healthcare</td>\n",
       "      <td>Diagnostics &amp; Research</td>\n",
       "      <td>2017-02-15</td>\n",
       "      <td>2017-02-16</td>\n",
       "      <td>2017-02-14</td>\n",
       "    </tr>\n",
       "    <tr>\n",
       "      <th>3</th>\n",
       "      <td>A</td>\n",
       "      <td>2017-05-22</td>\n",
       "      <td>Q2</td>\n",
       "      <td>Healthcare</td>\n",
       "      <td>Diagnostics &amp; Research</td>\n",
       "      <td>2017-05-23</td>\n",
       "      <td>2017-05-24</td>\n",
       "      <td>2017-05-22</td>\n",
       "    </tr>\n",
       "    <tr>\n",
       "      <th>4</th>\n",
       "      <td>A</td>\n",
       "      <td>2017-08-15</td>\n",
       "      <td>Q3</td>\n",
       "      <td>Healthcare</td>\n",
       "      <td>Diagnostics &amp; Research</td>\n",
       "      <td>2017-08-16</td>\n",
       "      <td>2017-08-17</td>\n",
       "      <td>2017-08-15</td>\n",
       "    </tr>\n",
       "    <tr>\n",
       "      <th>...</th>\n",
       "      <td>...</td>\n",
       "      <td>...</td>\n",
       "      <td>...</td>\n",
       "      <td>...</td>\n",
       "      <td>...</td>\n",
       "      <td>...</td>\n",
       "      <td>...</td>\n",
       "      <td>...</td>\n",
       "    </tr>\n",
       "    <tr>\n",
       "      <th>8268</th>\n",
       "      <td>WYNN</td>\n",
       "      <td>2020-05-06</td>\n",
       "      <td>Q1</td>\n",
       "      <td>Consumer Cyclical</td>\n",
       "      <td>Resorts &amp; Casinos</td>\n",
       "      <td>2020-05-07</td>\n",
       "      <td>2020-05-08</td>\n",
       "      <td>2020-05-06</td>\n",
       "    </tr>\n",
       "    <tr>\n",
       "      <th>8269</th>\n",
       "      <td>WYNN</td>\n",
       "      <td>2020-08-04</td>\n",
       "      <td>Q2</td>\n",
       "      <td>Consumer Cyclical</td>\n",
       "      <td>Resorts &amp; Casinos</td>\n",
       "      <td>2020-08-05</td>\n",
       "      <td>2020-08-06</td>\n",
       "      <td>2020-08-04</td>\n",
       "    </tr>\n",
       "    <tr>\n",
       "      <th>8270</th>\n",
       "      <td>WYNN</td>\n",
       "      <td>2020-11-05</td>\n",
       "      <td>Q3</td>\n",
       "      <td>Consumer Cyclical</td>\n",
       "      <td>Resorts &amp; Casinos</td>\n",
       "      <td>2020-11-06</td>\n",
       "      <td>2020-11-09</td>\n",
       "      <td>2020-11-05</td>\n",
       "    </tr>\n",
       "    <tr>\n",
       "      <th>8271</th>\n",
       "      <td>WYNN</td>\n",
       "      <td>2021-02-04</td>\n",
       "      <td>Q4</td>\n",
       "      <td>Consumer Cyclical</td>\n",
       "      <td>Resorts &amp; Casinos</td>\n",
       "      <td>2021-02-05</td>\n",
       "      <td>2021-02-08</td>\n",
       "      <td>2021-02-04</td>\n",
       "    </tr>\n",
       "    <tr>\n",
       "      <th>8272</th>\n",
       "      <td>WYNN</td>\n",
       "      <td>2021-05-10</td>\n",
       "      <td>Q1</td>\n",
       "      <td>Consumer Cyclical</td>\n",
       "      <td>Resorts &amp; Casinos</td>\n",
       "      <td>2021-05-11</td>\n",
       "      <td>2021-05-12</td>\n",
       "      <td>2021-05-10</td>\n",
       "    </tr>\n",
       "  </tbody>\n",
       "</table>\n",
       "<p>8241 rows × 8 columns</p>\n",
       "</div>"
      ],
      "text/plain": [
       "     Ticker Earning Date Fiscal Period             Sector  \\\n",
       "0         A   2016-08-17            Q3         Healthcare   \n",
       "1         A   2016-11-15            Q4         Healthcare   \n",
       "2         A   2017-02-14            Q1         Healthcare   \n",
       "3         A   2017-05-22            Q2         Healthcare   \n",
       "4         A   2017-08-15            Q3         Healthcare   \n",
       "...     ...          ...           ...                ...   \n",
       "8268   WYNN   2020-05-06            Q1  Consumer Cyclical   \n",
       "8269   WYNN   2020-08-04            Q2  Consumer Cyclical   \n",
       "8270   WYNN   2020-11-05            Q3  Consumer Cyclical   \n",
       "8271   WYNN   2021-02-04            Q4  Consumer Cyclical   \n",
       "8272   WYNN   2021-05-10            Q1  Consumer Cyclical   \n",
       "\n",
       "                    Industry        date     nextday     lastday  \n",
       "0     Diagnostics & Research  2016-08-18  2016-08-19  2016-08-17  \n",
       "1     Diagnostics & Research  2016-11-16  2016-11-17  2016-11-15  \n",
       "2     Diagnostics & Research  2017-02-15  2017-02-16  2017-02-14  \n",
       "3     Diagnostics & Research  2017-05-23  2017-05-24  2017-05-22  \n",
       "4     Diagnostics & Research  2017-08-16  2017-08-17  2017-08-15  \n",
       "...                      ...         ...         ...         ...  \n",
       "8268       Resorts & Casinos  2020-05-07  2020-05-08  2020-05-06  \n",
       "8269       Resorts & Casinos  2020-08-05  2020-08-06  2020-08-04  \n",
       "8270       Resorts & Casinos  2020-11-06  2020-11-09  2020-11-05  \n",
       "8271       Resorts & Casinos  2021-02-05  2021-02-08  2021-02-04  \n",
       "8272       Resorts & Casinos  2021-05-11  2021-05-12  2021-05-10  \n",
       "\n",
       "[8241 rows x 8 columns]"
      ]
     },
     "execution_count": 141,
     "metadata": {},
     "output_type": "execute_result"
    }
   ],
   "source": [
    "dfmdl2[['Ticker', 'Earning Date', 'Fiscal Period',\n",
    " 'Sector',\n",
    " 'Industry',\n",
    " 'date',\n",
    " 'nextday',\n",
    " 'lastday']]"
   ]
  },
  {
   "cell_type": "code",
   "execution_count": 142,
   "id": "5f512395-1ea8-4fc5-9925-5a7a1dee56bf",
   "metadata": {},
   "outputs": [],
   "source": [
    "dfmdl2.drop(columns='lastday', axis=0, inplace=True)"
   ]
  },
  {
   "cell_type": "code",
   "execution_count": 154,
   "id": "936c2c86-d1e0-46e3-aba6-3922515279c2",
   "metadata": {},
   "outputs": [],
   "source": [
    "def date_handler(data, columns):\n",
    "    for col in columns:      \n",
    "        data[col] = pd.to_datetime(data[col], format='%Y-%m-%d')\n",
    "        data[col+'_Y'] = data.col.dt.year\n",
    "        data[col+'_M'] = data.col.dt.month\n",
    "        data[col+'_D'] = data.col.dt.day\n",
    "        data.drop(columns=[col], inplace=True)\n",
    "    return data"
   ]
  },
  {
   "cell_type": "code",
   "execution_count": 151,
   "id": "5b51b0f5-4f3f-4c15-a685-d6f7cfc3c893",
   "metadata": {},
   "outputs": [],
   "source": [
    "date_columns = ['Earning Date','date','nextday']"
   ]
  },
  {
   "cell_type": "code",
   "execution_count": 152,
   "id": "2468ac3c-deaa-4933-bab8-4feded208b0f",
   "metadata": {},
   "outputs": [
    {
     "name": "stderr",
     "output_type": "stream",
     "text": [
      "/var/folders/g0/x29rhtxs77n94c0nv9tn68km0000gn/T/ipykernel_6536/3373166234.py:3: UserWarning: Pandas doesn't allow columns to be created via a new attribute name - see https://pandas.pydata.org/pandas-docs/stable/indexing.html#attribute-access\n",
      "  data.col = pd.to_datetime(data[col], format='%Y-%m-%d')\n"
     ]
    }
   ],
   "source": [
    "dfmdl2 = date_handler(dfmdl2, date_columns)"
   ]
  },
  {
   "cell_type": "code",
   "execution_count": 160,
   "id": "20509fa9-3685-4ab6-9158-59fae3236ff1",
   "metadata": {},
   "outputs": [
    {
     "data": {
      "text/html": [
       "<div>\n",
       "<style scoped>\n",
       "    .dataframe tbody tr th:only-of-type {\n",
       "        vertical-align: middle;\n",
       "    }\n",
       "\n",
       "    .dataframe tbody tr th {\n",
       "        vertical-align: top;\n",
       "    }\n",
       "\n",
       "    .dataframe thead th {\n",
       "        text-align: right;\n",
       "    }\n",
       "</style>\n",
       "<table border=\"1\" class=\"dataframe\">\n",
       "  <thead>\n",
       "    <tr style=\"text-align: right;\">\n",
       "      <th></th>\n",
       "      <th>Ticker</th>\n",
       "      <th>beta_30avg</th>\n",
       "      <th>adjclose</th>\n",
       "      <th>Fiscal Year</th>\n",
       "      <th>Fiscal Period</th>\n",
       "      <th>Revenue</th>\n",
       "      <th>Net_income</th>\n",
       "      <th>Shares</th>\n",
       "      <th>Cash</th>\n",
       "      <th>Assets</th>\n",
       "      <th>...</th>\n",
       "      <th>T1</th>\n",
       "      <th>T1_5</th>\n",
       "      <th>target</th>\n",
       "      <th>Earning Date_Y</th>\n",
       "      <th>Earning Date_M</th>\n",
       "      <th>Earning Date_D</th>\n",
       "      <th>date_M</th>\n",
       "      <th>date_D</th>\n",
       "      <th>nextday_M</th>\n",
       "      <th>nextday_D</th>\n",
       "    </tr>\n",
       "  </thead>\n",
       "  <tbody>\n",
       "    <tr>\n",
       "      <th>0</th>\n",
       "      <td>A</td>\n",
       "      <td>1.562381</td>\n",
       "      <td>46.201164</td>\n",
       "      <td>2016</td>\n",
       "      <td>Q3</td>\n",
       "      <td>1.044000e+09</td>\n",
       "      <td>124000000</td>\n",
       "      <td>325000000.0</td>\n",
       "      <td>2.199000e+09</td>\n",
       "      <td>7734000000</td>\n",
       "      <td>...</td>\n",
       "      <td>44.569862</td>\n",
       "      <td>-0.000428</td>\n",
       "      <td>0.0</td>\n",
       "      <td>2016</td>\n",
       "      <td>8</td>\n",
       "      <td>17</td>\n",
       "      <td>8</td>\n",
       "      <td>18</td>\n",
       "      <td>8</td>\n",
       "      <td>19</td>\n",
       "    </tr>\n",
       "    <tr>\n",
       "      <th>1</th>\n",
       "      <td>A</td>\n",
       "      <td>1.727714</td>\n",
       "      <td>43.418201</td>\n",
       "      <td>2016</td>\n",
       "      <td>Q4</td>\n",
       "      <td>1.111000e+09</td>\n",
       "      <td>126000000</td>\n",
       "      <td>324000000.0</td>\n",
       "      <td>2.289000e+09</td>\n",
       "      <td>7794000000</td>\n",
       "      <td>...</td>\n",
       "      <td>44.164143</td>\n",
       "      <td>-0.037246</td>\n",
       "      <td>0.0</td>\n",
       "      <td>2016</td>\n",
       "      <td>11</td>\n",
       "      <td>15</td>\n",
       "      <td>11</td>\n",
       "      <td>16</td>\n",
       "      <td>11</td>\n",
       "      <td>17</td>\n",
       "    </tr>\n",
       "    <tr>\n",
       "      <th>2</th>\n",
       "      <td>A</td>\n",
       "      <td>2.014411</td>\n",
       "      <td>48.329895</td>\n",
       "      <td>2017</td>\n",
       "      <td>Q1</td>\n",
       "      <td>1.067000e+09</td>\n",
       "      <td>168000000</td>\n",
       "      <td>322000000.0</td>\n",
       "      <td>2.241000e+09</td>\n",
       "      <td>7872000000</td>\n",
       "      <td>...</td>\n",
       "      <td>49.509624</td>\n",
       "      <td>-0.005424</td>\n",
       "      <td>0.0</td>\n",
       "      <td>2017</td>\n",
       "      <td>2</td>\n",
       "      <td>14</td>\n",
       "      <td>2</td>\n",
       "      <td>15</td>\n",
       "      <td>2</td>\n",
       "      <td>16</td>\n",
       "    </tr>\n",
       "    <tr>\n",
       "      <th>3</th>\n",
       "      <td>A</td>\n",
       "      <td>1.260812</td>\n",
       "      <td>53.920761</td>\n",
       "      <td>2017</td>\n",
       "      <td>Q2</td>\n",
       "      <td>1.102000e+09</td>\n",
       "      <td>164000000</td>\n",
       "      <td>321000000.0</td>\n",
       "      <td>2.389000e+09</td>\n",
       "      <td>8016000000</td>\n",
       "      <td>...</td>\n",
       "      <td>56.401424</td>\n",
       "      <td>0.029151</td>\n",
       "      <td>1.0</td>\n",
       "      <td>2017</td>\n",
       "      <td>5</td>\n",
       "      <td>22</td>\n",
       "      <td>5</td>\n",
       "      <td>23</td>\n",
       "      <td>5</td>\n",
       "      <td>24</td>\n",
       "    </tr>\n",
       "    <tr>\n",
       "      <th>4</th>\n",
       "      <td>A</td>\n",
       "      <td>1.045623</td>\n",
       "      <td>57.220871</td>\n",
       "      <td>2017</td>\n",
       "      <td>Q3</td>\n",
       "      <td>1.114000e+09</td>\n",
       "      <td>175000000</td>\n",
       "      <td>321000000.0</td>\n",
       "      <td>2.563000e+09</td>\n",
       "      <td>8261000000</td>\n",
       "      <td>...</td>\n",
       "      <td>59.880497</td>\n",
       "      <td>0.013196</td>\n",
       "      <td>1.0</td>\n",
       "      <td>2017</td>\n",
       "      <td>8</td>\n",
       "      <td>15</td>\n",
       "      <td>8</td>\n",
       "      <td>16</td>\n",
       "      <td>8</td>\n",
       "      <td>17</td>\n",
       "    </tr>\n",
       "  </tbody>\n",
       "</table>\n",
       "<p>5 rows × 92 columns</p>\n",
       "</div>"
      ],
      "text/plain": [
       "  Ticker  beta_30avg   adjclose  Fiscal Year Fiscal Period       Revenue  \\\n",
       "0      A    1.562381  46.201164         2016            Q3  1.044000e+09   \n",
       "1      A    1.727714  43.418201         2016            Q4  1.111000e+09   \n",
       "2      A    2.014411  48.329895         2017            Q1  1.067000e+09   \n",
       "3      A    1.260812  53.920761         2017            Q2  1.102000e+09   \n",
       "4      A    1.045623  57.220871         2017            Q3  1.114000e+09   \n",
       "\n",
       "   Net_income       Shares          Cash      Assets  ...         T1  \\\n",
       "0   124000000  325000000.0  2.199000e+09  7734000000  ...  44.569862   \n",
       "1   126000000  324000000.0  2.289000e+09  7794000000  ...  44.164143   \n",
       "2   168000000  322000000.0  2.241000e+09  7872000000  ...  49.509624   \n",
       "3   164000000  321000000.0  2.389000e+09  8016000000  ...  56.401424   \n",
       "4   175000000  321000000.0  2.563000e+09  8261000000  ...  59.880497   \n",
       "\n",
       "       T1_5  target  Earning Date_Y  Earning Date_M  Earning Date_D  date_M  \\\n",
       "0 -0.000428     0.0            2016               8              17       8   \n",
       "1 -0.037246     0.0            2016              11              15      11   \n",
       "2 -0.005424     0.0            2017               2              14       2   \n",
       "3  0.029151     1.0            2017               5              22       5   \n",
       "4  0.013196     1.0            2017               8              15       8   \n",
       "\n",
       "   date_D  nextday_M  nextday_D  \n",
       "0      18          8         19  \n",
       "1      16         11         17  \n",
       "2      15          2         16  \n",
       "3      23          5         24  \n",
       "4      16          8         17  \n",
       "\n",
       "[5 rows x 92 columns]"
      ]
     },
     "execution_count": 160,
     "metadata": {},
     "output_type": "execute_result"
    }
   ],
   "source": [
    "dfmdl2.head()"
   ]
  },
  {
   "cell_type": "code",
   "execution_count": 162,
   "id": "55a0797b-24ea-46b1-a8ad-8f3529f7d082",
   "metadata": {},
   "outputs": [
    {
     "data": {
      "text/html": [
       "<div>\n",
       "<style scoped>\n",
       "    .dataframe tbody tr th:only-of-type {\n",
       "        vertical-align: middle;\n",
       "    }\n",
       "\n",
       "    .dataframe tbody tr th {\n",
       "        vertical-align: top;\n",
       "    }\n",
       "\n",
       "    .dataframe thead th {\n",
       "        text-align: right;\n",
       "    }\n",
       "</style>\n",
       "<table border=\"1\" class=\"dataframe\">\n",
       "  <thead>\n",
       "    <tr style=\"text-align: right;\">\n",
       "      <th></th>\n",
       "      <th>Fiscal Year</th>\n",
       "      <th>Earning Date_Y</th>\n",
       "      <th>Earning Date_M</th>\n",
       "      <th>date_M</th>\n",
       "      <th>nextday_M</th>\n",
       "    </tr>\n",
       "  </thead>\n",
       "  <tbody>\n",
       "    <tr>\n",
       "      <th>count</th>\n",
       "      <td>8241.000000</td>\n",
       "      <td>8241.000000</td>\n",
       "      <td>8241.000000</td>\n",
       "      <td>8241.000000</td>\n",
       "      <td>8241.000000</td>\n",
       "    </tr>\n",
       "    <tr>\n",
       "      <th>mean</th>\n",
       "      <td>2018.334547</td>\n",
       "      <td>2018.531853</td>\n",
       "      <td>5.931683</td>\n",
       "      <td>5.999393</td>\n",
       "      <td>6.093314</td>\n",
       "    </tr>\n",
       "    <tr>\n",
       "      <th>std</th>\n",
       "      <td>1.485801</td>\n",
       "      <td>1.491639</td>\n",
       "      <td>3.250477</td>\n",
       "      <td>3.246750</td>\n",
       "      <td>3.245109</td>\n",
       "    </tr>\n",
       "    <tr>\n",
       "      <th>min</th>\n",
       "      <td>2016.000000</td>\n",
       "      <td>2016.000000</td>\n",
       "      <td>1.000000</td>\n",
       "      <td>1.000000</td>\n",
       "      <td>1.000000</td>\n",
       "    </tr>\n",
       "    <tr>\n",
       "      <th>25%</th>\n",
       "      <td>2017.000000</td>\n",
       "      <td>2017.000000</td>\n",
       "      <td>4.000000</td>\n",
       "      <td>4.000000</td>\n",
       "      <td>4.000000</td>\n",
       "    </tr>\n",
       "    <tr>\n",
       "      <th>50%</th>\n",
       "      <td>2018.000000</td>\n",
       "      <td>2019.000000</td>\n",
       "      <td>5.000000</td>\n",
       "      <td>5.000000</td>\n",
       "      <td>5.000000</td>\n",
       "    </tr>\n",
       "    <tr>\n",
       "      <th>75%</th>\n",
       "      <td>2020.000000</td>\n",
       "      <td>2020.000000</td>\n",
       "      <td>8.000000</td>\n",
       "      <td>8.000000</td>\n",
       "      <td>8.000000</td>\n",
       "    </tr>\n",
       "    <tr>\n",
       "      <th>max</th>\n",
       "      <td>2021.000000</td>\n",
       "      <td>2021.000000</td>\n",
       "      <td>12.000000</td>\n",
       "      <td>12.000000</td>\n",
       "      <td>12.000000</td>\n",
       "    </tr>\n",
       "  </tbody>\n",
       "</table>\n",
       "</div>"
      ],
      "text/plain": [
       "       Fiscal Year  Earning Date_Y  Earning Date_M       date_M    nextday_M\n",
       "count  8241.000000     8241.000000     8241.000000  8241.000000  8241.000000\n",
       "mean   2018.334547     2018.531853        5.931683     5.999393     6.093314\n",
       "std       1.485801        1.491639        3.250477     3.246750     3.245109\n",
       "min    2016.000000     2016.000000        1.000000     1.000000     1.000000\n",
       "25%    2017.000000     2017.000000        4.000000     4.000000     4.000000\n",
       "50%    2018.000000     2019.000000        5.000000     5.000000     5.000000\n",
       "75%    2020.000000     2020.000000        8.000000     8.000000     8.000000\n",
       "max    2021.000000     2021.000000       12.000000    12.000000    12.000000"
      ]
     },
     "execution_count": 162,
     "metadata": {},
     "output_type": "execute_result"
    }
   ],
   "source": [
    "dfmdl2[['Fiscal Year', 'Earning Date_Y', 'Earning Date_M', 'date_M', 'nextday_M']].describe()"
   ]
  },
  {
   "cell_type": "code",
   "execution_count": 159,
   "id": "258fa6e5-c12c-422d-a6a8-b64af84debaa",
   "metadata": {},
   "outputs": [],
   "source": [
    "dfmdl2.drop(columns=['date_Y', 'nextday_Y'], axis=0, inplace=True)"
   ]
  },
  {
   "cell_type": "code",
   "execution_count": 164,
   "id": "98b2f144-8de3-4d52-99fc-acedb0816348",
   "metadata": {},
   "outputs": [
    {
     "name": "stdout",
     "output_type": "stream",
     "text": [
      "Fiscal Period=4\n",
      "Ticker=408\n",
      "Sector=11\n",
      "Industry=105\n"
     ]
    }
   ],
   "source": [
    "fp_unq = len(dfmdl2['Fiscal Period'].unique())\n",
    "tick_unq = len(dfmdl2['Ticker'].unique())\n",
    "sec_unq = len(dfmdl2['Sector'].unique())\n",
    "ind_unq = len(dfmdl2['Industry'].unique())\n",
    "\n",
    "print(f'Fiscal Period={fp_unq}')\n",
    "print(f'Ticker={tick_unq}')        \n",
    "print(f'Sector={sec_unq}')\n",
    "print(f'Industry={ind_unq}')"
   ]
  },
  {
   "cell_type": "code",
   "execution_count": 166,
   "id": "142e73f6-e4ce-4bcd-9eee-a4699f20b642",
   "metadata": {},
   "outputs": [],
   "source": [
    "# Apply label encoding on the Fiscal Period column\n",
    "dfmdl2 = label_encoding(dfmdl2, 'Fiscal Period')\n",
    "\n",
    "# Apply target encoding on Ticker, Sector, and Industry columns\n",
    "dfmdl2 = target_encoding(dfmdl2, ['Ticker','Sector','Industry'], 'T1_5')"
   ]
  },
  {
   "cell_type": "code",
   "execution_count": 167,
   "id": "8ba07052-7fe1-47f0-af8b-77d0da2e6568",
   "metadata": {},
   "outputs": [
    {
     "name": "stdout",
     "output_type": "stream",
     "text": [
      "Fiscal Period=4\n",
      "Ticker=408\n",
      "Sector=11\n",
      "Industry=105\n"
     ]
    }
   ],
   "source": [
    "fp_unq = len(dfmdl2['Fiscal Period'].unique())\n",
    "tick_unq = len(dfmdl2['Ticker'].unique())\n",
    "sec_unq = len(dfmdl2['Sector'].unique())\n",
    "ind_unq = len(dfmdl2['Industry'].unique())\n",
    "\n",
    "print(f'Fiscal Period={fp_unq}')\n",
    "print(f'Ticker={tick_unq}')        \n",
    "print(f'Sector={sec_unq}')\n",
    "print(f'Industry={ind_unq}')"
   ]
  },
  {
   "cell_type": "code",
   "execution_count": 168,
   "id": "a7ca4cba-574b-4392-a4fc-ccf212ac28da",
   "metadata": {},
   "outputs": [],
   "source": [
    "dfmdl2.EPSsuprise_ind = dfmdl2.EPSsuprise_ind.astype(int)"
   ]
  },
  {
   "cell_type": "code",
   "execution_count": 169,
   "id": "6628d33b-b40d-405a-8715-d96ed69c47b3",
   "metadata": {},
   "outputs": [],
   "source": [
    "dfmdl2.replace([np.inf, -np.inf], np.nan, inplace=True)"
   ]
  },
  {
   "cell_type": "code",
   "execution_count": 170,
   "id": "e93f33df-2478-4f3e-a07b-171916895cc6",
   "metadata": {},
   "outputs": [],
   "source": [
    "dfmdl2.dropna(inplace=True)"
   ]
  },
  {
   "cell_type": "code",
   "execution_count": 171,
   "id": "17a596d5-1a9b-4f07-a7e2-e9f5bf9ffeb5",
   "metadata": {},
   "outputs": [
    {
     "data": {
      "text/plain": [
       "(8221, 92)"
      ]
     },
     "execution_count": 171,
     "metadata": {},
     "output_type": "execute_result"
    }
   ],
   "source": [
    "dfmdl2.shape"
   ]
  },
  {
   "cell_type": "code",
   "execution_count": 179,
   "id": "fef793db-7195-4788-92a4-8cbfddad1455",
   "metadata": {},
   "outputs": [],
   "source": [
    "X3 = dfmdl2.drop(columns=['T1_5', 'target'], axis=0)\n",
    "y2 = dfmdl2['target']\n",
    "\n",
    "X3_train, X3_test, y2_train, y2_test = train_test_split(X3, y2, random_state=1, train_size=0.7)"
   ]
  },
  {
   "cell_type": "code",
   "execution_count": 180,
   "id": "14ad9c5f-c657-439d-8ead-0e3f03d6c190",
   "metadata": {},
   "outputs": [
    {
     "data": {
      "text/plain": [
       "RandomForestClassifier(random_state=42)"
      ]
     },
     "execution_count": 180,
     "metadata": {},
     "output_type": "execute_result"
    }
   ],
   "source": [
    "rf_3 = RandomForestClassifier(n_estimators=100, random_state=42)\n",
    "rf_3.fit(X3_train, y2_train)"
   ]
  },
  {
   "cell_type": "code",
   "execution_count": 181,
   "id": "58a0ac61-3333-4f51-953d-3b7a050407eb",
   "metadata": {},
   "outputs": [
    {
     "data": {
      "text/plain": [
       "<AxesSubplot:xlabel='Features', ylabel='Importance'>"
      ]
     },
     "execution_count": 181,
     "metadata": {},
     "output_type": "execute_result"
    },
    {
     "data": {
      "image/png": "[encoded data removed]",
      "text/plain": [
       "<Figure size 1440x360 with 1 Axes>"
      ]
     },
     "metadata": {
      "needs_background": "light"
     },
     "output_type": "display_data"
    }
   ],
   "source": [
    "importances = rf_3.feature_importances_\n",
    "feature2_df = pd.DataFrame({'Features':X3_train.columns, 'Importance': importances})\n",
    "feature2_df.sort_values('Importance', ascending=False, inplace=True)\n",
    "\n",
    "plt.figure(figsize=(20,5))\n",
    "plt.xticks(rotation=90)\n",
    "sns.barplot(x=\"Features\", y= 'Importance', data=feature2_df)"
   ]
  },
  {
   "cell_type": "code",
   "execution_count": 183,
   "id": "575fc093-2bb7-4849-a163-63a1c113ef42",
   "metadata": {},
   "outputs": [],
   "source": [
    "drop_feats2 = list(feature2_df.loc[feature2_df.Importance < 0.010]['Features'])\n",
    "features2 = list(feature2_df.loc[feature2_df.Importance >= 0.010]['Features'])"
   ]
  },
  {
   "cell_type": "code",
   "execution_count": 185,
   "id": "11e8ea9d-41a3-4329-87ff-cd360a395608",
   "metadata": {},
   "outputs": [],
   "source": [
    "X4 = X3.drop(columns=drop_feats2)\n",
    "X4_train, X4_test, y2_train, y2_test = train_test_split(X4, y2, random_state=1, train_size=0.7)"
   ]
  },
  {
   "cell_type": "code",
   "execution_count": 186,
   "id": "950ef7f5-1a3b-4ab3-a31b-d923031a135a",
   "metadata": {},
   "outputs": [
    {
     "data": {
      "text/plain": [
       "RandomForestClassifier(random_state=42)"
      ]
     },
     "execution_count": 186,
     "metadata": {},
     "output_type": "execute_result"
    }
   ],
   "source": [
    "rf_4 = RandomForestClassifier(n_estimators=100, random_state=42)\n",
    "rf_4.fit(X4_train, y_train)\n"
   ]
  },
  {
   "cell_type": "code",
   "execution_count": 212,
   "id": "97ecaa95-9b8b-4a15-870c-90baaf3c3917",
   "metadata": {},
   "outputs": [],
   "source": [
    "r2_probs = [0 for _ in range(len(y2_test))]\n",
    "rf3_probs = rf_3.predict_proba(X3_test)[:, 1]\n",
    "rf4_probs = rf_4.predict_proba(X4_test)[:, 1]"
   ]
  },
  {
   "cell_type": "code",
   "execution_count": 188,
   "id": "d1b4822a-761a-42bc-97b3-b0b552013667",
   "metadata": {},
   "outputs": [],
   "source": [
    "# rf3_probs = rf3_probs\n",
    "# rf4_probs = rf4_probs"
   ]
  },
  {
   "cell_type": "code",
   "execution_count": 213,
   "id": "d2c629b0-37a1-4dd5-9bbe-0fdeb267b2d0",
   "metadata": {},
   "outputs": [],
   "source": [
    "rf3_auc = roc_auc_score(y2_test, rf3_probs)\n",
    "rf4_auc = roc_auc_score(y2_test, rf4_probs)"
   ]
  },
  {
   "cell_type": "code",
   "execution_count": 190,
   "id": "d14423a5-7132-498b-9286-59df47a8f200",
   "metadata": {},
   "outputs": [
    {
     "name": "stdout",
     "output_type": "stream",
     "text": [
      "Random Forest Model 3 (All Features) Prediction: AUROC = 0.734\n",
      "Random Forest Model 4 (Selected Features) Prediction: Prediction: AUROC = 0.722\n"
     ]
    }
   ],
   "source": [
    "print('Random Forest Model 3 (All Features) Prediction: AUROC = %.3f' %(rf3_auc))\n",
    "print('Random Forest Model 4 (Selected Features) Prediction: Prediction: AUROC = %.3f' %(rf4_auc))"
   ]
  },
  {
   "cell_type": "code",
   "execution_count": 214,
   "id": "7edf2b93-ecc5-4009-a8ab-fe26aece2810",
   "metadata": {},
   "outputs": [],
   "source": [
    "r2_fpr, r2_tpr, _ = roc_curve(y2_test, r2_probs)\n",
    "rf3_fpr, rf3_tpr, _ = roc_curve(y2_test, rf3_probs)\n",
    "rf4_fpr, rf4_tpr, _ = roc_curve(y2_test, rf4_probs)"
   ]
  },
  {
   "cell_type": "code",
   "execution_count": 197,
   "id": "17033067-652e-42bd-ba17-c7c4af0aa30a",
   "metadata": {},
   "outputs": [
    {
     "data": {
      "image/png": "[encoded data removed]",
      "text/plain": [
       "<Figure size 432x288 with 1 Axes>"
      ]
     },
     "metadata": {
      "needs_background": "light"
     },
     "output_type": "display_data"
    }
   ],
   "source": [
    "plt.plot(r_fpr,r_tpr, linestyle='--', label='Random (chance) Prediction: AUC = %.3f' %(r_auc))\n",
    "plt.plot(rf1_fpr,rf1_tpr, label='RF model1 Prediction: AUC = %.3f' %(rf1_auc))\n",
    "# plt.plot(rf2_fpr,rf2_tpr, label='RF2 model1 Prediction: AUC = %.3f' %(rf2_auc))\n",
    "plt.plot(rf3_fpr,rf3_tpr, label='RF model2 Prediction: AUC = %.3f' %(rf3_auc))\n",
    "# plt.plot(rf4_fpr,rf4_tpr, label='RF4 model2 Prediction: AUC = %.3f' %(rf4_auc))\n",
    "\n",
    "# Title\n",
    "plt.title('ROC Plot')\n",
    "\n",
    "# Axis labels\n",
    "plt.xlabel('False Positive Rate')\n",
    "plt.ylabel('True Positive Rate')\n",
    "\n",
    "# Show legend\n",
    "plt.legend()\n",
    "\n",
    "# Show Plot\n",
    "plt.show()"
   ]
  },
  {
   "cell_type": "code",
   "execution_count": 198,
   "id": "481b38c8-e1b7-4008-9f0f-9a49f9934b3a",
   "metadata": {},
   "outputs": [],
   "source": [
    "import plotly.express as px"
   ]
  },
  {
   "cell_type": "code",
   "execution_count": 218,
   "id": "44e48dbb-2746-4990-b2a2-57957dc9386e",
   "metadata": {},
   "outputs": [],
   "source": [
    "df1 = pd.DataFrame({'Model1_FPR':rf1_fpr, 'Model1_TPR':rf1_tpr})\n",
    "df2 =  pd.DataFrame({'Model2_FPR':rf3_fpr, 'Model2_TPR':rf3_tpr})"
   ]
  },
  {
   "cell_type": "code",
   "execution_count": 202,
   "id": "e078913e-9561-4a20-8dc5-e607e01c8da9",
   "metadata": {},
   "outputs": [],
   "source": []
  },
  {
   "cell_type": "code",
   "execution_count": null,
   "id": "09a93e10-60df-4d27-acff-57a9798c1170",
   "metadata": {},
   "outputs": [],
   "source": []
  }
 ],
 "metadata": {
  "kernelspec": {
   "display_name": "Python 3 (ipykernel)",
   "language": "python",
   "name": "python3"
  },
  "language_info": {
   "codemirror_mode": {
    "name": "ipython",
    "version": 3
   },
   "file_extension": ".py",
   "mimetype": "text/x-python",
   "name": "python",
   "nbconvert_exporter": "python",
   "pygments_lexer": "ipython3",
   "version": "3.8.2"
  }
 },
 "nbformat": 4,
 "nbformat_minor": 5
}
