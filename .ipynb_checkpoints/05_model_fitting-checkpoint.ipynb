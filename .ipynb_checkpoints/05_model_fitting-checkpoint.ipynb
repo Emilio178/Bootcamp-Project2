{
 "cells": [
  {
   "cell_type": "code",
   "execution_count": 61,
   "id": "41f2b596-6ad0-4c3e-8bb1-d325b85d674a",
   "metadata": {},
   "outputs": [],
   "source": [
    "%matplotlib inline\n",
    "import pandas as pd\n",
    "import numpy as np\n",
    "import os\n",
    "import matplotlib.pyplot as plt \n",
    "# Import the main functionality from the SimFin Python API.\n",
    "import simfin as sf\n",
    "\n",
    "# Import names used for easy access to SimFin's data-columns.\n",
    "from simfin.names import *\n",
    "\n",
    "import yfinance as yf\n",
    "import yahoo_fin.stock_info as si\n",
    "# import pandas_datareader.data as web\n",
    "\n",
    "from dateutil.relativedelta import relativedelta\n",
    "from datetime import datetime\n",
    "\n",
    "pd.set_option('display.max_rows', None, 'display.max_columns', None)\n",
    "\n",
    "from sklearn.model_selection import train_test_split"
   ]
  },
  {
   "cell_type": "markdown",
   "id": "66937061-3be2-441d-a96e-a90c70589e12",
   "metadata": {},
   "source": [
    "## Model 1 \n",
    "#### Target T0_5>0 --> Event \n",
    "#### Target T0_5<0 --> Non-event"
   ]
  },
  {
   "cell_type": "code",
   "execution_count": null,
   "id": "0072c356-c3fe-4438-ad50-dfef277e0bef",
   "metadata": {},
   "outputs": [],
   "source": [
    "dfmdl1=pd.read_csv('data/model_1.csv')"
   ]
  },
  {
   "cell_type": "code",
   "execution_count": 145,
   "id": "3b7da725-5b72-4d59-b930-238e441c1951",
   "metadata": {},
   "outputs": [
    {
     "data": {
      "text/plain": [
       "(8259, 84)"
      ]
     },
     "execution_count": 145,
     "metadata": {},
     "output_type": "execute_result"
    }
   ],
   "source": [
    "dfmdl1.shape"
   ]
  },
  {
   "cell_type": "code",
   "execution_count": 146,
   "id": "bffcc7fb-84ca-4170-9100-97cd9418aa25",
   "metadata": {},
   "outputs": [
    {
     "data": {
      "text/plain": [
       "Ticker                     0\n",
       "beta_30avg                13\n",
       "adjclose                  13\n",
       "Fiscal Year                0\n",
       "Fiscal Period              0\n",
       "Revenue                    4\n",
       "Net_income                 0\n",
       "Shares                     0\n",
       "Cash                       7\n",
       "Assets                     0\n",
       "CFO                        0\n",
       "CAPX                    4450\n",
       "Dividends               1844\n",
       "FCF                        0\n",
       "EPSsuprise_ind             0\n",
       "Revenue_qoq              417\n",
       "Revenue_yoy             1731\n",
       "Net_Income_qoq           417\n",
       "Net_Income_yoy          1731\n",
       "Gross_margin             403\n",
       "Gross_margin_qoq         810\n",
       "Gross_margin_yoy        2075\n",
       "Operating_margin           4\n",
       "Operating_margin_qoq     423\n",
       "Operating_margin_yoy    1739\n",
       "Net_margin                 4\n",
       "Net_margin_qoq           423\n",
       "Net_margin_yoy          1739\n",
       "Cash_yoy                1731\n",
       "Assets_yoy              1731\n",
       "Leverage                   0\n",
       "CFO_qoq                  417\n",
       "FCF_qoq                  417\n",
       "Sector                     0\n",
       "Industry                   0\n",
       "Next_EarningDate         410\n",
       "RSI                      418\n",
       "MFI                      418\n",
       "adjclose_SMA_12          418\n",
       "adjclose_SMA_30          418\n",
       "adjclose_EWMA_12         418\n",
       "adjclose_EWMA_30         418\n",
       "adjclose_UpperBand       418\n",
       "adjclose_LowerBand       418\n",
       "SMA_12_SMA_30            418\n",
       "EWMA_12_EWMA_30          418\n",
       "UpperBand_LowerBand      418\n",
       "^GSPC                    423\n",
       "^GSPC_pctchange_5        423\n",
       "^GSPC_pctchange_21       423\n",
       "^GSPC_pctchange_yoy      423\n",
       "^RUT                     423\n",
       "^RUT_pctchange_5         423\n",
       "^RUT_pctchange_21        423\n",
       "^RUT_pctchange_yoy       423\n",
       "^VIX                     423\n",
       "^VIX_pctchange_5         423\n",
       "^VIX_pctchange_21        423\n",
       "^VIX_pctchange_yoy       423\n",
       "GC=F                     423\n",
       "GC=F_pctchange_5         423\n",
       "GC=F_pctchange_21        423\n",
       "GC=F_pctchange_yoy       423\n",
       "CL=F                     423\n",
       "CL=F_pctchange_5         423\n",
       "CL=F_pctchange_21        423\n",
       "CL=F_pctchange_yoy       423\n",
       "^TNX                     423\n",
       "^TNX_pctchange_5         423\n",
       "^TNX_pctchange_21        423\n",
       "^TNX_pctchange_yoy       423\n",
       "^FVX                     423\n",
       "^FVX_pctchange_5         423\n",
       "^FVX_pctchange_21        423\n",
       "^FVX_pctchange_yoy       423\n",
       "cs_last5                4246\n",
       "T0                       418\n",
       "sameday_jump             418\n",
       "T0_5                     418\n",
       "PE_new                   418\n",
       "PS_new                   422\n",
       "PB_new                   418\n",
       "Dividend_yields_new     2153\n",
       "Market_cap_mm            418\n",
       "dtype: int64"
      ]
     },
     "execution_count": 146,
     "metadata": {},
     "output_type": "execute_result"
    }
   ],
   "source": [
    "dfmdl1.isna().sum()"
   ]
  },
  {
   "cell_type": "markdown",
   "id": "6837f85a-9d18-444d-8158-1940f992d55f",
   "metadata": {},
   "source": [
    "### Step 1. Logic to fill missing values"
   ]
  },
  {
   "cell_type": "code",
   "execution_count": null,
   "id": "5841890c-8b0a-4038-9476-046cca19750e",
   "metadata": {},
   "outputs": [],
   "source": [
    "# Drop rows where the target is missing\n",
    "dfmdl1=dfmdl1.dropna(subset=['T0_5'])\n",
    "\n",
    "# Assume following attributes as 0 when missing\n",
    "dfmdl1['CAPX'] = dfmdl1['CAPX'].fillna(0)\n",
    "dfmdl1['Dividends'] = dfmdl1['Dividends'].fillna(0)\n",
    "dfmdl1['Dividend_yields_new'] = dfmdl1['Dividend_yields_new'].fillna(0)\n",
    "dfmdl1['Assets_yoy'] = dfmdl1['Assets_yoy'].fillna(0)\n",
    "dfmdl1['Cash_yoy'] = dfmdl1['Cash_yoy'].fillna(0)\n",
    "\n",
    "# Assume missing gross margin = net margin  (rationale: certain industry doesn't report gross margin)\n",
    "dfmdl1['Gross_margin'] = dfmdl1['Gross_margin'].fillna(dfmdl1['Net_margin'])\n",
    "\n",
    "# Assume missing QoQ change from average\n",
    "dfmdl1[\"Revenue_qoq\"]  = dfmdl1['Revenue_qoq'].fillna(dfmdl1.groupby('Ticker')['Revenue_qoq'].transform('mean'))\n",
    "dfmdl1[\"Net_Income_qoq\"]  = dfmdl1['Net_Income_qoq'].fillna(dfmdl1.groupby('Ticker')['Net_Income_qoq'].transform('mean'))\n",
    "dfmdl1[\"Gross_margin_qoq\"]  = dfmdl1['Gross_margin_qoq'].fillna(dfmdl1.groupby('Ticker')['Gross_margin_qoq'].transform('mean'))\n",
    "dfmdl1[\"Operating_margin_qoq\"]  = dfmdl1['Operating_margin_qoq'].fillna(dfmdl1.groupby('Ticker')['Operating_margin_qoq'].transform('mean'))\n",
    "dfmdl1[\"Net_margin_qoq\"]  = dfmdl1['Net_margin_qoq'].fillna(dfmdl1.groupby('Ticker')['Net_margin_qoq'].transform('mean'))\n",
    "\n",
    "# Assume missing YoY change is interpolated from QoQ \n",
    "def interpolation(df,var):\n",
    "    df[var+'_yoy'].fillna((1+df[var+'_qoq'])**4-1, inplace=True)\n",
    "    return df\n",
    "\n",
    "for var in ['Revenue','Net_Income','Gross_margin','Operating_margin','Net_margin']:\n",
    "    interpolation(dfmdl1,var)\n",
    "\n",
    "# Assume missing sentiment score from ticker's average, it still missing then 0\n",
    "dfmdl1[\"cs_last5\"]  = dfmdl1['cs_last5'].fillna(dfmdl1.groupby('Ticker')['cs_last5'].transform('mean'))\n",
    "dfmdl1['cs_last5'] = dfmdl1['cs_last5'].fillna(0)"
   ]
  },
  {
   "cell_type": "code",
   "execution_count": null,
   "id": "5bb80be2-63a2-42cd-bc1d-bb9ff8d23460",
   "metadata": {},
   "outputs": [],
   "source": [
    "dfmdl1.isna().sum()"
   ]
  },
  {
   "cell_type": "markdown",
   "id": "2e626ad7-3e07-403e-b947-2b932204735e",
   "metadata": {},
   "source": [
    "### Step 2. Define Target"
   ]
  },
  {
   "cell_type": "code",
   "execution_count": 148,
   "id": "ca1d88ff-45cf-4822-9622-74509e78ca36",
   "metadata": {},
   "outputs": [],
   "source": [
    "dfmdl1['target'] = np.where(dfmdl1['T0_5']>0, 1, 0)"
   ]
  },
  {
   "cell_type": "markdown",
   "id": "8c868e92-17d3-4aa0-9574-7d344daf1b20",
   "metadata": {},
   "source": [
    "### Step 3. Data Exploration"
   ]
  },
  {
   "cell_type": "code",
   "execution_count": 149,
   "id": "74457f2e-110a-4217-9075-7528d12ac548",
   "metadata": {},
   "outputs": [
    {
     "data": {
      "text/plain": [
       "Index(['Ticker', 'beta_30avg', 'adjclose', 'Fiscal Year', 'Fiscal Period',\n",
       "       'Revenue', 'Net_income', 'Shares', 'Cash', 'Assets', 'CFO', 'CAPX',\n",
       "       'Dividends', 'FCF', 'EPSsuprise_ind', 'Revenue_qoq', 'Revenue_yoy',\n",
       "       'Net_Income_qoq', 'Net_Income_yoy', 'Gross_margin', 'Gross_margin_qoq',\n",
       "       'Gross_margin_yoy', 'Operating_margin', 'Operating_margin_qoq',\n",
       "       'Operating_margin_yoy', 'Net_margin', 'Net_margin_qoq',\n",
       "       'Net_margin_yoy', 'Cash_yoy', 'Assets_yoy', 'Leverage', 'CFO_qoq',\n",
       "       'FCF_qoq', 'Sector', 'Industry', 'Next_EarningDate', 'RSI', 'MFI',\n",
       "       'adjclose_SMA_12', 'adjclose_SMA_30', 'adjclose_EWMA_12',\n",
       "       'adjclose_EWMA_30', 'adjclose_UpperBand', 'adjclose_LowerBand',\n",
       "       'SMA_12_SMA_30', 'EWMA_12_EWMA_30', 'UpperBand_LowerBand', '^GSPC',\n",
       "       '^GSPC_pctchange_5', '^GSPC_pctchange_21', '^GSPC_pctchange_yoy',\n",
       "       '^RUT', '^RUT_pctchange_5', '^RUT_pctchange_21', '^RUT_pctchange_yoy',\n",
       "       '^VIX', '^VIX_pctchange_5', '^VIX_pctchange_21', '^VIX_pctchange_yoy',\n",
       "       'GC=F', 'GC=F_pctchange_5', 'GC=F_pctchange_21', 'GC=F_pctchange_yoy',\n",
       "       'CL=F', 'CL=F_pctchange_5', 'CL=F_pctchange_21', 'CL=F_pctchange_yoy',\n",
       "       '^TNX', '^TNX_pctchange_5', '^TNX_pctchange_21', '^TNX_pctchange_yoy',\n",
       "       '^FVX', '^FVX_pctchange_5', '^FVX_pctchange_21', '^FVX_pctchange_yoy',\n",
       "       'cs_last5', 'T0', 'sameday_jump', 'T0_5', 'PE_new', 'PS_new', 'PB_new',\n",
       "       'Dividend_yields_new', 'Market_cap_mm', 'target'],\n",
       "      dtype='object')"
      ]
     },
     "execution_count": 149,
     "metadata": {},
     "output_type": "execute_result"
    }
   ],
   "source": [
    "dfmdl1.columns"
   ]
  },
  {
   "cell_type": "code",
   "execution_count": 79,
   "id": "e17f8f91-d2e0-474b-9572-a04aa0b5fbdc",
   "metadata": {},
   "outputs": [],
   "source": [
    "# create quantile bins\n",
    "def create_quantile_bin(df,var,binnumber):\n",
    "    df['qbin_'+var] = pd.qcut(df[var], q=binnumber, precision=0).astype(str)\n",
    "    df.loc[df[var].isna(), 'qbin_'+var] = 'missing'"
   ]
  },
  {
   "cell_type": "code",
   "execution_count": 80,
   "id": "9e2aba30-7797-4ec3-93a8-f44fadc586f5",
   "metadata": {},
   "outputs": [],
   "source": [
    "create_quantile_bin(dfmdl1,'beta_30avg',10)\n",
    "create_quantile_bin(dfmdl1,'cs_last5',10)\n",
    "create_quantile_bin(dfmdl1,'Market_cap_mm',10)"
   ]
  },
  {
   "cell_type": "code",
   "execution_count": 64,
   "id": "062cd29b-ee77-470f-a305-cd07abf2b737",
   "metadata": {},
   "outputs": [
    {
     "data": {
      "text/plain": [
       "Industrials               1296\n",
       "Technology                1270\n",
       "Healthcare                1122\n",
       "Consumer Cyclical          998\n",
       "Consumer Defensive         687\n",
       "Real Estate                485\n",
       "Utilities                  482\n",
       "Communication Services     407\n",
       "Financial Services         405\n",
       "Energy                     357\n",
       "Basic Materials            332\n",
       "Name: Sector, dtype: int64"
      ]
     },
     "execution_count": 64,
     "metadata": {},
     "output_type": "execute_result"
    }
   ],
   "source": [
    "dfmdl1.Sector.value_counts()"
   ]
  },
  {
   "cell_type": "code",
   "execution_count": 85,
   "id": "6019b419-f378-4b9d-a2ff-b849087a4317",
   "metadata": {},
   "outputs": [
    {
     "data": {
      "image/png": "[encoded data removed]",
      "text/plain": [
       "<Figure size 432x288 with 1 Axes>"
      ]
     },
     "metadata": {
      "needs_background": "light"
     },
     "output_type": "display_data"
    }
   ],
   "source": [
    "%matplotlib inline\n",
    "pd.crosstab(dfmdl1.Sector,dfmdl1.target).plot(kind='bar')\n",
    "plt.title('Winning Frequency for Sector')\n",
    "plt.xlabel('Sector')\n",
    "plt.ylabel('Frequency of Winning')\n",
    "plt.savefig('winning_fre_sector')"
   ]
  },
  {
   "cell_type": "code",
   "execution_count": 81,
   "id": "ef5638e4-8f3c-4be0-96c0-405f74877c41",
   "metadata": {},
   "outputs": [
    {
     "data": {
      "image/png": "[encoded data removed]",
      "text/plain": [
       "<Figure size 432x288 with 1 Axes>"
      ]
     },
     "metadata": {
      "needs_background": "light"
     },
     "output_type": "display_data"
    }
   ],
   "source": [
    "%matplotlib inline\n",
    "pd.crosstab(dfmdl1.qbin_cs_last5,dfmdl1.target).plot(kind='bar')\n",
    "plt.title('Winning Frequency for Sentiment')\n",
    "plt.xlabel('Sentiment')\n",
    "plt.ylabel('Frequency of Winning')\n",
    "plt.savefig('winning_fre_sentiment')"
   ]
  },
  {
   "cell_type": "code",
   "execution_count": 83,
   "id": "692c4488-2844-43d9-9df7-2fd5aa6a1aa9",
   "metadata": {},
   "outputs": [
    {
     "data": {
      "image/png": "[encoded data removed]",
      "text/plain": [
       "<Figure size 432x288 with 1 Axes>"
      ]
     },
     "metadata": {
      "needs_background": "light"
     },
     "output_type": "display_data"
    }
   ],
   "source": [
    "%matplotlib inline\n",
    "pd.crosstab(dfmdl1.qbin_Market_cap_mm,dfmdl1.target).plot(kind='bar')\n",
    "plt.title('Winning Frequency for Market Cap')\n",
    "plt.xlabel('Market Cap')\n",
    "plt.ylabel('Frequency of Winning')\n",
    "plt.savefig('winning_fre_marketcap')"
   ]
  },
  {
   "cell_type": "code",
   "execution_count": 84,
   "id": "55b0a114-bd40-4a7f-bdb6-16967548d69c",
   "metadata": {},
   "outputs": [
    {
     "data": {
      "image/png": "[encoded data removed]",
      "text/plain": [
       "<Figure size 432x288 with 1 Axes>"
      ]
     },
     "metadata": {
      "needs_background": "light"
     },
     "output_type": "display_data"
    }
   ],
   "source": [
    "%matplotlib inline\n",
    "pd.crosstab(dfmdl1.qbin_beta_30avg,dfmdl1.target).plot(kind='bar')\n",
    "plt.title('Winning Frequency for Beta')\n",
    "plt.xlabel('Beta')\n",
    "plt.ylabel('Frequency of Winning')\n",
    "plt.savefig('winning_fre_beta')"
   ]
  },
  {
   "cell_type": "code",
   "execution_count": 119,
   "id": "7b06d752-7524-473f-8791-585ccd36d569",
   "metadata": {},
   "outputs": [],
   "source": [
    "dfmdl1_clean=dfmdl1.drop(columns=['Ticker', 'Fiscal Year', 'Fiscal Period', 'Shares', 'Next_EarningDate','Industry','Gross_margin_yoy'\n",
    "                                 ,'qbin_beta_30avg','qbin_cs_last5', 'qbin_Market_cap_mm','EPSsuprise_ind'])"
   ]
  },
  {
   "cell_type": "code",
   "execution_count": 120,
   "id": "e77ddf61-e6cf-4fbb-8e4d-6e10cb87eb8d",
   "metadata": {},
   "outputs": [
    {
     "data": {
      "text/plain": [
       "array(['beta_30avg', 'adjclose', 'Revenue', 'Net_income', 'Cash',\n",
       "       'Assets', 'CFO', 'CAPX', 'Dividends', 'FCF', 'Revenue_qoq',\n",
       "       'Revenue_yoy', 'Net_Income_qoq', 'Net_Income_yoy', 'Gross_margin',\n",
       "       'Gross_margin_qoq', 'Gross_margin_yoy', 'Operating_margin',\n",
       "       'Operating_margin_qoq', 'Operating_margin_yoy', 'Net_margin',\n",
       "       'Net_margin_qoq', 'Net_margin_yoy', 'Cash_yoy', 'Assets_yoy',\n",
       "       'Leverage', 'CFO_qoq', 'FCF_qoq', 'RSI', 'MFI', 'adjclose_SMA_12',\n",
       "       'adjclose_SMA_30', 'adjclose_EWMA_12', 'adjclose_EWMA_30',\n",
       "       'adjclose_UpperBand', 'adjclose_LowerBand', 'SMA_12_SMA_30',\n",
       "       'EWMA_12_EWMA_30', 'UpperBand_LowerBand', '^GSPC',\n",
       "       '^GSPC_pctchange_5', '^GSPC_pctchange_21', '^GSPC_pctchange_yoy',\n",
       "       '^RUT', '^RUT_pctchange_5', '^RUT_pctchange_21',\n",
       "       '^RUT_pctchange_yoy', '^VIX', '^VIX_pctchange_5',\n",
       "       '^VIX_pctchange_21', '^VIX_pctchange_yoy', 'GC=F',\n",
       "       'GC=F_pctchange_5', 'GC=F_pctchange_21', 'GC=F_pctchange_yoy',\n",
       "       'CL=F', 'CL=F_pctchange_5', 'CL=F_pctchange_21',\n",
       "       'CL=F_pctchange_yoy', '^TNX', '^TNX_pctchange_5',\n",
       "       '^TNX_pctchange_21', '^TNX_pctchange_yoy', '^FVX',\n",
       "       '^FVX_pctchange_5', '^FVX_pctchange_21', '^FVX_pctchange_yoy',\n",
       "       'cs_last5', 'T0', 'sameday_jump', 'T0_5', 'PE_new', 'PS_new',\n",
       "       'PB_new', 'Dividend_yields_new', 'Market_cap_mm', 'target',\n",
       "       'Sector_Basic Materials', 'Sector_Communication Services',\n",
       "       'Sector_Consumer Cyclical', 'Sector_Consumer Defensive',\n",
       "       'Sector_Energy', 'Sector_Financial Services', 'Sector_Healthcare',\n",
       "       'Sector_Industrials', 'Sector_Real Estate', 'Sector_Technology',\n",
       "       'Sector_Utilities'], dtype=object)"
      ]
     },
     "execution_count": 120,
     "metadata": {},
     "output_type": "execute_result"
    }
   ],
   "source": [
    "# encode the categorical column\n",
    "char_var_list=['Sector']\n",
    "               #, 'qbin_beta_30avg','qbin_cs_last5', 'qbin_Market_cap_mm']\n",
    "for var in char_var_list:\n",
    "    cat_list='var'+'_'+var\n",
    "    cat_list = pd.get_dummies(dfmdl1_clean[var], prefix=var)\n",
    "    data1=dfmdl1_clean.join(cat_list)\n",
    "    dfmdl1_clean=data1\n",
    "\n",
    "data_vars=dfmdl1_clean.columns.values.tolist()\n",
    "to_keep=[i for i in data_vars if i not in char_var_list]\n",
    "\n",
    "dfmdl1_clean=dfmdl1_clean[to_keep]\n",
    "dfmdl1_clean.columns.values"
   ]
  },
  {
   "cell_type": "code",
   "execution_count": 121,
   "id": "4b54871c-5f5f-42d3-bbad-24def7dc1991",
   "metadata": {},
   "outputs": [],
   "source": [
    "X=dfmdl1_clean.drop(columns='target')\n",
    "y=dfmdl1_clean[['target']]"
   ]
  },
  {
   "cell_type": "code",
   "execution_count": 122,
   "id": "0d1d13ab-69f9-4721-9b91-f864ff1164b7",
   "metadata": {},
   "outputs": [],
   "source": [
    "X_train, X_test, y_train, y_test = train_test_split(X, \n",
    "                                                    y, \n",
    "                                                    random_state=1, \n",
    "                                                    train_size=0.7)"
   ]
  },
  {
   "cell_type": "code",
   "execution_count": 123,
   "id": "73248a52-7ca5-4fbc-acd1-8bc30a4074b0",
   "metadata": {},
   "outputs": [
    {
     "data": {
      "text/plain": [
       "beta_30avg                       float64\n",
       "adjclose                         float64\n",
       "Revenue                          float64\n",
       "Net_income                         int64\n",
       "Cash                             float64\n",
       "Assets                             int64\n",
       "CFO                              float64\n",
       "CAPX                             float64\n",
       "Dividends                        float64\n",
       "FCF                                int64\n",
       "Revenue_qoq                      float64\n",
       "Revenue_yoy                      float64\n",
       "Net_Income_qoq                   float64\n",
       "Net_Income_yoy                   float64\n",
       "Gross_margin                     float64\n",
       "Gross_margin_qoq                 float64\n",
       "Gross_margin_yoy                 float64\n",
       "Operating_margin                 float64\n",
       "Operating_margin_qoq             float64\n",
       "Operating_margin_yoy             float64\n",
       "Net_margin                       float64\n",
       "Net_margin_qoq                   float64\n",
       "Net_margin_yoy                   float64\n",
       "Cash_yoy                         float64\n",
       "Assets_yoy                       float64\n",
       "Leverage                         float64\n",
       "CFO_qoq                          float64\n",
       "FCF_qoq                          float64\n",
       "RSI                              float64\n",
       "MFI                              float64\n",
       "adjclose_SMA_12                  float64\n",
       "adjclose_SMA_30                  float64\n",
       "adjclose_EWMA_12                 float64\n",
       "adjclose_EWMA_30                 float64\n",
       "adjclose_UpperBand               float64\n",
       "adjclose_LowerBand               float64\n",
       "SMA_12_SMA_30                    float64\n",
       "EWMA_12_EWMA_30                  float64\n",
       "UpperBand_LowerBand              float64\n",
       "^GSPC                            float64\n",
       "^GSPC_pctchange_5                float64\n",
       "^GSPC_pctchange_21               float64\n",
       "^GSPC_pctchange_yoy              float64\n",
       "^RUT                             float64\n",
       "^RUT_pctchange_5                 float64\n",
       "^RUT_pctchange_21                float64\n",
       "^RUT_pctchange_yoy               float64\n",
       "^VIX                             float64\n",
       "^VIX_pctchange_5                 float64\n",
       "^VIX_pctchange_21                float64\n",
       "^VIX_pctchange_yoy               float64\n",
       "GC=F                             float64\n",
       "GC=F_pctchange_5                 float64\n",
       "GC=F_pctchange_21                float64\n",
       "GC=F_pctchange_yoy               float64\n",
       "CL=F                             float64\n",
       "CL=F_pctchange_5                 float64\n",
       "CL=F_pctchange_21                float64\n",
       "CL=F_pctchange_yoy               float64\n",
       "^TNX                             float64\n",
       "^TNX_pctchange_5                 float64\n",
       "^TNX_pctchange_21                float64\n",
       "^TNX_pctchange_yoy               float64\n",
       "^FVX                             float64\n",
       "^FVX_pctchange_5                 float64\n",
       "^FVX_pctchange_21                float64\n",
       "^FVX_pctchange_yoy               float64\n",
       "cs_last5                         float64\n",
       "T0                               float64\n",
       "sameday_jump                     float64\n",
       "T0_5                             float64\n",
       "PE_new                           float64\n",
       "PS_new                           float64\n",
       "PB_new                           float64\n",
       "Dividend_yields_new              float64\n",
       "Market_cap_mm                    float64\n",
       "Sector_Basic Materials             uint8\n",
       "Sector_Communication Services      uint8\n",
       "Sector_Consumer Cyclical           uint8\n",
       "Sector_Consumer Defensive          uint8\n",
       "Sector_Energy                      uint8\n",
       "Sector_Financial Services          uint8\n",
       "Sector_Healthcare                  uint8\n",
       "Sector_Industrials                 uint8\n",
       "Sector_Real Estate                 uint8\n",
       "Sector_Technology                  uint8\n",
       "Sector_Utilities                   uint8\n",
       "dtype: object"
      ]
     },
     "execution_count": 123,
     "metadata": {},
     "output_type": "execute_result"
    }
   ],
   "source": [
    "X_train.dtypes"
   ]
  },
  {
   "cell_type": "code",
   "execution_count": 124,
   "id": "d72066dd-4833-4dfc-aec3-856953997917",
   "metadata": {},
   "outputs": [
    {
     "name": "stderr",
     "output_type": "stream",
     "text": [
      "/Users/feiyiyang/opt/anaconda3/envs/mlenv/lib/python3.7/site-packages/sklearn/utils/validation.py:72: FutureWarning: Pass n_features_to_select=20 as keyword args. From version 1.0 (renaming of 0.25) passing these as positional arguments will result in an error\n",
      "  \"will result in an error\", FutureWarning)\n"
     ]
    },
    {
     "ename": "ValueError",
     "evalue": "Input contains NaN, infinity or a value too large for dtype('float64').",
     "output_type": "error",
     "traceback": [
      "\u001b[0;31m---------------------------------------------------------------------------\u001b[0m",
      "\u001b[0;31mValueError\u001b[0m                                Traceback (most recent call last)",
      "\u001b[0;32m/var/folders/td/m_m6zytj2hxgl8msx2lk94kh0000gn/T/ipykernel_32021/3754296149.py\u001b[0m in \u001b[0;36m<module>\u001b[0;34m\u001b[0m\n\u001b[1;32m      5\u001b[0m \u001b[0mlogreg\u001b[0m \u001b[0;34m=\u001b[0m \u001b[0mLogisticRegression\u001b[0m\u001b[0;34m(\u001b[0m\u001b[0;34m)\u001b[0m\u001b[0;34m\u001b[0m\u001b[0;34m\u001b[0m\u001b[0m\n\u001b[1;32m      6\u001b[0m \u001b[0mrfe\u001b[0m \u001b[0;34m=\u001b[0m \u001b[0mRFE\u001b[0m\u001b[0;34m(\u001b[0m\u001b[0mlogreg\u001b[0m\u001b[0;34m,\u001b[0m \u001b[0;36m20\u001b[0m\u001b[0;34m)\u001b[0m\u001b[0;34m\u001b[0m\u001b[0;34m\u001b[0m\u001b[0m\n\u001b[0;32m----> 7\u001b[0;31m \u001b[0mrfe\u001b[0m \u001b[0;34m=\u001b[0m \u001b[0mrfe\u001b[0m\u001b[0;34m.\u001b[0m\u001b[0mfit\u001b[0m\u001b[0;34m(\u001b[0m\u001b[0mX_train\u001b[0m\u001b[0;34m,\u001b[0m \u001b[0my_train\u001b[0m\u001b[0;34m)\u001b[0m\u001b[0;34m\u001b[0m\u001b[0;34m\u001b[0m\u001b[0m\n\u001b[0m\u001b[1;32m      8\u001b[0m \u001b[0mprint\u001b[0m\u001b[0;34m(\u001b[0m\u001b[0mrfe\u001b[0m\u001b[0;34m.\u001b[0m\u001b[0msupport_\u001b[0m\u001b[0;34m)\u001b[0m\u001b[0;34m\u001b[0m\u001b[0;34m\u001b[0m\u001b[0m\n\u001b[1;32m      9\u001b[0m \u001b[0mprint\u001b[0m\u001b[0;34m(\u001b[0m\u001b[0mrfe\u001b[0m\u001b[0;34m.\u001b[0m\u001b[0mranking_\u001b[0m\u001b[0;34m)\u001b[0m\u001b[0;34m\u001b[0m\u001b[0;34m\u001b[0m\u001b[0m\n",
      "\u001b[0;32m~/opt/anaconda3/envs/mlenv/lib/python3.7/site-packages/sklearn/feature_selection/_rfe.py\u001b[0m in \u001b[0;36mfit\u001b[0;34m(self, X, y)\u001b[0m\n\u001b[1;32m    182\u001b[0m             \u001b[0mThe\u001b[0m \u001b[0mtarget\u001b[0m \u001b[0mvalues\u001b[0m\u001b[0;34m.\u001b[0m\u001b[0;34m\u001b[0m\u001b[0;34m\u001b[0m\u001b[0m\n\u001b[1;32m    183\u001b[0m         \"\"\"\n\u001b[0;32m--> 184\u001b[0;31m         \u001b[0;32mreturn\u001b[0m \u001b[0mself\u001b[0m\u001b[0;34m.\u001b[0m\u001b[0m_fit\u001b[0m\u001b[0;34m(\u001b[0m\u001b[0mX\u001b[0m\u001b[0;34m,\u001b[0m \u001b[0my\u001b[0m\u001b[0;34m)\u001b[0m\u001b[0;34m\u001b[0m\u001b[0;34m\u001b[0m\u001b[0m\n\u001b[0m\u001b[1;32m    185\u001b[0m \u001b[0;34m\u001b[0m\u001b[0m\n\u001b[1;32m    186\u001b[0m     \u001b[0;32mdef\u001b[0m \u001b[0m_fit\u001b[0m\u001b[0;34m(\u001b[0m\u001b[0mself\u001b[0m\u001b[0;34m,\u001b[0m \u001b[0mX\u001b[0m\u001b[0;34m,\u001b[0m \u001b[0my\u001b[0m\u001b[0;34m,\u001b[0m \u001b[0mstep_score\u001b[0m\u001b[0;34m=\u001b[0m\u001b[0;32mNone\u001b[0m\u001b[0;34m)\u001b[0m\u001b[0;34m:\u001b[0m\u001b[0;34m\u001b[0m\u001b[0;34m\u001b[0m\u001b[0m\n",
      "\u001b[0;32m~/opt/anaconda3/envs/mlenv/lib/python3.7/site-packages/sklearn/feature_selection/_rfe.py\u001b[0m in \u001b[0;36m_fit\u001b[0;34m(self, X, y, step_score)\u001b[0m\n\u001b[1;32m    195\u001b[0m             \u001b[0mensure_min_features\u001b[0m\u001b[0;34m=\u001b[0m\u001b[0;36m2\u001b[0m\u001b[0;34m,\u001b[0m\u001b[0;34m\u001b[0m\u001b[0;34m\u001b[0m\u001b[0m\n\u001b[1;32m    196\u001b[0m             \u001b[0mforce_all_finite\u001b[0m\u001b[0;34m=\u001b[0m\u001b[0;32mnot\u001b[0m \u001b[0mtags\u001b[0m\u001b[0;34m.\u001b[0m\u001b[0mget\u001b[0m\u001b[0;34m(\u001b[0m\u001b[0;34m\"allow_nan\"\u001b[0m\u001b[0;34m,\u001b[0m \u001b[0;32mTrue\u001b[0m\u001b[0;34m)\u001b[0m\u001b[0;34m,\u001b[0m\u001b[0;34m\u001b[0m\u001b[0;34m\u001b[0m\u001b[0m\n\u001b[0;32m--> 197\u001b[0;31m             \u001b[0mmulti_output\u001b[0m\u001b[0;34m=\u001b[0m\u001b[0;32mTrue\u001b[0m\u001b[0;34m\u001b[0m\u001b[0;34m\u001b[0m\u001b[0m\n\u001b[0m\u001b[1;32m    198\u001b[0m         )\n\u001b[1;32m    199\u001b[0m         error_msg = (\"n_features_to_select must be either None, a \"\n",
      "\u001b[0;32m~/opt/anaconda3/envs/mlenv/lib/python3.7/site-packages/sklearn/base.py\u001b[0m in \u001b[0;36m_validate_data\u001b[0;34m(self, X, y, reset, validate_separately, **check_params)\u001b[0m\n\u001b[1;32m    431\u001b[0m                 \u001b[0my\u001b[0m \u001b[0;34m=\u001b[0m \u001b[0mcheck_array\u001b[0m\u001b[0;34m(\u001b[0m\u001b[0my\u001b[0m\u001b[0;34m,\u001b[0m \u001b[0;34m**\u001b[0m\u001b[0mcheck_y_params\u001b[0m\u001b[0;34m)\u001b[0m\u001b[0;34m\u001b[0m\u001b[0;34m\u001b[0m\u001b[0m\n\u001b[1;32m    432\u001b[0m             \u001b[0;32melse\u001b[0m\u001b[0;34m:\u001b[0m\u001b[0;34m\u001b[0m\u001b[0;34m\u001b[0m\u001b[0m\n\u001b[0;32m--> 433\u001b[0;31m                 \u001b[0mX\u001b[0m\u001b[0;34m,\u001b[0m \u001b[0my\u001b[0m \u001b[0;34m=\u001b[0m \u001b[0mcheck_X_y\u001b[0m\u001b[0;34m(\u001b[0m\u001b[0mX\u001b[0m\u001b[0;34m,\u001b[0m \u001b[0my\u001b[0m\u001b[0;34m,\u001b[0m \u001b[0;34m**\u001b[0m\u001b[0mcheck_params\u001b[0m\u001b[0;34m)\u001b[0m\u001b[0;34m\u001b[0m\u001b[0;34m\u001b[0m\u001b[0m\n\u001b[0m\u001b[1;32m    434\u001b[0m             \u001b[0mout\u001b[0m \u001b[0;34m=\u001b[0m \u001b[0mX\u001b[0m\u001b[0;34m,\u001b[0m \u001b[0my\u001b[0m\u001b[0;34m\u001b[0m\u001b[0;34m\u001b[0m\u001b[0m\n\u001b[1;32m    435\u001b[0m \u001b[0;34m\u001b[0m\u001b[0m\n",
      "\u001b[0;32m~/opt/anaconda3/envs/mlenv/lib/python3.7/site-packages/sklearn/utils/validation.py\u001b[0m in \u001b[0;36minner_f\u001b[0;34m(*args, **kwargs)\u001b[0m\n\u001b[1;32m     61\u001b[0m             \u001b[0mextra_args\u001b[0m \u001b[0;34m=\u001b[0m \u001b[0mlen\u001b[0m\u001b[0;34m(\u001b[0m\u001b[0margs\u001b[0m\u001b[0;34m)\u001b[0m \u001b[0;34m-\u001b[0m \u001b[0mlen\u001b[0m\u001b[0;34m(\u001b[0m\u001b[0mall_args\u001b[0m\u001b[0;34m)\u001b[0m\u001b[0;34m\u001b[0m\u001b[0;34m\u001b[0m\u001b[0m\n\u001b[1;32m     62\u001b[0m             \u001b[0;32mif\u001b[0m \u001b[0mextra_args\u001b[0m \u001b[0;34m<=\u001b[0m \u001b[0;36m0\u001b[0m\u001b[0;34m:\u001b[0m\u001b[0;34m\u001b[0m\u001b[0;34m\u001b[0m\u001b[0m\n\u001b[0;32m---> 63\u001b[0;31m                 \u001b[0;32mreturn\u001b[0m \u001b[0mf\u001b[0m\u001b[0;34m(\u001b[0m\u001b[0;34m*\u001b[0m\u001b[0margs\u001b[0m\u001b[0;34m,\u001b[0m \u001b[0;34m**\u001b[0m\u001b[0mkwargs\u001b[0m\u001b[0;34m)\u001b[0m\u001b[0;34m\u001b[0m\u001b[0;34m\u001b[0m\u001b[0m\n\u001b[0m\u001b[1;32m     64\u001b[0m \u001b[0;34m\u001b[0m\u001b[0m\n\u001b[1;32m     65\u001b[0m             \u001b[0;31m# extra_args > 0\u001b[0m\u001b[0;34m\u001b[0m\u001b[0;34m\u001b[0m\u001b[0;34m\u001b[0m\u001b[0m\n",
      "\u001b[0;32m~/opt/anaconda3/envs/mlenv/lib/python3.7/site-packages/sklearn/utils/validation.py\u001b[0m in \u001b[0;36mcheck_X_y\u001b[0;34m(X, y, accept_sparse, accept_large_sparse, dtype, order, copy, force_all_finite, ensure_2d, allow_nd, multi_output, ensure_min_samples, ensure_min_features, y_numeric, estimator)\u001b[0m\n\u001b[1;32m    876\u001b[0m                     \u001b[0mensure_min_samples\u001b[0m\u001b[0;34m=\u001b[0m\u001b[0mensure_min_samples\u001b[0m\u001b[0;34m,\u001b[0m\u001b[0;34m\u001b[0m\u001b[0;34m\u001b[0m\u001b[0m\n\u001b[1;32m    877\u001b[0m                     \u001b[0mensure_min_features\u001b[0m\u001b[0;34m=\u001b[0m\u001b[0mensure_min_features\u001b[0m\u001b[0;34m,\u001b[0m\u001b[0;34m\u001b[0m\u001b[0;34m\u001b[0m\u001b[0m\n\u001b[0;32m--> 878\u001b[0;31m                     estimator=estimator)\n\u001b[0m\u001b[1;32m    879\u001b[0m     \u001b[0;32mif\u001b[0m \u001b[0mmulti_output\u001b[0m\u001b[0;34m:\u001b[0m\u001b[0;34m\u001b[0m\u001b[0;34m\u001b[0m\u001b[0m\n\u001b[1;32m    880\u001b[0m         y = check_array(y, accept_sparse='csr', force_all_finite=True,\n",
      "\u001b[0;32m~/opt/anaconda3/envs/mlenv/lib/python3.7/site-packages/sklearn/utils/validation.py\u001b[0m in \u001b[0;36minner_f\u001b[0;34m(*args, **kwargs)\u001b[0m\n\u001b[1;32m     61\u001b[0m             \u001b[0mextra_args\u001b[0m \u001b[0;34m=\u001b[0m \u001b[0mlen\u001b[0m\u001b[0;34m(\u001b[0m\u001b[0margs\u001b[0m\u001b[0;34m)\u001b[0m \u001b[0;34m-\u001b[0m \u001b[0mlen\u001b[0m\u001b[0;34m(\u001b[0m\u001b[0mall_args\u001b[0m\u001b[0;34m)\u001b[0m\u001b[0;34m\u001b[0m\u001b[0;34m\u001b[0m\u001b[0m\n\u001b[1;32m     62\u001b[0m             \u001b[0;32mif\u001b[0m \u001b[0mextra_args\u001b[0m \u001b[0;34m<=\u001b[0m \u001b[0;36m0\u001b[0m\u001b[0;34m:\u001b[0m\u001b[0;34m\u001b[0m\u001b[0;34m\u001b[0m\u001b[0m\n\u001b[0;32m---> 63\u001b[0;31m                 \u001b[0;32mreturn\u001b[0m \u001b[0mf\u001b[0m\u001b[0;34m(\u001b[0m\u001b[0;34m*\u001b[0m\u001b[0margs\u001b[0m\u001b[0;34m,\u001b[0m \u001b[0;34m**\u001b[0m\u001b[0mkwargs\u001b[0m\u001b[0;34m)\u001b[0m\u001b[0;34m\u001b[0m\u001b[0;34m\u001b[0m\u001b[0m\n\u001b[0m\u001b[1;32m     64\u001b[0m \u001b[0;34m\u001b[0m\u001b[0m\n\u001b[1;32m     65\u001b[0m             \u001b[0;31m# extra_args > 0\u001b[0m\u001b[0;34m\u001b[0m\u001b[0;34m\u001b[0m\u001b[0;34m\u001b[0m\u001b[0m\n",
      "\u001b[0;32m~/opt/anaconda3/envs/mlenv/lib/python3.7/site-packages/sklearn/utils/validation.py\u001b[0m in \u001b[0;36mcheck_array\u001b[0;34m(array, accept_sparse, accept_large_sparse, dtype, order, copy, force_all_finite, ensure_2d, allow_nd, ensure_min_samples, ensure_min_features, estimator)\u001b[0m\n\u001b[1;32m    719\u001b[0m         \u001b[0;32mif\u001b[0m \u001b[0mforce_all_finite\u001b[0m\u001b[0;34m:\u001b[0m\u001b[0;34m\u001b[0m\u001b[0;34m\u001b[0m\u001b[0m\n\u001b[1;32m    720\u001b[0m             _assert_all_finite(array,\n\u001b[0;32m--> 721\u001b[0;31m                                allow_nan=force_all_finite == 'allow-nan')\n\u001b[0m\u001b[1;32m    722\u001b[0m \u001b[0;34m\u001b[0m\u001b[0m\n\u001b[1;32m    723\u001b[0m     \u001b[0;32mif\u001b[0m \u001b[0mensure_min_samples\u001b[0m \u001b[0;34m>\u001b[0m \u001b[0;36m0\u001b[0m\u001b[0;34m:\u001b[0m\u001b[0;34m\u001b[0m\u001b[0;34m\u001b[0m\u001b[0m\n",
      "\u001b[0;32m~/opt/anaconda3/envs/mlenv/lib/python3.7/site-packages/sklearn/utils/validation.py\u001b[0m in \u001b[0;36m_assert_all_finite\u001b[0;34m(X, allow_nan, msg_dtype)\u001b[0m\n\u001b[1;32m    104\u001b[0m                     \u001b[0mmsg_err\u001b[0m\u001b[0;34m.\u001b[0m\u001b[0mformat\u001b[0m\u001b[0;34m\u001b[0m\u001b[0;34m\u001b[0m\u001b[0m\n\u001b[1;32m    105\u001b[0m                     (type_err,\n\u001b[0;32m--> 106\u001b[0;31m                      msg_dtype if msg_dtype is not None else X.dtype)\n\u001b[0m\u001b[1;32m    107\u001b[0m             )\n\u001b[1;32m    108\u001b[0m     \u001b[0;31m# for object dtype data, we only check for NaNs (GH-13254)\u001b[0m\u001b[0;34m\u001b[0m\u001b[0;34m\u001b[0m\u001b[0;34m\u001b[0m\u001b[0m\n",
      "\u001b[0;31mValueError\u001b[0m: Input contains NaN, infinity or a value too large for dtype('float64')."
     ]
    }
   ],
   "source": [
    "data_final_vars=X.columns.values.tolist()\n",
    "\n",
    "from sklearn.feature_selection import RFE\n",
    "from sklearn.linear_model import LogisticRegression\n",
    "logreg = LogisticRegression()\n",
    "rfe = RFE(logreg, 20)\n",
    "rfe = rfe.fit(X_train, y_train)\n",
    "print(rfe.support_)\n",
    "print(rfe.ranking_)"
   ]
  },
  {
   "cell_type": "code",
   "execution_count": 101,
   "id": "39a1b7ff-bf20-4c93-bdd2-864fd5ddfe13",
   "metadata": {},
   "outputs": [
    {
     "ename": "ValueError",
     "evalue": "could not convert string to float: 'Software—Application'",
     "output_type": "error",
     "traceback": [
      "\u001b[0;31m---------------------------------------------------------------------------\u001b[0m",
      "\u001b[0;31mValueError\u001b[0m                                Traceback (most recent call last)",
      "\u001b[0;32m/var/folders/td/m_m6zytj2hxgl8msx2lk94kh0000gn/T/ipykernel_32021/2028054558.py\u001b[0m in \u001b[0;36m<module>\u001b[0;34m\u001b[0m\n\u001b[1;32m      1\u001b[0m \u001b[0mclassifier\u001b[0m \u001b[0;34m=\u001b[0m \u001b[0mLogisticRegression\u001b[0m\u001b[0;34m(\u001b[0m\u001b[0msolver\u001b[0m\u001b[0;34m=\u001b[0m\u001b[0;34m'lbfgs'\u001b[0m\u001b[0;34m,\u001b[0m \u001b[0mrandom_state\u001b[0m\u001b[0;34m=\u001b[0m\u001b[0;36m1\u001b[0m\u001b[0;34m)\u001b[0m\u001b[0;34m\u001b[0m\u001b[0;34m\u001b[0m\u001b[0m\n\u001b[0;32m----> 2\u001b[0;31m \u001b[0mclassifier\u001b[0m\u001b[0;34m.\u001b[0m\u001b[0mfit\u001b[0m\u001b[0;34m(\u001b[0m\u001b[0mX_train\u001b[0m\u001b[0;34m,\u001b[0m \u001b[0my_train\u001b[0m\u001b[0;34m)\u001b[0m\u001b[0;34m\u001b[0m\u001b[0;34m\u001b[0m\u001b[0m\n\u001b[0m\u001b[1;32m      3\u001b[0m \u001b[0mprint\u001b[0m\u001b[0;34m(\u001b[0m\u001b[0;34mf\"Training Data Score: {classifier.score(X_train, y_train)}\"\u001b[0m\u001b[0;34m)\u001b[0m\u001b[0;34m\u001b[0m\u001b[0;34m\u001b[0m\u001b[0m\n\u001b[1;32m      4\u001b[0m \u001b[0mprint\u001b[0m\u001b[0;34m(\u001b[0m\u001b[0;34mf\"Testing Data Score: {classifier.score(X_test, y_test)}\"\u001b[0m\u001b[0;34m)\u001b[0m\u001b[0;34m\u001b[0m\u001b[0;34m\u001b[0m\u001b[0m\n\u001b[1;32m      5\u001b[0m \u001b[0;34m\u001b[0m\u001b[0m\n",
      "\u001b[0;32m~/opt/anaconda3/envs/mlenv/lib/python3.7/site-packages/sklearn/linear_model/_logistic.py\u001b[0m in \u001b[0;36mfit\u001b[0;34m(self, X, y, sample_weight)\u001b[0m\n\u001b[1;32m   1344\u001b[0m         X, y = self._validate_data(X, y, accept_sparse='csr', dtype=_dtype,\n\u001b[1;32m   1345\u001b[0m                                    \u001b[0morder\u001b[0m\u001b[0;34m=\u001b[0m\u001b[0;34m\"C\"\u001b[0m\u001b[0;34m,\u001b[0m\u001b[0;34m\u001b[0m\u001b[0;34m\u001b[0m\u001b[0m\n\u001b[0;32m-> 1346\u001b[0;31m                                    accept_large_sparse=solver != 'liblinear')\n\u001b[0m\u001b[1;32m   1347\u001b[0m         \u001b[0mcheck_classification_targets\u001b[0m\u001b[0;34m(\u001b[0m\u001b[0my\u001b[0m\u001b[0;34m)\u001b[0m\u001b[0;34m\u001b[0m\u001b[0;34m\u001b[0m\u001b[0m\n\u001b[1;32m   1348\u001b[0m         \u001b[0mself\u001b[0m\u001b[0;34m.\u001b[0m\u001b[0mclasses_\u001b[0m \u001b[0;34m=\u001b[0m \u001b[0mnp\u001b[0m\u001b[0;34m.\u001b[0m\u001b[0munique\u001b[0m\u001b[0;34m(\u001b[0m\u001b[0my\u001b[0m\u001b[0;34m)\u001b[0m\u001b[0;34m\u001b[0m\u001b[0;34m\u001b[0m\u001b[0m\n",
      "\u001b[0;32m~/opt/anaconda3/envs/mlenv/lib/python3.7/site-packages/sklearn/base.py\u001b[0m in \u001b[0;36m_validate_data\u001b[0;34m(self, X, y, reset, validate_separately, **check_params)\u001b[0m\n\u001b[1;32m    431\u001b[0m                 \u001b[0my\u001b[0m \u001b[0;34m=\u001b[0m \u001b[0mcheck_array\u001b[0m\u001b[0;34m(\u001b[0m\u001b[0my\u001b[0m\u001b[0;34m,\u001b[0m \u001b[0;34m**\u001b[0m\u001b[0mcheck_y_params\u001b[0m\u001b[0;34m)\u001b[0m\u001b[0;34m\u001b[0m\u001b[0;34m\u001b[0m\u001b[0m\n\u001b[1;32m    432\u001b[0m             \u001b[0;32melse\u001b[0m\u001b[0;34m:\u001b[0m\u001b[0;34m\u001b[0m\u001b[0;34m\u001b[0m\u001b[0m\n\u001b[0;32m--> 433\u001b[0;31m                 \u001b[0mX\u001b[0m\u001b[0;34m,\u001b[0m \u001b[0my\u001b[0m \u001b[0;34m=\u001b[0m \u001b[0mcheck_X_y\u001b[0m\u001b[0;34m(\u001b[0m\u001b[0mX\u001b[0m\u001b[0;34m,\u001b[0m \u001b[0my\u001b[0m\u001b[0;34m,\u001b[0m \u001b[0;34m**\u001b[0m\u001b[0mcheck_params\u001b[0m\u001b[0;34m)\u001b[0m\u001b[0;34m\u001b[0m\u001b[0;34m\u001b[0m\u001b[0m\n\u001b[0m\u001b[1;32m    434\u001b[0m             \u001b[0mout\u001b[0m \u001b[0;34m=\u001b[0m \u001b[0mX\u001b[0m\u001b[0;34m,\u001b[0m \u001b[0my\u001b[0m\u001b[0;34m\u001b[0m\u001b[0;34m\u001b[0m\u001b[0m\n\u001b[1;32m    435\u001b[0m \u001b[0;34m\u001b[0m\u001b[0m\n",
      "\u001b[0;32m~/opt/anaconda3/envs/mlenv/lib/python3.7/site-packages/sklearn/utils/validation.py\u001b[0m in \u001b[0;36minner_f\u001b[0;34m(*args, **kwargs)\u001b[0m\n\u001b[1;32m     61\u001b[0m             \u001b[0mextra_args\u001b[0m \u001b[0;34m=\u001b[0m \u001b[0mlen\u001b[0m\u001b[0;34m(\u001b[0m\u001b[0margs\u001b[0m\u001b[0;34m)\u001b[0m \u001b[0;34m-\u001b[0m \u001b[0mlen\u001b[0m\u001b[0;34m(\u001b[0m\u001b[0mall_args\u001b[0m\u001b[0;34m)\u001b[0m\u001b[0;34m\u001b[0m\u001b[0;34m\u001b[0m\u001b[0m\n\u001b[1;32m     62\u001b[0m             \u001b[0;32mif\u001b[0m \u001b[0mextra_args\u001b[0m \u001b[0;34m<=\u001b[0m \u001b[0;36m0\u001b[0m\u001b[0;34m:\u001b[0m\u001b[0;34m\u001b[0m\u001b[0;34m\u001b[0m\u001b[0m\n\u001b[0;32m---> 63\u001b[0;31m                 \u001b[0;32mreturn\u001b[0m \u001b[0mf\u001b[0m\u001b[0;34m(\u001b[0m\u001b[0;34m*\u001b[0m\u001b[0margs\u001b[0m\u001b[0;34m,\u001b[0m \u001b[0;34m**\u001b[0m\u001b[0mkwargs\u001b[0m\u001b[0;34m)\u001b[0m\u001b[0;34m\u001b[0m\u001b[0;34m\u001b[0m\u001b[0m\n\u001b[0m\u001b[1;32m     64\u001b[0m \u001b[0;34m\u001b[0m\u001b[0m\n\u001b[1;32m     65\u001b[0m             \u001b[0;31m# extra_args > 0\u001b[0m\u001b[0;34m\u001b[0m\u001b[0;34m\u001b[0m\u001b[0;34m\u001b[0m\u001b[0m\n",
      "\u001b[0;32m~/opt/anaconda3/envs/mlenv/lib/python3.7/site-packages/sklearn/utils/validation.py\u001b[0m in \u001b[0;36mcheck_X_y\u001b[0;34m(X, y, accept_sparse, accept_large_sparse, dtype, order, copy, force_all_finite, ensure_2d, allow_nd, multi_output, ensure_min_samples, ensure_min_features, y_numeric, estimator)\u001b[0m\n\u001b[1;32m    876\u001b[0m                     \u001b[0mensure_min_samples\u001b[0m\u001b[0;34m=\u001b[0m\u001b[0mensure_min_samples\u001b[0m\u001b[0;34m,\u001b[0m\u001b[0;34m\u001b[0m\u001b[0;34m\u001b[0m\u001b[0m\n\u001b[1;32m    877\u001b[0m                     \u001b[0mensure_min_features\u001b[0m\u001b[0;34m=\u001b[0m\u001b[0mensure_min_features\u001b[0m\u001b[0;34m,\u001b[0m\u001b[0;34m\u001b[0m\u001b[0;34m\u001b[0m\u001b[0m\n\u001b[0;32m--> 878\u001b[0;31m                     estimator=estimator)\n\u001b[0m\u001b[1;32m    879\u001b[0m     \u001b[0;32mif\u001b[0m \u001b[0mmulti_output\u001b[0m\u001b[0;34m:\u001b[0m\u001b[0;34m\u001b[0m\u001b[0;34m\u001b[0m\u001b[0m\n\u001b[1;32m    880\u001b[0m         y = check_array(y, accept_sparse='csr', force_all_finite=True,\n",
      "\u001b[0;32m~/opt/anaconda3/envs/mlenv/lib/python3.7/site-packages/sklearn/utils/validation.py\u001b[0m in \u001b[0;36minner_f\u001b[0;34m(*args, **kwargs)\u001b[0m\n\u001b[1;32m     61\u001b[0m             \u001b[0mextra_args\u001b[0m \u001b[0;34m=\u001b[0m \u001b[0mlen\u001b[0m\u001b[0;34m(\u001b[0m\u001b[0margs\u001b[0m\u001b[0;34m)\u001b[0m \u001b[0;34m-\u001b[0m \u001b[0mlen\u001b[0m\u001b[0;34m(\u001b[0m\u001b[0mall_args\u001b[0m\u001b[0;34m)\u001b[0m\u001b[0;34m\u001b[0m\u001b[0;34m\u001b[0m\u001b[0m\n\u001b[1;32m     62\u001b[0m             \u001b[0;32mif\u001b[0m \u001b[0mextra_args\u001b[0m \u001b[0;34m<=\u001b[0m \u001b[0;36m0\u001b[0m\u001b[0;34m:\u001b[0m\u001b[0;34m\u001b[0m\u001b[0;34m\u001b[0m\u001b[0m\n\u001b[0;32m---> 63\u001b[0;31m                 \u001b[0;32mreturn\u001b[0m \u001b[0mf\u001b[0m\u001b[0;34m(\u001b[0m\u001b[0;34m*\u001b[0m\u001b[0margs\u001b[0m\u001b[0;34m,\u001b[0m \u001b[0;34m**\u001b[0m\u001b[0mkwargs\u001b[0m\u001b[0;34m)\u001b[0m\u001b[0;34m\u001b[0m\u001b[0;34m\u001b[0m\u001b[0m\n\u001b[0m\u001b[1;32m     64\u001b[0m \u001b[0;34m\u001b[0m\u001b[0m\n\u001b[1;32m     65\u001b[0m             \u001b[0;31m# extra_args > 0\u001b[0m\u001b[0;34m\u001b[0m\u001b[0;34m\u001b[0m\u001b[0;34m\u001b[0m\u001b[0m\n",
      "\u001b[0;32m~/opt/anaconda3/envs/mlenv/lib/python3.7/site-packages/sklearn/utils/validation.py\u001b[0m in \u001b[0;36mcheck_array\u001b[0;34m(array, accept_sparse, accept_large_sparse, dtype, order, copy, force_all_finite, ensure_2d, allow_nd, ensure_min_samples, ensure_min_features, estimator)\u001b[0m\n\u001b[1;32m    671\u001b[0m                     \u001b[0marray\u001b[0m \u001b[0;34m=\u001b[0m \u001b[0marray\u001b[0m\u001b[0;34m.\u001b[0m\u001b[0mastype\u001b[0m\u001b[0;34m(\u001b[0m\u001b[0mdtype\u001b[0m\u001b[0;34m,\u001b[0m \u001b[0mcasting\u001b[0m\u001b[0;34m=\u001b[0m\u001b[0;34m\"unsafe\"\u001b[0m\u001b[0;34m,\u001b[0m \u001b[0mcopy\u001b[0m\u001b[0;34m=\u001b[0m\u001b[0;32mFalse\u001b[0m\u001b[0;34m)\u001b[0m\u001b[0;34m\u001b[0m\u001b[0;34m\u001b[0m\u001b[0m\n\u001b[1;32m    672\u001b[0m                 \u001b[0;32melse\u001b[0m\u001b[0;34m:\u001b[0m\u001b[0;34m\u001b[0m\u001b[0;34m\u001b[0m\u001b[0m\n\u001b[0;32m--> 673\u001b[0;31m                     \u001b[0marray\u001b[0m \u001b[0;34m=\u001b[0m \u001b[0mnp\u001b[0m\u001b[0;34m.\u001b[0m\u001b[0masarray\u001b[0m\u001b[0;34m(\u001b[0m\u001b[0marray\u001b[0m\u001b[0;34m,\u001b[0m \u001b[0morder\u001b[0m\u001b[0;34m=\u001b[0m\u001b[0morder\u001b[0m\u001b[0;34m,\u001b[0m \u001b[0mdtype\u001b[0m\u001b[0;34m=\u001b[0m\u001b[0mdtype\u001b[0m\u001b[0;34m)\u001b[0m\u001b[0;34m\u001b[0m\u001b[0;34m\u001b[0m\u001b[0m\n\u001b[0m\u001b[1;32m    674\u001b[0m             \u001b[0;32mexcept\u001b[0m \u001b[0mComplexWarning\u001b[0m \u001b[0;32mas\u001b[0m \u001b[0mcomplex_warning\u001b[0m\u001b[0;34m:\u001b[0m\u001b[0;34m\u001b[0m\u001b[0;34m\u001b[0m\u001b[0m\n\u001b[1;32m    675\u001b[0m                 raise ValueError(\"Complex data not supported\\n\"\n",
      "\u001b[0;32m~/opt/anaconda3/envs/mlenv/lib/python3.7/site-packages/numpy/core/_asarray.py\u001b[0m in \u001b[0;36masarray\u001b[0;34m(a, dtype, order, like)\u001b[0m\n\u001b[1;32m    100\u001b[0m         \u001b[0;32mreturn\u001b[0m \u001b[0m_asarray_with_like\u001b[0m\u001b[0;34m(\u001b[0m\u001b[0ma\u001b[0m\u001b[0;34m,\u001b[0m \u001b[0mdtype\u001b[0m\u001b[0;34m=\u001b[0m\u001b[0mdtype\u001b[0m\u001b[0;34m,\u001b[0m \u001b[0morder\u001b[0m\u001b[0;34m=\u001b[0m\u001b[0morder\u001b[0m\u001b[0;34m,\u001b[0m \u001b[0mlike\u001b[0m\u001b[0;34m=\u001b[0m\u001b[0mlike\u001b[0m\u001b[0;34m)\u001b[0m\u001b[0;34m\u001b[0m\u001b[0;34m\u001b[0m\u001b[0m\n\u001b[1;32m    101\u001b[0m \u001b[0;34m\u001b[0m\u001b[0m\n\u001b[0;32m--> 102\u001b[0;31m     \u001b[0;32mreturn\u001b[0m \u001b[0marray\u001b[0m\u001b[0;34m(\u001b[0m\u001b[0ma\u001b[0m\u001b[0;34m,\u001b[0m \u001b[0mdtype\u001b[0m\u001b[0;34m,\u001b[0m \u001b[0mcopy\u001b[0m\u001b[0;34m=\u001b[0m\u001b[0;32mFalse\u001b[0m\u001b[0;34m,\u001b[0m \u001b[0morder\u001b[0m\u001b[0;34m=\u001b[0m\u001b[0morder\u001b[0m\u001b[0;34m)\u001b[0m\u001b[0;34m\u001b[0m\u001b[0;34m\u001b[0m\u001b[0m\n\u001b[0m\u001b[1;32m    103\u001b[0m \u001b[0;34m\u001b[0m\u001b[0m\n\u001b[1;32m    104\u001b[0m \u001b[0;34m\u001b[0m\u001b[0m\n",
      "\u001b[0;32m~/opt/anaconda3/envs/mlenv/lib/python3.7/site-packages/pandas/core/generic.py\u001b[0m in \u001b[0;36m__array__\u001b[0;34m(self, dtype)\u001b[0m\n\u001b[1;32m   1991\u001b[0m \u001b[0;34m\u001b[0m\u001b[0m\n\u001b[1;32m   1992\u001b[0m     \u001b[0;32mdef\u001b[0m \u001b[0m__array__\u001b[0m\u001b[0;34m(\u001b[0m\u001b[0mself\u001b[0m\u001b[0;34m,\u001b[0m \u001b[0mdtype\u001b[0m\u001b[0;34m:\u001b[0m \u001b[0mNpDtype\u001b[0m \u001b[0;34m|\u001b[0m \u001b[0;32mNone\u001b[0m \u001b[0;34m=\u001b[0m \u001b[0;32mNone\u001b[0m\u001b[0;34m)\u001b[0m \u001b[0;34m->\u001b[0m \u001b[0mnp\u001b[0m\u001b[0;34m.\u001b[0m\u001b[0mndarray\u001b[0m\u001b[0;34m:\u001b[0m\u001b[0;34m\u001b[0m\u001b[0;34m\u001b[0m\u001b[0m\n\u001b[0;32m-> 1993\u001b[0;31m         \u001b[0;32mreturn\u001b[0m \u001b[0mnp\u001b[0m\u001b[0;34m.\u001b[0m\u001b[0masarray\u001b[0m\u001b[0;34m(\u001b[0m\u001b[0mself\u001b[0m\u001b[0;34m.\u001b[0m\u001b[0m_values\u001b[0m\u001b[0;34m,\u001b[0m \u001b[0mdtype\u001b[0m\u001b[0;34m=\u001b[0m\u001b[0mdtype\u001b[0m\u001b[0;34m)\u001b[0m\u001b[0;34m\u001b[0m\u001b[0;34m\u001b[0m\u001b[0m\n\u001b[0m\u001b[1;32m   1994\u001b[0m \u001b[0;34m\u001b[0m\u001b[0m\n\u001b[1;32m   1995\u001b[0m     def __array_wrap__(\n",
      "\u001b[0;32m~/opt/anaconda3/envs/mlenv/lib/python3.7/site-packages/numpy/core/_asarray.py\u001b[0m in \u001b[0;36masarray\u001b[0;34m(a, dtype, order, like)\u001b[0m\n\u001b[1;32m    100\u001b[0m         \u001b[0;32mreturn\u001b[0m \u001b[0m_asarray_with_like\u001b[0m\u001b[0;34m(\u001b[0m\u001b[0ma\u001b[0m\u001b[0;34m,\u001b[0m \u001b[0mdtype\u001b[0m\u001b[0;34m=\u001b[0m\u001b[0mdtype\u001b[0m\u001b[0;34m,\u001b[0m \u001b[0morder\u001b[0m\u001b[0;34m=\u001b[0m\u001b[0morder\u001b[0m\u001b[0;34m,\u001b[0m \u001b[0mlike\u001b[0m\u001b[0;34m=\u001b[0m\u001b[0mlike\u001b[0m\u001b[0;34m)\u001b[0m\u001b[0;34m\u001b[0m\u001b[0;34m\u001b[0m\u001b[0m\n\u001b[1;32m    101\u001b[0m \u001b[0;34m\u001b[0m\u001b[0m\n\u001b[0;32m--> 102\u001b[0;31m     \u001b[0;32mreturn\u001b[0m \u001b[0marray\u001b[0m\u001b[0;34m(\u001b[0m\u001b[0ma\u001b[0m\u001b[0;34m,\u001b[0m \u001b[0mdtype\u001b[0m\u001b[0;34m,\u001b[0m \u001b[0mcopy\u001b[0m\u001b[0;34m=\u001b[0m\u001b[0;32mFalse\u001b[0m\u001b[0;34m,\u001b[0m \u001b[0morder\u001b[0m\u001b[0;34m=\u001b[0m\u001b[0morder\u001b[0m\u001b[0;34m)\u001b[0m\u001b[0;34m\u001b[0m\u001b[0;34m\u001b[0m\u001b[0m\n\u001b[0m\u001b[1;32m    103\u001b[0m \u001b[0;34m\u001b[0m\u001b[0m\n\u001b[1;32m    104\u001b[0m \u001b[0;34m\u001b[0m\u001b[0m\n",
      "\u001b[0;31mValueError\u001b[0m: could not convert string to float: 'Software—Application'"
     ]
    }
   ],
   "source": [
    "classifier = LogisticRegression(solver='lbfgs', random_state=1)\n",
    "classifier.fit(X_train, y_train)\n",
    "print(f\"Training Data Score: {classifier.score(X_train, y_train)}\")\n",
    "print(f\"Testing Data Score: {classifier.score(X_test, y_test)}\")\n",
    "\n",
    "# Predict outcomes for test data set\n",
    "predictions = classifier.predict(X_test)\n",
    "pd.DataFrame({\"Prediction\": predictions, \"Actual\": y_test})"
   ]
  },
  {
   "cell_type": "code",
   "execution_count": null,
   "id": "be6307ea-5a2f-4178-a5fb-d35ffd632728",
   "metadata": {},
   "outputs": [],
   "source": []
  }
 ],
 "metadata": {
  "kernelspec": {
   "display_name": "mlenv",
   "language": "python",
   "name": "mlenv"
  },
  "language_info": {
   "codemirror_mode": {
    "name": "ipython",
    "version": 3
   },
   "file_extension": ".py",
   "mimetype": "text/x-python",
   "name": "python",
   "nbconvert_exporter": "python",
   "pygments_lexer": "ipython3",
   "version": "3.7.7"
  }
 },
 "nbformat": 4,
 "nbformat_minor": 5
}
