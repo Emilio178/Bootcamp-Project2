{
 "cells": [
  {
   "cell_type": "code",
   "execution_count": 1,
   "id": "fb545ac0-32cf-4370-b702-3ec4ae9add5f",
   "metadata": {},
   "outputs": [],
   "source": [
    "%matplotlib inline\n",
    "import pandas as pd\n",
    "import os\n",
    "# Import the main functionality from the SimFin Python API.\n",
    "import simfin as sf\n",
    "\n",
    "# Import names used for easy access to SimFin's data-columns.\n",
    "from simfin.names import *\n",
    "\n",
    "import yahoo_fin.stock_info as si\n",
    "# import pandas_datareader.data as web\n",
    "\n",
    "from dateutil.relativedelta import relativedelta\n",
    "from datetime import datetime"
   ]
  },
  {
   "cell_type": "code",
   "execution_count": null,
   "id": "8f6cc344-f639-4151-9652-efe8b74d208b",
   "metadata": {},
   "outputs": [],
   "source": [
    "# sample base\n",
    "tickers = si.tickers_sp500()"
   ]
  },
  {
   "cell_type": "code",
   "execution_count": null,
   "id": "aebdfd76-e709-4efe-b4be-29eb4cebbd2b",
   "metadata": {},
   "outputs": [],
   "source": [
    "cwd = os.getcwd()\n",
    "cwd"
   ]
  },
  {
   "cell_type": "code",
   "execution_count": null,
   "id": "61143174-f28e-4f3b-9914-dfdc7ae190f4",
   "metadata": {},
   "outputs": [],
   "source": [
    "sf.set_data_dir('/Users/feiyiyang/Documents/Bootcamp/Team9-Project2/Bootcamp-Project2/simfin_data/')"
   ]
  },
  {
   "cell_type": "code",
   "execution_count": null,
   "id": "d5a13545-b58f-4b35-98d2-252ab37d2984",
   "metadata": {},
   "outputs": [],
   "source": [
    "sf.load_api_key(path='/Users/feiyiyang/Documents/Bootcamp/Team9-Project2/Bootcamp-Project2/simfin_data/simfin_api_key.txt')"
   ]
  },
  {
   "cell_type": "markdown",
   "id": "7e8a724c-f125-4ccf-9e22-02fb3130f9f7",
   "metadata": {},
   "source": [
    "### Part 1: Grab quarterly fundamentals from Simfin API"
   ]
  },
  {
   "cell_type": "code",
   "execution_count": null,
   "id": "c7196960-238a-4024-8521-49c87ef82844",
   "metadata": {},
   "outputs": [],
   "source": [
    "df_income = sf.load(dataset='income', variant='quarterly', market='us')\n",
    "df_balance = sf.load(dataset='balance', variant='quarterly', market='us')\n",
    "df_cashflow = sf.load(dataset='cashflow', variant='quarterly', market='us')"
   ]
  },
  {
   "cell_type": "code",
   "execution_count": null,
   "id": "8d1eb56b-309a-4f34-8aab-9a9563579353",
   "metadata": {},
   "outputs": [],
   "source": [
    "df_cashflow.columns"
   ]
  },
  {
   "cell_type": "code",
   "execution_count": null,
   "id": "b2040817-943d-4df3-893e-62e42edfd42a",
   "metadata": {},
   "outputs": [],
   "source": [
    "df_fundamentals = pd.merge(df_income[['Ticker','Fiscal Year','Fiscal Period','Report Date', 'Publish Date','Revenue','Gross Profit','Operating Income (Loss)','Net Income']], \n",
    "                           df_balance[['Ticker','Fiscal Year','Fiscal Period','Shares (Basic)','Cash, Cash Equivalents & Short Term Investments','Total Assets','Total Liabilities','Total Equity']],  \n",
    "                           how='left', \n",
    "                           on=['Ticker','Fiscal Year','Fiscal Period'])"
   ]
  },
  {
   "cell_type": "code",
   "execution_count": null,
   "id": "08a98872-38db-49ad-9f61-cebf910dbf56",
   "metadata": {},
   "outputs": [],
   "source": [
    "df_fundamentals= pd.merge(df_fundamentals,\n",
    "                          df_cashflow[['Ticker','Fiscal Year','Fiscal Period','Net Cash from Operating Activities','Net Change in Long Term Investment','Net Cash from Investing Activities', 'Dividends Paid', 'Net Cash from Financing Activities', 'Net Change in Cash']],\n",
    "                           how='left', \n",
    "                           on=['Ticker','Fiscal Year','Fiscal Period'])"
   ]
  },
  {
   "cell_type": "code",
   "execution_count": null,
   "id": "6433db5e-cb44-43a6-950f-017588b0a3cb",
   "metadata": {},
   "outputs": [],
   "source": [
    "df_fundamentals.tail()"
   ]
  },
  {
   "cell_type": "code",
   "execution_count": null,
   "id": "1ca9075f-29d1-4e23-afa1-f55817925451",
   "metadata": {},
   "outputs": [],
   "source": [
    "# add a column for next earning date - to set the start/end date for append daily price\n",
    "df_fundamentals['Next_publish_date']=df_fundamentals.groupby(\"Ticker\")['Publish Date'].shift(-1)\n",
    "u = (pd.to_datetime(df_fundamentals['Publish Date']) + pd.DateOffset(months=3)).dt.date\n",
    "df_fundamentals.Next_publish_date.fillna(u,inplace=True)"
   ]
  },
  {
   "cell_type": "code",
   "execution_count": null,
   "id": "0546657f-dfa9-4ce3-9a1e-827250b1212a",
   "metadata": {},
   "outputs": [],
   "source": [
    "df_fundamentals.to_csv('data/us_fundamental.csv',index=False)"
   ]
  },
  {
   "cell_type": "markdown",
   "id": "64d65370-44f2-4d0b-a6e2-994ca0d768e5",
   "metadata": {},
   "source": [
    "### Part 2: Grab daily stock price from yahoo finance API (yahoo_fin.stock_info)"
   ]
  },
  {
   "cell_type": "code",
   "execution_count": null,
   "id": "b6dca4df-0346-4f08-a500-6a4ec085965c",
   "metadata": {},
   "outputs": [],
   "source": [
    "# load fundamental data\n",
    "df_fundamentals=pd.read_csv('data/us_fundamental.csv')"
   ]
  },
  {
   "cell_type": "code",
   "execution_count": null,
   "id": "ba3efa4a-dbe5-445a-aff5-1807431194de",
   "metadata": {},
   "outputs": [],
   "source": [
    "# sample base and starting date for training\n",
    "tickers_sp500 = list(si.tickers_sp500())\n",
    "start_date = '2016-01-01'\n",
    "end_date = '2021-12-31'"
   ]
  },
  {
   "cell_type": "code",
   "execution_count": null,
   "id": "5360302d-f68e-449d-829e-3258691856c8",
   "metadata": {},
   "outputs": [],
   "source": [
    "# append daily price data to fundamental where the date is within the current publish date and next publish date\n",
    "frames=[]\n",
    "for ticker in tickers_sp500:\n",
    "    try:\n",
    "        df1=df_fundamentals[df_fundamentals['Ticker']==ticker]\n",
    "        df2=si.get_data(ticker , start_date = start_date, end_date=end_date,index_as_date=False)\n",
    "    except:\n",
    "        print(f\"No data available for {ticker}\")\n",
    "    else:\n",
    "        df_merge=pd.merge(df1,df2,how='left',left_on='Ticker',right_on='ticker')\n",
    "        df_merge= df_merge[(df_merge.date > df_merge['Publish Date']) & (df_merge.date <= df_merge['Next_publish_date'])]\n",
    "        frames.append(df_merge)\n",
    "    \n",
    "\n",
    "df_sp500 = pd.concat(frames)"
   ]
  },
  {
   "cell_type": "code",
   "execution_count": null,
   "id": "26885fcb-a7b7-4b02-8770-f75c4fad4736",
   "metadata": {},
   "outputs": [],
   "source": [
    "# this is for testing if the merge was correct\n",
    "#list(df_sp500[(df_sp500['Publish Date']== '2021-05-06') & (df_sp500['Ticker']== 'AES')].date)"
   ]
  },
  {
   "cell_type": "code",
   "execution_count": null,
   "id": "9e507683-e046-47c3-846e-daf1cd4bd213",
   "metadata": {},
   "outputs": [],
   "source": [
    "df_sp500.to_csv('data/sp500_fundamental_dailyprice.csv',index=False)"
   ]
  },
  {
   "cell_type": "markdown",
   "id": "7a8e8755-d206-4571-8982-e749efe1fb21",
   "metadata": {},
   "source": [
    "### Part 3: Append Other Data "
   ]
  },
  {
   "cell_type": "markdown",
   "id": "39611cce-435c-4dd9-bb45-96c69047ed6f",
   "metadata": {},
   "source": [
    "#### 1.Industry/Sector"
   ]
  },
  {
   "cell_type": "code",
   "execution_count": 2,
   "id": "8976c555-60cf-4ede-99e8-a5a4bb6473d1",
   "metadata": {},
   "outputs": [],
   "source": [
    "# load fundamental data\n",
    "df_sp500=pd.read_csv('data/sp500_fundamental_dailyprice.csv')\n"
   ]
  },
  {
   "cell_type": "code",
   "execution_count": 3,
   "id": "4360789b-17a1-4c4b-b801-174e8fcd77cc",
   "metadata": {},
   "outputs": [],
   "source": [
    "df_industry_sector=pd.DataFrame(list(df_sp500.Ticker.unique()),columns=['Ticker'])"
   ]
  },
  {
   "cell_type": "code",
   "execution_count": 15,
   "id": "42aa3bb1-e457-42fb-8401-513e55dba74a",
   "metadata": {},
   "outputs": [],
   "source": [
    "test=df_industry_sector.iloc[:5]"
   ]
  },
  {
   "cell_type": "code",
   "execution_count": 23,
   "id": "7c504d43-bb58-4550-8f95-6faa28cddc20",
   "metadata": {},
   "outputs": [
    {
     "data": {
      "text/html": [
       "<div>\n",
       "<style scoped>\n",
       "    .dataframe tbody tr th:only-of-type {\n",
       "        vertical-align: middle;\n",
       "    }\n",
       "\n",
       "    .dataframe tbody tr th {\n",
       "        vertical-align: top;\n",
       "    }\n",
       "\n",
       "    .dataframe thead th {\n",
       "        text-align: right;\n",
       "    }\n",
       "</style>\n",
       "<table border=\"1\" class=\"dataframe\">\n",
       "  <thead>\n",
       "    <tr style=\"text-align: right;\">\n",
       "      <th></th>\n",
       "      <th>Ticker</th>\n",
       "    </tr>\n",
       "  </thead>\n",
       "  <tbody>\n",
       "    <tr>\n",
       "      <th>0</th>\n",
       "      <td>A</td>\n",
       "    </tr>\n",
       "    <tr>\n",
       "      <th>1</th>\n",
       "      <td>AAL</td>\n",
       "    </tr>\n",
       "    <tr>\n",
       "      <th>2</th>\n",
       "      <td>AAP</td>\n",
       "    </tr>\n",
       "    <tr>\n",
       "      <th>3</th>\n",
       "      <td>AAPL</td>\n",
       "    </tr>\n",
       "    <tr>\n",
       "      <th>4</th>\n",
       "      <td>ABBV</td>\n",
       "    </tr>\n",
       "    <tr>\n",
       "      <th>5</th>\n",
       "      <td>TTWO</td>\n",
       "    </tr>\n",
       "    <tr>\n",
       "      <th>6</th>\n",
       "      <td>KK</td>\n",
       "    </tr>\n",
       "  </tbody>\n",
       "</table>\n",
       "</div>"
      ],
      "text/plain": [
       "  Ticker\n",
       "0      A\n",
       "1    AAL\n",
       "2    AAP\n",
       "3   AAPL\n",
       "4   ABBV\n",
       "5   TTWO\n",
       "6     KK"
      ]
     },
     "execution_count": 23,
     "metadata": {},
     "output_type": "execute_result"
    }
   ],
   "source": [
    "df2 = {'Ticker': 'KK'}\n",
    "test = test.append(df2, ignore_index = True)\n",
    "test"
   ]
  },
  {
   "cell_type": "code",
   "execution_count": null,
   "id": "3396a199-46d0-49ae-8df7-b71fc62f458c",
   "metadata": {},
   "outputs": [],
   "source": [
    "sector_df= pd.DataFrame(columns=['Ticker', 'Sector', 'Industry'])\n",
    "\n",
    "for ticker in df_industry_sector.Ticker.unique():\n",
    "    try:\n",
    "        sector_df=sector_df.append({\n",
    "            'Ticker':ticker,\n",
    "            'Sector':si.get_company_info(ticker).loc['sector'].Value,\n",
    "            'Industry':si.get_company_info(ticker).loc['industry'].Value\n",
    "        }, ignore_index=True)\n",
    "        # print(ticker)\n",
    "    except:\n",
    "        print(f\"No industry data available for {ticker}\")\n"
   ]
  },
  {
   "cell_type": "code",
   "execution_count": 28,
   "id": "63020914-64e2-4930-9789-fc7232eb900a",
   "metadata": {},
   "outputs": [
    {
     "data": {
      "text/html": [
       "<div>\n",
       "<style scoped>\n",
       "    .dataframe tbody tr th:only-of-type {\n",
       "        vertical-align: middle;\n",
       "    }\n",
       "\n",
       "    .dataframe tbody tr th {\n",
       "        vertical-align: top;\n",
       "    }\n",
       "\n",
       "    .dataframe thead th {\n",
       "        text-align: right;\n",
       "    }\n",
       "</style>\n",
       "<table border=\"1\" class=\"dataframe\">\n",
       "  <thead>\n",
       "    <tr style=\"text-align: right;\">\n",
       "      <th></th>\n",
       "      <th>Ticker</th>\n",
       "      <th>Sector</th>\n",
       "      <th>Industry</th>\n",
       "    </tr>\n",
       "  </thead>\n",
       "  <tbody>\n",
       "    <tr>\n",
       "      <th>408</th>\n",
       "      <td>XYL</td>\n",
       "      <td>Industrials</td>\n",
       "      <td>Specialty Industrial Machinery</td>\n",
       "    </tr>\n",
       "    <tr>\n",
       "      <th>409</th>\n",
       "      <td>YUM</td>\n",
       "      <td>Consumer Cyclical</td>\n",
       "      <td>Restaurants</td>\n",
       "    </tr>\n",
       "    <tr>\n",
       "      <th>410</th>\n",
       "      <td>ZBH</td>\n",
       "      <td>Healthcare</td>\n",
       "      <td>Medical Devices</td>\n",
       "    </tr>\n",
       "    <tr>\n",
       "      <th>411</th>\n",
       "      <td>ZBRA</td>\n",
       "      <td>Technology</td>\n",
       "      <td>Communication Equipment</td>\n",
       "    </tr>\n",
       "    <tr>\n",
       "      <th>412</th>\n",
       "      <td>ZTS</td>\n",
       "      <td>Healthcare</td>\n",
       "      <td>Drug Manufacturers—Specialty &amp; Generic</td>\n",
       "    </tr>\n",
       "  </tbody>\n",
       "</table>\n",
       "</div>"
      ],
      "text/plain": [
       "    Ticker             Sector                                Industry\n",
       "408    XYL        Industrials          Specialty Industrial Machinery\n",
       "409    YUM  Consumer Cyclical                             Restaurants\n",
       "410    ZBH         Healthcare                         Medical Devices\n",
       "411   ZBRA         Technology                 Communication Equipment\n",
       "412    ZTS         Healthcare  Drug Manufacturers—Specialty & Generic"
      ]
     },
     "execution_count": 28,
     "metadata": {},
     "output_type": "execute_result"
    }
   ],
   "source": [
    "sector_df.tail()"
   ]
  },
  {
   "cell_type": "code",
   "execution_count": 30,
   "id": "d1bf3d64-1166-4cf1-a6ef-456f8d5b8382",
   "metadata": {},
   "outputs": [],
   "source": [
    "sector_df.to_csv('data/industry_sector.csv',index=False)"
   ]
  },
  {
   "cell_type": "code",
   "execution_count": 31,
   "id": "3fd8b317-9111-41c6-b8ab-47b567ed435a",
   "metadata": {},
   "outputs": [],
   "source": [
    "df_sp500=pd.merge(df_sp500,sector_df,how='left', on='Ticker')"
   ]
  },
  {
   "cell_type": "code",
   "execution_count": 33,
   "id": "4f0bdbba-365a-42bc-825b-1fac4e29d929",
   "metadata": {},
   "outputs": [
    {
     "data": {
      "text/plain": [
       "413"
      ]
     },
     "execution_count": 33,
     "metadata": {},
     "output_type": "execute_result"
    }
   ],
   "source": [
    "len(df_industry_sector.Ticker.unique())"
   ]
  },
  {
   "cell_type": "markdown",
   "id": "25a056ee-1740-4e1b-b9b3-09b99a486ead",
   "metadata": {},
   "source": [
    "#### 2.Earning Surprise"
   ]
  },
  {
   "cell_type": "code",
   "execution_count": 53,
   "id": "ac367ec5-06c2-43f4-b827-672b6f9f7b90",
   "metadata": {},
   "outputs": [
    {
     "ename": "AttributeError",
     "evalue": "'Series' object has no attribute 'date'",
     "output_type": "error",
     "traceback": [
      "\u001b[0;31m---------------------------------------------------------------------------\u001b[0m",
      "\u001b[0;31mAttributeError\u001b[0m                            Traceback (most recent call last)",
      "\u001b[0;32m/var/folders/td/m_m6zytj2hxgl8msx2lk94kh0000gn/T/ipykernel_4480/3779725702.py\u001b[0m in \u001b[0;36m<module>\u001b[0;34m\u001b[0m\n\u001b[1;32m      1\u001b[0m \u001b[0mdftest\u001b[0m\u001b[0;34m=\u001b[0m\u001b[0mpd\u001b[0m\u001b[0;34m.\u001b[0m\u001b[0mDataFrame\u001b[0m\u001b[0;34m.\u001b[0m\u001b[0mfrom_dict\u001b[0m\u001b[0;34m(\u001b[0m\u001b[0msi\u001b[0m\u001b[0;34m.\u001b[0m\u001b[0mget_earnings_history\u001b[0m\u001b[0;34m(\u001b[0m\u001b[0;34m\"AAPL\"\u001b[0m\u001b[0;34m)\u001b[0m\u001b[0;34m)\u001b[0m\u001b[0;34m\u001b[0m\u001b[0;34m\u001b[0m\u001b[0m\n\u001b[1;32m      2\u001b[0m \u001b[0mdftest\u001b[0m\u001b[0;34m=\u001b[0m\u001b[0mdftest\u001b[0m\u001b[0;34m[\u001b[0m\u001b[0;34m[\u001b[0m\u001b[0;34m'ticker'\u001b[0m\u001b[0;34m,\u001b[0m\u001b[0;34m'startdatetime'\u001b[0m\u001b[0;34m,\u001b[0m\u001b[0;34m'epsestimate'\u001b[0m\u001b[0;34m,\u001b[0m\u001b[0;34m'epsactual'\u001b[0m\u001b[0;34m,\u001b[0m\u001b[0;34m'epssurprisepct'\u001b[0m\u001b[0;34m]\u001b[0m\u001b[0;34m]\u001b[0m\u001b[0;34m\u001b[0m\u001b[0;34m\u001b[0m\u001b[0m\n\u001b[0;32m----> 3\u001b[0;31m \u001b[0mdftest\u001b[0m\u001b[0;34m.\u001b[0m\u001b[0mstartdatetime\u001b[0m\u001b[0;34m.\u001b[0m\u001b[0mdate\u001b[0m\u001b[0;34m(\u001b[0m\u001b[0;34m)\u001b[0m\u001b[0;34m\u001b[0m\u001b[0;34m\u001b[0m\u001b[0m\n\u001b[0m",
      "\u001b[0;32m~/opt/anaconda3/envs/mlenv/lib/python3.7/site-packages/pandas/core/generic.py\u001b[0m in \u001b[0;36m__getattr__\u001b[0;34m(self, name)\u001b[0m\n\u001b[1;32m   5485\u001b[0m         ):\n\u001b[1;32m   5486\u001b[0m             \u001b[0;32mreturn\u001b[0m \u001b[0mself\u001b[0m\u001b[0;34m[\u001b[0m\u001b[0mname\u001b[0m\u001b[0;34m]\u001b[0m\u001b[0;34m\u001b[0m\u001b[0;34m\u001b[0m\u001b[0m\n\u001b[0;32m-> 5487\u001b[0;31m         \u001b[0;32mreturn\u001b[0m \u001b[0mobject\u001b[0m\u001b[0;34m.\u001b[0m\u001b[0m__getattribute__\u001b[0m\u001b[0;34m(\u001b[0m\u001b[0mself\u001b[0m\u001b[0;34m,\u001b[0m \u001b[0mname\u001b[0m\u001b[0;34m)\u001b[0m\u001b[0;34m\u001b[0m\u001b[0;34m\u001b[0m\u001b[0m\n\u001b[0m\u001b[1;32m   5488\u001b[0m \u001b[0;34m\u001b[0m\u001b[0m\n\u001b[1;32m   5489\u001b[0m     \u001b[0;32mdef\u001b[0m \u001b[0m__setattr__\u001b[0m\u001b[0;34m(\u001b[0m\u001b[0mself\u001b[0m\u001b[0;34m,\u001b[0m \u001b[0mname\u001b[0m\u001b[0;34m:\u001b[0m \u001b[0mstr\u001b[0m\u001b[0;34m,\u001b[0m \u001b[0mvalue\u001b[0m\u001b[0;34m)\u001b[0m \u001b[0;34m->\u001b[0m \u001b[0;32mNone\u001b[0m\u001b[0;34m:\u001b[0m\u001b[0;34m\u001b[0m\u001b[0;34m\u001b[0m\u001b[0m\n",
      "\u001b[0;31mAttributeError\u001b[0m: 'Series' object has no attribute 'date'"
     ]
    }
   ],
   "source": [
    "dftest=pd.DataFrame.from_dict(si.get_earnings_history(\"AAPL\"))\n",
    "dftest=dftest[['ticker','startdatetime','epsestimate','epsactual','epssurprisepct']]\n",
    "dftest.startdatetime.date()"
   ]
  },
  {
   "cell_type": "code",
   "execution_count": 51,
   "id": "45775666-3bbb-4442-a0e3-6848dda9b6b4",
   "metadata": {},
   "outputs": [
    {
     "ename": "AttributeError",
     "evalue": "Can only use .dt accessor with datetimelike values",
     "output_type": "error",
     "traceback": [
      "\u001b[0;31m---------------------------------------------------------------------------\u001b[0m",
      "\u001b[0;31mAttributeError\u001b[0m                            Traceback (most recent call last)",
      "\u001b[0;32m/var/folders/td/m_m6zytj2hxgl8msx2lk94kh0000gn/T/ipykernel_4480/491507424.py\u001b[0m in \u001b[0;36m<module>\u001b[0;34m\u001b[0m\n\u001b[0;32m----> 1\u001b[0;31m \u001b[0mdftest\u001b[0m\u001b[0;34m[\u001b[0m\u001b[0;34m'startdatetime'\u001b[0m\u001b[0;34m]\u001b[0m\u001b[0;34m=\u001b[0m\u001b[0mdftest\u001b[0m\u001b[0;34m[\u001b[0m\u001b[0;34m'startdatetime'\u001b[0m\u001b[0;34m]\u001b[0m\u001b[0;34m.\u001b[0m\u001b[0mdt\u001b[0m\u001b[0;34m.\u001b[0m\u001b[0mstrftime\u001b[0m\u001b[0;34m(\u001b[0m\u001b[0;34m)\u001b[0m\u001b[0;34m\u001b[0m\u001b[0;34m\u001b[0m\u001b[0m\n\u001b[0m",
      "\u001b[0;32m~/opt/anaconda3/envs/mlenv/lib/python3.7/site-packages/pandas/core/generic.py\u001b[0m in \u001b[0;36m__getattr__\u001b[0;34m(self, name)\u001b[0m\n\u001b[1;32m   5485\u001b[0m         ):\n\u001b[1;32m   5486\u001b[0m             \u001b[0;32mreturn\u001b[0m \u001b[0mself\u001b[0m\u001b[0;34m[\u001b[0m\u001b[0mname\u001b[0m\u001b[0;34m]\u001b[0m\u001b[0;34m\u001b[0m\u001b[0;34m\u001b[0m\u001b[0m\n\u001b[0;32m-> 5487\u001b[0;31m         \u001b[0;32mreturn\u001b[0m \u001b[0mobject\u001b[0m\u001b[0;34m.\u001b[0m\u001b[0m__getattribute__\u001b[0m\u001b[0;34m(\u001b[0m\u001b[0mself\u001b[0m\u001b[0;34m,\u001b[0m \u001b[0mname\u001b[0m\u001b[0;34m)\u001b[0m\u001b[0;34m\u001b[0m\u001b[0;34m\u001b[0m\u001b[0m\n\u001b[0m\u001b[1;32m   5488\u001b[0m \u001b[0;34m\u001b[0m\u001b[0m\n\u001b[1;32m   5489\u001b[0m     \u001b[0;32mdef\u001b[0m \u001b[0m__setattr__\u001b[0m\u001b[0;34m(\u001b[0m\u001b[0mself\u001b[0m\u001b[0;34m,\u001b[0m \u001b[0mname\u001b[0m\u001b[0;34m:\u001b[0m \u001b[0mstr\u001b[0m\u001b[0;34m,\u001b[0m \u001b[0mvalue\u001b[0m\u001b[0;34m)\u001b[0m \u001b[0;34m->\u001b[0m \u001b[0;32mNone\u001b[0m\u001b[0;34m:\u001b[0m\u001b[0;34m\u001b[0m\u001b[0;34m\u001b[0m\u001b[0m\n",
      "\u001b[0;32m~/opt/anaconda3/envs/mlenv/lib/python3.7/site-packages/pandas/core/accessor.py\u001b[0m in \u001b[0;36m__get__\u001b[0;34m(self, obj, cls)\u001b[0m\n\u001b[1;32m    179\u001b[0m             \u001b[0;31m# we're accessing the attribute of the class, i.e., Dataset.geo\u001b[0m\u001b[0;34m\u001b[0m\u001b[0;34m\u001b[0m\u001b[0;34m\u001b[0m\u001b[0m\n\u001b[1;32m    180\u001b[0m             \u001b[0;32mreturn\u001b[0m \u001b[0mself\u001b[0m\u001b[0;34m.\u001b[0m\u001b[0m_accessor\u001b[0m\u001b[0;34m\u001b[0m\u001b[0;34m\u001b[0m\u001b[0m\n\u001b[0;32m--> 181\u001b[0;31m         \u001b[0maccessor_obj\u001b[0m \u001b[0;34m=\u001b[0m \u001b[0mself\u001b[0m\u001b[0;34m.\u001b[0m\u001b[0m_accessor\u001b[0m\u001b[0;34m(\u001b[0m\u001b[0mobj\u001b[0m\u001b[0;34m)\u001b[0m\u001b[0;34m\u001b[0m\u001b[0;34m\u001b[0m\u001b[0m\n\u001b[0m\u001b[1;32m    182\u001b[0m         \u001b[0;31m# Replace the property with the accessor object. Inspired by:\u001b[0m\u001b[0;34m\u001b[0m\u001b[0;34m\u001b[0m\u001b[0;34m\u001b[0m\u001b[0m\n\u001b[1;32m    183\u001b[0m         \u001b[0;31m# https://www.pydanny.com/cached-property.html\u001b[0m\u001b[0;34m\u001b[0m\u001b[0;34m\u001b[0m\u001b[0;34m\u001b[0m\u001b[0m\n",
      "\u001b[0;32m~/opt/anaconda3/envs/mlenv/lib/python3.7/site-packages/pandas/core/indexes/accessors.py\u001b[0m in \u001b[0;36m__new__\u001b[0;34m(cls, data)\u001b[0m\n\u001b[1;32m    504\u001b[0m             \u001b[0;32mreturn\u001b[0m \u001b[0mPeriodProperties\u001b[0m\u001b[0;34m(\u001b[0m\u001b[0mdata\u001b[0m\u001b[0;34m,\u001b[0m \u001b[0morig\u001b[0m\u001b[0;34m)\u001b[0m\u001b[0;34m\u001b[0m\u001b[0;34m\u001b[0m\u001b[0m\n\u001b[1;32m    505\u001b[0m \u001b[0;34m\u001b[0m\u001b[0m\n\u001b[0;32m--> 506\u001b[0;31m         \u001b[0;32mraise\u001b[0m \u001b[0mAttributeError\u001b[0m\u001b[0;34m(\u001b[0m\u001b[0;34m\"Can only use .dt accessor with datetimelike values\"\u001b[0m\u001b[0;34m)\u001b[0m\u001b[0;34m\u001b[0m\u001b[0;34m\u001b[0m\u001b[0m\n\u001b[0m",
      "\u001b[0;31mAttributeError\u001b[0m: Can only use .dt accessor with datetimelike values"
     ]
    }
   ],
   "source": [
    "dftest['startdatetime']=dftest['startdatetime'].dt.strftime()"
   ]
  },
  {
   "cell_type": "code",
   "execution_count": null,
   "id": "a0abe2d0-c9f2-42e7-8900-705d5135a520",
   "metadata": {},
   "outputs": [],
   "source": [
    "dftest"
   ]
  },
  {
   "cell_type": "code",
   "execution_count": null,
   "id": "431d6eaf-8969-4cbe-ada9-4812f085aa39",
   "metadata": {},
   "outputs": [],
   "source": []
  },
  {
   "cell_type": "code",
   "execution_count": null,
   "id": "2de6fcce-7336-4c4f-aa96-6cbc24375232",
   "metadata": {},
   "outputs": [],
   "source": []
  }
 ],
 "metadata": {
  "kernelspec": {
   "display_name": "mlenv",
   "language": "python",
   "name": "mlenv"
  },
  "language_info": {
   "codemirror_mode": {
    "name": "ipython",
    "version": 3
   },
   "file_extension": ".py",
   "mimetype": "text/x-python",
   "name": "python",
   "nbconvert_exporter": "python",
   "pygments_lexer": "ipython3",
   "version": "3.7.7"
  }
 },
 "nbformat": 4,
 "nbformat_minor": 5
}
