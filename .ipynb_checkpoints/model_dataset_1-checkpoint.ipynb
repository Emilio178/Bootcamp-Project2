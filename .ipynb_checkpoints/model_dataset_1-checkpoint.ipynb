{
 "cells": [
  {
   "cell_type": "markdown",
   "id": "b60ceb2f-3434-40b1-bc8c-eb5d30154ded",
   "metadata": {},
   "source": [
    "## Create dataset for Model 1 - \"Before-Earning-Call Betting\"\n",
    "### Predicting likelihood of positive return without knowing the newest information"
   ]
  },
  {
   "cell_type": "code",
   "execution_count": 25,
   "id": "fa95bb04-128e-46e6-88e8-8592b5e6acb4",
   "metadata": {},
   "outputs": [],
   "source": [
    "%matplotlib inline\n",
    "import pandas as pd\n",
    "import numpy as np\n",
    "import os\n",
    "# Import the main functionality from the SimFin Python API.\n",
    "import simfin as sf\n",
    "\n",
    "# Import names used for easy access to SimFin's data-columns.\n",
    "from simfin.names import *\n",
    "\n",
    "import yfinance as yf\n",
    "import yahoo_fin.stock_info as si\n",
    "# import pandas_datareader.data as web\n",
    "\n",
    "from dateutil.relativedelta import relativedelta\n",
    "from datetime import datetime"
   ]
  },
  {
   "cell_type": "code",
   "execution_count": 26,
   "id": "677d9931-5937-44e2-b167-5c1ee513a805",
   "metadata": {},
   "outputs": [],
   "source": [
    "fdmt=pd.read_csv('data/fundamental.csv')\n",
    "seg=pd.read_csv('data/industry_sector.csv') \n",
    "tech=pd.read_csv('data/techind.csv') \n",
    "mkts=pd.read_csv('data/fin_mkts.csv') \n",
    "senti=pd.read_csv('data/mean_news_sentiment.csv') \n",
    "target=pd.read_csv('data/target.csv') "
   ]
  },
  {
   "cell_type": "code",
   "execution_count": 27,
   "id": "f5385925-b528-499c-a222-4dbb0e676b42",
   "metadata": {},
   "outputs": [],
   "source": [
    "df_model1=pd.merge(fdmt, seg\n",
    "                   , how='left'\n",
    "                   , left_on=['Ticker']\n",
    "                   , right_on=['Ticker'])"
   ]
  },
  {
   "cell_type": "code",
   "execution_count": 28,
   "id": "244bf089-21ee-4298-ad67-c12d9f4088a6",
   "metadata": {},
   "outputs": [],
   "source": [
    "df_model1['Next_EarningDate']=df_model1.groupby('Ticker')['Earning Date'].shift(-1)"
   ]
  },
  {
   "cell_type": "code",
   "execution_count": 29,
   "id": "df3f8a03-1f35-40cb-acef-0e20d0b2b546",
   "metadata": {},
   "outputs": [],
   "source": [
    "df_model1.drop(columns=[\n",
    "    'PE_new',\n",
    "    'PS_new',\n",
    "    'PB_new',\n",
    "    'Dividend_yields_new',\n",
    "    'Market_cap_mm'\n",
    "],inplace=True)"
   ]
  },
  {
   "cell_type": "code",
   "execution_count": 30,
   "id": "aaac498e-3a42-4c92-b727-de35b6d54124",
   "metadata": {},
   "outputs": [],
   "source": [
    "df_model1=pd.merge(df_model1, tech\n",
    "                   , how='left'\n",
    "                   , left_on=['Ticker','Next_EarningDate']\n",
    "                   , right_on=['Ticker','Earning Date'])"
   ]
  },
  {
   "cell_type": "code",
   "execution_count": 31,
   "id": "b124536e-9881-4b32-a44d-aad6b43bdcf7",
   "metadata": {},
   "outputs": [],
   "source": [
    "df_model1=pd.merge(df_model1, mkts\n",
    "                   , how='left'\n",
    "                   , left_on=['Ticker','Next_EarningDate']\n",
    "                   , right_on=['Ticker','Earning Date'])"
   ]
  },
  {
   "cell_type": "code",
   "execution_count": 32,
   "id": "e7d0a8d0-bcbf-4f33-a90e-17a9d8c9f64b",
   "metadata": {},
   "outputs": [],
   "source": [
    "df_model1=pd.merge(df_model1, senti\n",
    "                   , how='left'\n",
    "                   , left_on=['Ticker','Next_EarningDate']\n",
    "                   , right_on=['ticker','release_date'])\n",
    "df_model1.drop(columns=['ticker','release_date'],inplace=True)"
   ]
  },
  {
   "cell_type": "code",
   "execution_count": 33,
   "id": "130d7130-6466-4e3a-ad6d-099333510d6d",
   "metadata": {},
   "outputs": [
    {
     "name": "stderr",
     "output_type": "stream",
     "text": [
      "/Users/feiyiyang/opt/anaconda3/envs/mlenv/lib/python3.7/site-packages/ipykernel_launcher.py:5: FutureWarning: Passing 'suffixes' which cause duplicate columns {'Earning Date_x'} in the result is deprecated and will raise a MergeError in a future version.\n",
      "  \"\"\"\n"
     ]
    }
   ],
   "source": [
    "target1=target[['Ticker','Earning Date','T0','T0_5']]\n",
    "df_model1=pd.merge(df_model1, target1\n",
    "                   , how='left'\n",
    "                   , left_on=['Ticker','Next_EarningDate']\n",
    "                   , right_on=['Ticker','Earning Date'])"
   ]
  },
  {
   "cell_type": "code",
   "execution_count": 34,
   "id": "73ded2d9-fc0c-46f8-8b1f-c1100291c811",
   "metadata": {},
   "outputs": [],
   "source": [
    "df_model1.drop(columns=['Earning Date_x','Earning Date_y'],inplace=True)"
   ]
  },
  {
   "cell_type": "code",
   "execution_count": 35,
   "id": "d8684e13-08af-4814-8a5f-9e3cbaa2ebdf",
   "metadata": {},
   "outputs": [
    {
     "data": {
      "text/plain": [
       "(8211, 78)"
      ]
     },
     "execution_count": 35,
     "metadata": {},
     "output_type": "execute_result"
    }
   ],
   "source": [
    "df_model1.shape"
   ]
  },
  {
   "cell_type": "code",
   "execution_count": null,
   "id": "fbfa4c01-079e-48ec-9f7d-c556b2c3d1ea",
   "metadata": {},
   "outputs": [],
   "source": [
    "#valuationmetrics\n",
    "df_model1['PE_new']=df_model1['T0']/(df_model1['Net_income']/df_model1['Shares'])\n",
    "df_model1['PS_new']=df_model1['T0']/(df_model1['Revenue']/df_model1['Shares'])\n",
    "df_model1['PB_new']=df_model1['T0']/(df_model1['Assets']/df_model1['Shares'])\n",
    "df_model1['Dividend_yields_new']=(df_model1['Dividends']/df_model1['Shares'])/sp_500_fundamental['T0']\n",
    "df_model1['Market_cap_mm']=df_model1['Shares']*df_model1['T0']/1000000"
   ]
  },
  {
   "cell_type": "code",
   "execution_count": 36,
   "id": "ffa0dedc-5ae5-45b4-8b01-15c8f5dedb70",
   "metadata": {},
   "outputs": [
    {
     "data": {
      "text/plain": [
       "Index(['Ticker', 'beta_30avg', 'adjclose', 'Fiscal Year', 'Fiscal Period',\n",
       "       'Revenue', 'Net_income', 'Shares', 'Cash', 'Assets', 'CFO', 'CAPX',\n",
       "       'Dividends', 'FCF', 'EPSsuprise_ind', 'Revenue_qoq', 'Revenue_yoy',\n",
       "       'Net_Income_qoq', 'Net_Income_yoy', 'Gross_margin', 'Gross_margin_qoq',\n",
       "       'Gross_margin_yoy', 'Operating_margin', 'Operating_margin_qoq',\n",
       "       'Operating_margin_yoy', 'Net_margin', 'Net_margin_qoq',\n",
       "       'Net_margin_yoy', 'Cash_yoy', 'Assets_yoy', 'Leverage', 'CFO_qoq',\n",
       "       'FCF_qoq', 'Sector', 'Industry', 'Next_EarningDate', 'RSI', 'MFI',\n",
       "       'adjclose_SMA_12', 'adjclose_SMA_30', 'adjclose_EWMA_12',\n",
       "       'adjclose_EWMA_30', 'adjclose_UpperBand', 'adjclose_LowerBand',\n",
       "       'SMA_12_SMA_30', 'EWMA_12_EWMA_30', 'UpperBand_LowerBand', '^GSPC',\n",
       "       '^GSPC_pctchange_5', '^GSPC_pctchange_21', '^GSPC_pctchange_yoy',\n",
       "       '^RUT', '^RUT_pctchange_5', '^RUT_pctchange_21', '^RUT_pctchange_yoy',\n",
       "       '^VIX', '^VIX_pctchange_5', '^VIX_pctchange_21', '^VIX_pctchange_yoy',\n",
       "       'GC=F', 'GC=F_pctchange_5', 'GC=F_pctchange_21', 'GC=F_pctchange_yoy',\n",
       "       'CL=F', 'CL=F_pctchange_5', 'CL=F_pctchange_21', 'CL=F_pctchange_yoy',\n",
       "       '^TNX', '^TNX_pctchange_5', '^TNX_pctchange_21', '^TNX_pctchange_yoy',\n",
       "       '^FVX', '^FVX_pctchange_5', '^FVX_pctchange_21', '^FVX_pctchange_yoy',\n",
       "       'compound_sentiment', 'T0', 'T0_5'],\n",
       "      dtype='object')"
      ]
     },
     "execution_count": 36,
     "metadata": {},
     "output_type": "execute_result"
    }
   ],
   "source": [
    "df_model1.columns"
   ]
  },
  {
   "cell_type": "code",
   "execution_count": null,
   "id": "59d261d7-d9bc-4cb4-8ef9-0b19d5ba84a4",
   "metadata": {},
   "outputs": [],
   "source": []
  }
 ],
 "metadata": {
  "kernelspec": {
   "display_name": "mlenv",
   "language": "python",
   "name": "mlenv"
  },
  "language_info": {
   "codemirror_mode": {
    "name": "ipython",
    "version": 3
   },
   "file_extension": ".py",
   "mimetype": "text/x-python",
   "name": "python",
   "nbconvert_exporter": "python",
   "pygments_lexer": "ipython3",
   "version": "3.7.7"
  }
 },
 "nbformat": 4,
 "nbformat_minor": 5
}
