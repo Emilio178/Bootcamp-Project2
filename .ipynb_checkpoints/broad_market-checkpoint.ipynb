{
 "cells": [
  {
   "cell_type": "code",
   "execution_count": 37,
   "id": "ac6be3af-1af0-4795-a7d2-733a6362ad52",
   "metadata": {},
   "outputs": [],
   "source": [
    "import pandas_datareader.data as web\n",
    "import pandas as pd\n",
    "from pathlib import Path"
   ]
  },
  {
   "cell_type": "code",
   "execution_count": 53,
   "id": "5ce87e82-84a0-4fd7-9bf3-b91c1a3015d0",
   "metadata": {},
   "outputs": [],
   "source": [
    "financial_markets = ['^RUT', '^VIX']\n",
    "commodity_market_futures = ['GC=F', 'CL=F']\n",
    "economic_env = ['^TNX', '^FVX']\n",
    "start_date= '2016-01-01'\n",
    "end_date= '2022-06-15'"
   ]
  },
  {
   "cell_type": "code",
   "execution_count": 54,
   "id": "3c674cb5-35c2-4eb7-bc68-855d21210921",
   "metadata": {},
   "outputs": [],
   "source": [
    "def data_maker(tickers, start_date, end_date):\n",
    "    df = pd.DataFrame({})\n",
    "    for ticker in tickers:\n",
    "        data = web.DataReader(ticker, 'yahoo', start=start_date, end=end_date)\n",
    "        data['ticker'] = ticker\n",
    "        data = data[['ticker', 'High', 'Low', 'Open', 'Close', 'Volume', 'Adj Close']]\n",
    "        df = pd.concat([df, data])\n",
    "    return df"
   ]
  },
  {
   "cell_type": "code",
   "execution_count": 55,
   "id": "3986d7aa-99d1-4ab5-bbd1-4586dc8ce01f",
   "metadata": {},
   "outputs": [],
   "source": [
    "fin_mkts_df = data_maker(financial_markets, start_date=start_date, end_date=end_date)\n",
    "com_mkts_df = data_maker(commodity_market_futures, start_date=start_date, end_date=end_date)\n",
    "econ_env_df = data_maker(economic_env, start_date=start_date, end_date=end_date)"
   ]
  },
  {
   "cell_type": "code",
   "execution_count": 58,
   "id": "e4a7165c-50e7-4957-aea0-f4151c58b6f4",
   "metadata": {},
   "outputs": [],
   "source": [
    "fin_mkts_df['daily_change'] = fin_mkts_df.Close.pct_change()\n",
    "com_mkts_df['daily_change'] = com_mkts_df.Close.pct_change()\n",
    "econ_env_df['daily_change'] = econ_env_df.Close.pct_change()"
   ]
  },
  {
   "cell_type": "code",
   "execution_count": null,
   "id": "7a6e9cb1-7927-447c-b026-6116b1d39467",
   "metadata": {},
   "outputs": [],
   "source": []
  }
 ],
 "metadata": {
  "kernelspec": {
   "display_name": "Python 3 (ipykernel)",
   "language": "python",
   "name": "python3"
  },
  "language_info": {
   "codemirror_mode": {
    "name": "ipython",
    "version": 3
   },
   "file_extension": ".py",
   "mimetype": "text/x-python",
   "name": "python",
   "nbconvert_exporter": "python",
   "pygments_lexer": "ipython3",
   "version": "3.8.2"
  }
 },
 "nbformat": 4,
 "nbformat_minor": 5
}
