{
 "cells": [
  {
   "cell_type": "code",
   "execution_count": 8,
   "id": "ac6be3af-1af0-4795-a7d2-733a6362ad52",
   "metadata": {},
   "outputs": [],
   "source": [
    "import pandas_datareader.data as web\n",
    "import pandas as pd\n",
    "from pathlib import Path\n",
    "\n",
    "#load daily price data and earning dates data\n",
    "df_dailyprice=pd.read_csv('data/sp500_dailyprice.csv')"
   ]
  },
  {
   "cell_type": "code",
   "execution_count": 9,
   "id": "5ce87e82-84a0-4fd7-9bf3-b91c1a3015d0",
   "metadata": {},
   "outputs": [],
   "source": [
    "financial_markets = ['^GSPC','^RUT','^VIX','GC=F', 'CL=F','^TNX', '^FVX']\n",
    "start_date= '2016-01-01'\n",
    "end_date= '2021-12-31'"
   ]
  },
  {
   "cell_type": "code",
   "execution_count": 46,
   "id": "3c674cb5-35c2-4eb7-bc68-855d21210921",
   "metadata": {},
   "outputs": [],
   "source": [
    "def data_maker(tickers, start_date, end_date):\n",
    "    frames=[]\n",
    "    for ticker in tickers:\n",
    "        data = web.DataReader(ticker, 'yahoo', start=start_date, end=end_date)[['Close']]\n",
    "        data.columns = [ticker]\n",
    "        pctchange_5 = pd.Series(data[ticker].pct_change(5), name = ticker+'_pctchange_5') \n",
    "        pctchange_10 = pd.Series(data[ticker].pct_change(10), name = ticker+'_pctchange_10') \n",
    "        pctchange_30 = pd.Series(data[ticker].pct_change(10), name = ticker+'_pctchange_30') \n",
    "        data = data.join(pctchange_5)\n",
    "        frames.append(data)\n",
    "        \n",
    "    return pd.concat(frames,axis=1).reset_index()"
   ]
  },
  {
   "cell_type": "code",
   "execution_count": null,
   "id": "3986d7aa-99d1-4ab5-bbd1-4586dc8ce01f",
   "metadata": {},
   "outputs": [],
   "source": [
    "fin_mkts_df = data_maker(financial_markets, start_date=start_date, end_date=end_date)"
   ]
  },
  {
   "cell_type": "code",
   "execution_count": null,
   "id": "7a6e9cb1-7927-447c-b026-6116b1d39467",
   "metadata": {},
   "outputs": [],
   "source": [
    "fin_mkts_df.dropna(inplace=True)\n",
    "\n",
    "fin_mkts_df=pd.merge(df_earningdate[['Earning Date']]\n",
    "                   , fin_mkts_df\n",
    "                   , how='left'\n",
    "                   , left_on=['Ticker','Earning Date']\n",
    "                   , right_on=['Date'])\n",
    "\n",
    "fin_mkts_df.drop(columns=['Date'],inplace=True)\n",
    "\n",
    "fin_mkts_df.to_csv(\"data/fin_mkts.csv\",index=False)"
   ]
  },
  {
   "cell_type": "code",
   "execution_count": null,
   "id": "f4260042-1340-4399-bbc2-97f8511a6281",
   "metadata": {},
   "outputs": [],
   "source": []
  }
 ],
 "metadata": {
  "kernelspec": {
   "display_name": "Python 3 (ipykernel)",
   "language": "python",
   "name": "python3"
  },
  "language_info": {
   "codemirror_mode": {
    "name": "ipython",
    "version": 3
   },
   "file_extension": ".py",
   "mimetype": "text/x-python",
   "name": "python",
   "nbconvert_exporter": "python",
   "pygments_lexer": "ipython3",
   "version": "3.9.7"
  }
 },
 "nbformat": 4,
 "nbformat_minor": 5
}
