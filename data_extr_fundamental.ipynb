{
 "cells": [
  {
   "cell_type": "code",
   "execution_count": null,
   "id": "fb545ac0-32cf-4370-b702-3ec4ae9add5f",
   "metadata": {},
   "outputs": [],
   "source": [
    "%matplotlib inline\n",
    "import pandas as pd\n",
    "import os\n",
    "# Import the main functionality from the SimFin Python API.\n",
    "import simfin as sf\n",
    "\n",
    "# Import names used for easy access to SimFin's data-columns.\n",
    "from simfin.names import *\n",
    "\n",
    "import yfinance as yf\n",
    "import yahoo_fin.stock_info as si\n",
    "# import pandas_datareader.data as web\n",
    "\n",
    "from dateutil.relativedelta import relativedelta\n",
    "from datetime import datetime"
   ]
  },
  {
   "cell_type": "code",
   "execution_count": null,
   "id": "8f6cc344-f639-4151-9652-efe8b74d208b",
   "metadata": {},
   "outputs": [],
   "source": [
    "# sample base and starting date for training\n",
    "tickers_sp500 = list(si.tickers_sp500())\n",
    "start_date = '2016-01-01'\n",
    "end_date = '2021-12-31'"
   ]
  },
  {
   "cell_type": "code",
   "execution_count": null,
   "id": "aebdfd76-e709-4efe-b4be-29eb4cebbd2b",
   "metadata": {},
   "outputs": [],
   "source": [
    "cwd = os.getcwd()\n",
    "cwd"
   ]
  },
  {
   "cell_type": "code",
   "execution_count": null,
   "id": "61143174-f28e-4f3b-9914-dfdc7ae190f4",
   "metadata": {},
   "outputs": [],
   "source": [
    "sf.set_data_dir('/Users/feiyiyang/Documents/Bootcamp/Team9-Project2/Bootcamp-Project2/simfin_data/')"
   ]
  },
  {
   "cell_type": "code",
   "execution_count": null,
   "id": "d5a13545-b58f-4b35-98d2-252ab37d2984",
   "metadata": {},
   "outputs": [],
   "source": [
    "sf.load_api_key(path='/Users/feiyiyang/Documents/Bootcamp/Team9-Project2/Bootcamp-Project2/simfin_data/simfin_api_key.txt')"
   ]
  },
  {
   "cell_type": "markdown",
   "id": "7e8a724c-f125-4ccf-9e22-02fb3130f9f7",
   "metadata": {},
   "source": [
    "### Part 1: Grab quarterly fundamentals from Simfin API"
   ]
  },
  {
   "cell_type": "code",
   "execution_count": null,
   "id": "c7196960-238a-4024-8521-49c87ef82844",
   "metadata": {},
   "outputs": [],
   "source": [
    "df_income = sf.load(dataset='income', variant='quarterly', market='us')\n",
    "df_balance = sf.load(dataset='balance', variant='quarterly', market='us')\n",
    "df_cashflow = sf.load(dataset='cashflow', variant='quarterly', market='us')"
   ]
  },
  {
   "cell_type": "code",
   "execution_count": null,
   "id": "8d1eb56b-309a-4f34-8aab-9a9563579353",
   "metadata": {},
   "outputs": [],
   "source": [
    "df_cashflow.columns"
   ]
  },
  {
   "cell_type": "code",
   "execution_count": null,
   "id": "b2040817-943d-4df3-893e-62e42edfd42a",
   "metadata": {},
   "outputs": [],
   "source": [
    "df_fundamentals = pd.merge(df_income[['Ticker','Fiscal Year','Fiscal Period','Report Date', 'Publish Date','Revenue','Gross Profit','Operating Income (Loss)','Net Income']], \n",
    "                           df_balance[['Ticker','Fiscal Year','Fiscal Period','Shares (Basic)','Cash, Cash Equivalents & Short Term Investments','Total Assets','Total Liabilities','Total Equity']],  \n",
    "                           how='left', \n",
    "                           on=['Ticker','Fiscal Year','Fiscal Period'])"
   ]
  },
  {
   "cell_type": "code",
   "execution_count": null,
   "id": "08a98872-38db-49ad-9f61-cebf910dbf56",
   "metadata": {},
   "outputs": [],
   "source": [
    "df_fundamentals= pd.merge(df_fundamentals,\n",
    "                          df_cashflow[['Ticker','Fiscal Year','Fiscal Period','Net Cash from Operating Activities','Net Change in Long Term Investment','Net Cash from Investing Activities', 'Dividends Paid', 'Net Cash from Financing Activities', 'Net Change in Cash']],\n",
    "                           how='left', \n",
    "                           on=['Ticker','Fiscal Year','Fiscal Period'])"
   ]
  },
  {
   "cell_type": "code",
   "execution_count": null,
   "id": "6433db5e-cb44-43a6-950f-017588b0a3cb",
   "metadata": {},
   "outputs": [],
   "source": [
    "df_fundamentals.tail()"
   ]
  },
  {
   "cell_type": "code",
   "execution_count": null,
   "id": "1ca9075f-29d1-4e23-afa1-f55817925451",
   "metadata": {},
   "outputs": [],
   "source": [
    "# add a column for next earning date - to set the start/end date for append daily price\n",
    "df_fundamentals['Next_publish_date']=df_fundamentals.groupby(\"Ticker\")['Publish Date'].shift(-1)\n",
    "u = (pd.to_datetime(df_fundamentals['Publish Date']) + pd.DateOffset(months=3)).dt.date\n",
    "df_fundamentals.Next_publish_date.fillna(u,inplace=True)"
   ]
  },
  {
   "cell_type": "code",
   "execution_count": null,
   "id": "0546657f-dfa9-4ce3-9a1e-827250b1212a",
   "metadata": {},
   "outputs": [],
   "source": [
    "df_fundamentals.to_csv('data/us_fundamental.csv',index=False)"
   ]
  },
  {
   "cell_type": "markdown",
   "id": "4c16c23e-c96f-4a72-990e-b90ce9c76d86",
   "metadata": {
    "tags": []
   },
   "source": [
    "### Part 2: Grab EARNING DATA from yahoo finance API (yahoo_fin.stock_info)"
   ]
  },
  {
   "cell_type": "code",
   "execution_count": null,
   "id": "0c47bbf3-4141-4570-b9ce-bd1dd266c623",
   "metadata": {},
   "outputs": [],
   "source": [
    "# load fundamental data\n",
    "df_fundamentals=pd.read_csv('data/us_fundamental.csv')"
   ]
  },
  {
   "cell_type": "code",
   "execution_count": null,
   "id": "140d5613-cf50-4cb4-86dd-cd44550be739",
   "metadata": {},
   "outputs": [],
   "source": [
    "\n",
    "\n",
    "# dftest=pd.DataFrame.from_dict(si.get_earnings_history(\"A\"))[['ticker','startdatetime','epsestimate','epsactual','epssurprisepct']]\n",
    "# dftest.startdatetime=pd.to_datetime(dftest.startdatetime).dt.date\n",
    "# dftest=dftest[dftest['startdatetime']>pd.to_datetime(start_date).date()]\n",
    "# dftest['earning_y']= pd.DatetimeIndex(dftest['startdatetime']).year\n",
    "# dftest['earning_m']= pd.DatetimeIndex(dftest['startdatetime']).month\n",
    "# dftest.sort_values(by=['startdatetime'],inplace=True)\n",
    "# dftest"
   ]
  },
  {
   "cell_type": "code",
   "execution_count": null,
   "id": "62af8d82-c75f-455f-bab6-08fda5859a26",
   "metadata": {},
   "outputs": [],
   "source": []
  },
  {
   "cell_type": "code",
   "execution_count": null,
   "id": "20115765-d1b8-433b-b2fa-86b68b5da025",
   "metadata": {},
   "outputs": [],
   "source": [
    "earningdata_1=[]\n",
    "notmatch=[]\n",
    "for ticker in tickers_sp500:\n",
    "    try:\n",
    "        # print(ticker)\n",
    "        dftest=pd.DataFrame.from_dict(si.get_earnings_history(ticker))[['ticker','startdatetime','epsestimate','epsactual','epssurprisepct']]\n",
    "        dftest.startdatetime=pd.to_datetime(dftest.startdatetime).dt.date\n",
    "        dftest=dftest[dftest['startdatetime']>pd.to_datetime(start_date).date()]\n",
    "        dftest['earning_y']= pd.DatetimeIndex(dftest['startdatetime']).year\n",
    "        dftest['earning_m']= pd.DatetimeIndex(dftest['startdatetime']).month\n",
    "        dftest.sort_values(by=['startdatetime'],inplace=True)\n",
    "\n",
    "        df1=df_fundamentals[df_fundamentals['Ticker']==ticker][['Ticker','Publish Date']]\n",
    "        df1['Publish_y']=pd.DatetimeIndex(df1['Publish Date']).year\n",
    "        df1['Publish_m']=pd.DatetimeIndex(df1['Publish Date']).month\n",
    "    except:\n",
    "        print(f\"No data available for {ticker}\")\n",
    "        notmatch.append(ticker)\n",
    "    else:\n",
    "        merge= pd.merge(df1,dftest,how='left',left_on=('Ticker','Publish_y'),right_on=('ticker','earning_y'))\n",
    "        merge= merge[(merge.earning_m == merge.Publish_m) | (merge.earning_m == merge.Publish_m-1)]\n",
    "        earningdata_1.append(merge)\n",
    "    "
   ]
  },
  {
   "cell_type": "code",
   "execution_count": null,
   "id": "cb9bd527-3607-40b4-bd0f-2fd38f1f1829",
   "metadata": {},
   "outputs": [],
   "source": [
    "notmatch3=[]\n",
    "for ticker in ['FOX', 'NWS']:\n",
    "    try:\n",
    "        dftest=pd.DataFrame.from_dict(si.get_earnings_history(ticker))[['ticker','startdatetime','epsestimate','epsactual','epssurprisepct']]\n",
    "        dftest.startdatetime=pd.to_datetime(dftest.startdatetime).dt.date\n",
    "        dftest=dftest[dftest['startdatetime']>pd.to_datetime(start_date).date()]\n",
    "        dftest['earning_y']= pd.DatetimeIndex(dftest['startdatetime']).year\n",
    "        dftest['earning_m']= pd.DatetimeIndex(dftest['startdatetime']).month\n",
    "        dftest.sort_values(by=['startdatetime'],inplace=True)\n",
    "\n",
    "        df1=df_fundamentals[df_fundamentals['Ticker']==ticker][['Ticker','Publish Date']]\n",
    "        df1['Publish_y']=pd.DatetimeIndex(df1['Publish Date']).year\n",
    "        df1['Publish_m']=pd.DatetimeIndex(df1['Publish Date']).month\n",
    "    except:\n",
    "        print(f\"No data available for {ticker}\")\n",
    "        notmatch3.append(ticker)\n",
    "    else:\n",
    "        merge= pd.merge(df1,dftest,how='left',left_on=('Ticker','Publish_y'),right_on=('ticker','earning_y'))\n",
    "        merge= merge[(merge.earning_m == merge.Publish_m) | (merge.earning_m == merge.Publish_m-1)]\n",
    "        earningdata_1.append(merge)"
   ]
  },
  {
   "cell_type": "code",
   "execution_count": 31,
   "id": "9630d5a6-ce5d-4b8d-8d89-f7e7cdef333f",
   "metadata": {},
   "outputs": [],
   "source": [
    "df_sp500_earning = pd.concat(earningdata_1)"
   ]
  },
  {
   "cell_type": "code",
   "execution_count": 32,
   "id": "dfed6318-5111-461b-afa7-32c46f1874ac",
   "metadata": {},
   "outputs": [
    {
     "data": {
      "text/html": [
       "<div>\n",
       "<style scoped>\n",
       "    .dataframe tbody tr th:only-of-type {\n",
       "        vertical-align: middle;\n",
       "    }\n",
       "\n",
       "    .dataframe tbody tr th {\n",
       "        vertical-align: top;\n",
       "    }\n",
       "\n",
       "    .dataframe thead th {\n",
       "        text-align: right;\n",
       "    }\n",
       "</style>\n",
       "<table border=\"1\" class=\"dataframe\">\n",
       "  <thead>\n",
       "    <tr style=\"text-align: right;\">\n",
       "      <th></th>\n",
       "      <th>Ticker</th>\n",
       "      <th>Publish Date</th>\n",
       "      <th>Earning Date</th>\n",
       "      <th>epsestimate</th>\n",
       "      <th>epsactual</th>\n",
       "      <th>epssurprisepct</th>\n",
       "    </tr>\n",
       "  </thead>\n",
       "  <tbody>\n",
       "    <tr>\n",
       "      <th>0</th>\n",
       "      <td>A</td>\n",
       "      <td>2016-09-07</td>\n",
       "      <td>2016-08-17</td>\n",
       "      <td>0.47</td>\n",
       "      <td>0.49</td>\n",
       "      <td>4.70</td>\n",
       "    </tr>\n",
       "    <tr>\n",
       "      <th>1</th>\n",
       "      <td>A</td>\n",
       "      <td>2016-12-20</td>\n",
       "      <td>2016-11-15</td>\n",
       "      <td>0.52</td>\n",
       "      <td>0.59</td>\n",
       "      <td>13.24</td>\n",
       "    </tr>\n",
       "    <tr>\n",
       "      <th>2</th>\n",
       "      <td>A</td>\n",
       "      <td>2017-03-08</td>\n",
       "      <td>2017-02-14</td>\n",
       "      <td>0.49</td>\n",
       "      <td>0.53</td>\n",
       "      <td>8.16</td>\n",
       "    </tr>\n",
       "    <tr>\n",
       "      <th>3</th>\n",
       "      <td>A</td>\n",
       "      <td>2017-06-06</td>\n",
       "      <td>2017-05-22</td>\n",
       "      <td>0.48</td>\n",
       "      <td>0.58</td>\n",
       "      <td>19.83</td>\n",
       "    </tr>\n",
       "    <tr>\n",
       "      <th>4</th>\n",
       "      <td>A</td>\n",
       "      <td>2017-09-06</td>\n",
       "      <td>2017-08-15</td>\n",
       "      <td>0.52</td>\n",
       "      <td>0.59</td>\n",
       "      <td>13.03</td>\n",
       "    </tr>\n",
       "    <tr>\n",
       "      <th>...</th>\n",
       "      <td>...</td>\n",
       "      <td>...</td>\n",
       "      <td>...</td>\n",
       "      <td>...</td>\n",
       "      <td>...</td>\n",
       "      <td>...</td>\n",
       "    </tr>\n",
       "    <tr>\n",
       "      <th>7884</th>\n",
       "      <td>WYNN</td>\n",
       "      <td>2020-05-08</td>\n",
       "      <td>2020-05-06</td>\n",
       "      <td>-0.84</td>\n",
       "      <td>-3.54</td>\n",
       "      <td>-321.43</td>\n",
       "    </tr>\n",
       "    <tr>\n",
       "      <th>7885</th>\n",
       "      <td>WYNN</td>\n",
       "      <td>2020-08-06</td>\n",
       "      <td>2020-08-04</td>\n",
       "      <td>-4.98</td>\n",
       "      <td>-6.14</td>\n",
       "      <td>-23.29</td>\n",
       "    </tr>\n",
       "    <tr>\n",
       "      <th>7886</th>\n",
       "      <td>WYNN</td>\n",
       "      <td>2020-11-09</td>\n",
       "      <td>2020-11-05</td>\n",
       "      <td>-4.03</td>\n",
       "      <td>-7.04</td>\n",
       "      <td>-74.91</td>\n",
       "    </tr>\n",
       "    <tr>\n",
       "      <th>7887</th>\n",
       "      <td>WYNN</td>\n",
       "      <td>2021-02-26</td>\n",
       "      <td>2021-02-04</td>\n",
       "      <td>-2.31</td>\n",
       "      <td>-2.45</td>\n",
       "      <td>-6.11</td>\n",
       "    </tr>\n",
       "    <tr>\n",
       "      <th>7888</th>\n",
       "      <td>WYNN</td>\n",
       "      <td>2021-05-10</td>\n",
       "      <td>2021-05-10</td>\n",
       "      <td>-1.98</td>\n",
       "      <td>-2.41</td>\n",
       "      <td>-21.59</td>\n",
       "    </tr>\n",
       "  </tbody>\n",
       "</table>\n",
       "<p>7889 rows × 6 columns</p>\n",
       "</div>"
      ],
      "text/plain": [
       "     Ticker Publish Date Earning Date  epsestimate  epsactual  epssurprisepct\n",
       "0         A   2016-09-07   2016-08-17         0.47       0.49            4.70\n",
       "1         A   2016-12-20   2016-11-15         0.52       0.59           13.24\n",
       "2         A   2017-03-08   2017-02-14         0.49       0.53            8.16\n",
       "3         A   2017-06-06   2017-05-22         0.48       0.58           19.83\n",
       "4         A   2017-09-06   2017-08-15         0.52       0.59           13.03\n",
       "...     ...          ...          ...          ...        ...             ...\n",
       "7884   WYNN   2020-05-08   2020-05-06        -0.84      -3.54         -321.43\n",
       "7885   WYNN   2020-08-06   2020-08-04        -4.98      -6.14          -23.29\n",
       "7886   WYNN   2020-11-09   2020-11-05        -4.03      -7.04          -74.91\n",
       "7887   WYNN   2021-02-26   2021-02-04        -2.31      -2.45           -6.11\n",
       "7888   WYNN   2021-05-10   2021-05-10        -1.98      -2.41          -21.59\n",
       "\n",
       "[7889 rows x 6 columns]"
      ]
     },
     "execution_count": 32,
     "metadata": {},
     "output_type": "execute_result"
    }
   ],
   "source": [
    "df_sp500_earning=df_sp500_earning.reset_index()\n",
    "df_sp500_earning.drop(columns=['index','earning_y','earning_m','Publish_y','Publish_m','ticker'],inplace=True)\n",
    "df_sp500_earning.rename(columns={'startdatetime':'Earning Date'},inplace=True)\n",
    "df_sp500_earning"
   ]
  },
  {
   "cell_type": "code",
   "execution_count": 33,
   "id": "b861e7fb-4012-4739-b104-ccb80b5ac909",
   "metadata": {},
   "outputs": [],
   "source": [
    "df_sp500_earning.to_csv('data/sp500_earningdate.csv',index=False)"
   ]
  },
  {
   "cell_type": "markdown",
   "id": "64d65370-44f2-4d0b-a6e2-994ca0d768e5",
   "metadata": {
    "tags": []
   },
   "source": [
    "### Part 3: Grab daily stock price from yahoo finance API (yahoo_fin.stock_info)"
   ]
  },
  {
   "cell_type": "code",
   "execution_count": 40,
   "id": "b6dca4df-0346-4f08-a500-6a4ec085965c",
   "metadata": {},
   "outputs": [],
   "source": [
    "# load fundamental data\n",
    "df_fundamentals=pd.read_csv('data/us_fundamental.csv')\n",
    "df_sp500_earning=pd.read_csv('data/sp500_earningdate.csv')"
   ]
  },
  {
   "cell_type": "code",
   "execution_count": 34,
   "id": "e08efae4-6f7d-4101-bc1c-70718440b9d6",
   "metadata": {},
   "outputs": [],
   "source": [
    "# append daily price data to fundamental where the dACC_NOTES_RECVate is within the current publish date and next publish date\n",
    "price=[]\n",
    "for ticker in tickers_sp500:\n",
    "    try:\n",
    "        # df1=df_fundamentals[df_fundamentals['Ticker']==ticker]\n",
    "        df2=si.get_data(ticker , start_date = start_date, end_date=end_date,index_as_date=False)\n",
    "    except:\n",
    "        print(f\"No data available for {ticker}\")\n",
    "    else:\n",
    "        # df_merge=pd.merge(df1,df2,how='left',left_on='Ticker',right_on='ticker')\n",
    "        # df_merge= df_merge[(df_merge.date > df_merge['Publish Date']) & (df_merge.date <= df_merge['Next_publish_date'])]\n",
    "        price.append(df2)\n",
    "sp500_price = pd.concat(price)\n",
    "sp500_price.to_csv('data/sp500_dailyprice.csv',index=False)"
   ]
  },
  {
   "cell_type": "code",
   "execution_count": null,
   "id": "26885fcb-a7b7-4b02-8770-f75c4fad4736",
   "metadata": {},
   "outputs": [],
   "source": [
    "# this is for testing if the merge was correct\n",
    "#list(df_sp500[(df_sp500['Publish Date']== '2021-05-06') & (df_sp500['Ticker']== 'AES')].date)"
   ]
  },
  {
   "cell_type": "code",
   "execution_count": 44,
   "id": "24178486-134b-4b8c-bee4-e2f39002cff9",
   "metadata": {},
   "outputs": [
    {
     "data": {
      "text/html": [
       "<div>\n",
       "<style scoped>\n",
       "    .dataframe tbody tr th:only-of-type {\n",
       "        vertical-align: middle;\n",
       "    }\n",
       "\n",
       "    .dataframe tbody tr th {\n",
       "        vertical-align: top;\n",
       "    }\n",
       "\n",
       "    .dataframe thead th {\n",
       "        text-align: right;\n",
       "    }\n",
       "</style>\n",
       "<table border=\"1\" class=\"dataframe\">\n",
       "  <thead>\n",
       "    <tr style=\"text-align: right;\">\n",
       "      <th></th>\n",
       "      <th>date</th>\n",
       "      <th>open</th>\n",
       "      <th>high</th>\n",
       "      <th>low</th>\n",
       "      <th>close</th>\n",
       "      <th>adjclose</th>\n",
       "      <th>volume</th>\n",
       "      <th>ticker</th>\n",
       "    </tr>\n",
       "  </thead>\n",
       "  <tbody>\n",
       "    <tr>\n",
       "      <th>0</th>\n",
       "      <td>2016-01-04</td>\n",
       "      <td>46.144001</td>\n",
       "      <td>46.276001</td>\n",
       "      <td>43.799999</td>\n",
       "      <td>44.681999</td>\n",
       "      <td>44.681999</td>\n",
       "      <td>34135500</td>\n",
       "      <td>TSLA</td>\n",
       "    </tr>\n",
       "    <tr>\n",
       "      <th>1</th>\n",
       "      <td>2016-01-05</td>\n",
       "      <td>45.271999</td>\n",
       "      <td>45.377998</td>\n",
       "      <td>44.000000</td>\n",
       "      <td>44.686001</td>\n",
       "      <td>44.686001</td>\n",
       "      <td>15934000</td>\n",
       "      <td>TSLA</td>\n",
       "    </tr>\n",
       "    <tr>\n",
       "      <th>2</th>\n",
       "      <td>2016-01-06</td>\n",
       "      <td>44.000000</td>\n",
       "      <td>44.009998</td>\n",
       "      <td>43.195999</td>\n",
       "      <td>43.807999</td>\n",
       "      <td>43.807999</td>\n",
       "      <td>18895500</td>\n",
       "      <td>TSLA</td>\n",
       "    </tr>\n",
       "    <tr>\n",
       "      <th>3</th>\n",
       "      <td>2016-01-07</td>\n",
       "      <td>42.838001</td>\n",
       "      <td>43.688000</td>\n",
       "      <td>42.734001</td>\n",
       "      <td>43.130001</td>\n",
       "      <td>43.130001</td>\n",
       "      <td>17771500</td>\n",
       "      <td>TSLA</td>\n",
       "    </tr>\n",
       "    <tr>\n",
       "      <th>4</th>\n",
       "      <td>2016-01-08</td>\n",
       "      <td>43.571999</td>\n",
       "      <td>44.088001</td>\n",
       "      <td>42.153999</td>\n",
       "      <td>42.200001</td>\n",
       "      <td>42.200001</td>\n",
       "      <td>18140500</td>\n",
       "      <td>TSLA</td>\n",
       "    </tr>\n",
       "    <tr>\n",
       "      <th>...</th>\n",
       "      <td>...</td>\n",
       "      <td>...</td>\n",
       "      <td>...</td>\n",
       "      <td>...</td>\n",
       "      <td>...</td>\n",
       "      <td>...</td>\n",
       "      <td>...</td>\n",
       "      <td>...</td>\n",
       "    </tr>\n",
       "    <tr>\n",
       "      <th>1505</th>\n",
       "      <td>2021-12-23</td>\n",
       "      <td>1006.799988</td>\n",
       "      <td>1072.979980</td>\n",
       "      <td>997.559998</td>\n",
       "      <td>1067.000000</td>\n",
       "      <td>1067.000000</td>\n",
       "      <td>30904400</td>\n",
       "      <td>TSLA</td>\n",
       "    </tr>\n",
       "    <tr>\n",
       "      <th>1506</th>\n",
       "      <td>2021-12-27</td>\n",
       "      <td>1073.670044</td>\n",
       "      <td>1117.000000</td>\n",
       "      <td>1070.719971</td>\n",
       "      <td>1093.939941</td>\n",
       "      <td>1093.939941</td>\n",
       "      <td>23715300</td>\n",
       "      <td>TSLA</td>\n",
       "    </tr>\n",
       "    <tr>\n",
       "      <th>1507</th>\n",
       "      <td>2021-12-28</td>\n",
       "      <td>1109.489990</td>\n",
       "      <td>1119.000000</td>\n",
       "      <td>1078.420044</td>\n",
       "      <td>1088.469971</td>\n",
       "      <td>1088.469971</td>\n",
       "      <td>20108000</td>\n",
       "      <td>TSLA</td>\n",
       "    </tr>\n",
       "    <tr>\n",
       "      <th>1508</th>\n",
       "      <td>2021-12-29</td>\n",
       "      <td>1098.640015</td>\n",
       "      <td>1104.000000</td>\n",
       "      <td>1064.140015</td>\n",
       "      <td>1086.189941</td>\n",
       "      <td>1086.189941</td>\n",
       "      <td>18718000</td>\n",
       "      <td>TSLA</td>\n",
       "    </tr>\n",
       "    <tr>\n",
       "      <th>1509</th>\n",
       "      <td>2021-12-30</td>\n",
       "      <td>1061.329956</td>\n",
       "      <td>1095.550049</td>\n",
       "      <td>1053.150024</td>\n",
       "      <td>1070.339966</td>\n",
       "      <td>1070.339966</td>\n",
       "      <td>15680300</td>\n",
       "      <td>TSLA</td>\n",
       "    </tr>\n",
       "  </tbody>\n",
       "</table>\n",
       "<p>1510 rows × 8 columns</p>\n",
       "</div>"
      ],
      "text/plain": [
       "           date         open         high          low        close  \\\n",
       "0    2016-01-04    46.144001    46.276001    43.799999    44.681999   \n",
       "1    2016-01-05    45.271999    45.377998    44.000000    44.686001   \n",
       "2    2016-01-06    44.000000    44.009998    43.195999    43.807999   \n",
       "3    2016-01-07    42.838001    43.688000    42.734001    43.130001   \n",
       "4    2016-01-08    43.571999    44.088001    42.153999    42.200001   \n",
       "...         ...          ...          ...          ...          ...   \n",
       "1505 2021-12-23  1006.799988  1072.979980   997.559998  1067.000000   \n",
       "1506 2021-12-27  1073.670044  1117.000000  1070.719971  1093.939941   \n",
       "1507 2021-12-28  1109.489990  1119.000000  1078.420044  1088.469971   \n",
       "1508 2021-12-29  1098.640015  1104.000000  1064.140015  1086.189941   \n",
       "1509 2021-12-30  1061.329956  1095.550049  1053.150024  1070.339966   \n",
       "\n",
       "         adjclose    volume ticker  \n",
       "0       44.681999  34135500   TSLA  \n",
       "1       44.686001  15934000   TSLA  \n",
       "2       43.807999  18895500   TSLA  \n",
       "3       43.130001  17771500   TSLA  \n",
       "4       42.200001  18140500   TSLA  \n",
       "...           ...       ...    ...  \n",
       "1505  1067.000000  30904400   TSLA  \n",
       "1506  1093.939941  23715300   TSLA  \n",
       "1507  1088.469971  20108000   TSLA  \n",
       "1508  1086.189941  18718000   TSLA  \n",
       "1509  1070.339966  15680300   TSLA  \n",
       "\n",
       "[1510 rows x 8 columns]"
      ]
     },
     "execution_count": 44,
     "metadata": {},
     "output_type": "execute_result"
    }
   ],
   "source": []
  },
  {
   "cell_type": "markdown",
   "id": "7a8e8755-d206-4571-8982-e749efe1fb21",
   "metadata": {},
   "source": [
    "### Part 4: Append additional data source"
   ]
  },
  {
   "cell_type": "markdown",
   "id": "39611cce-435c-4dd9-bb45-96c69047ed6f",
   "metadata": {},
   "source": [
    "#### 1.Industry/Sector"
   ]
  },
  {
   "cell_type": "code",
   "execution_count": null,
   "id": "8976c555-60cf-4ede-99e8-a5a4bb6473d1",
   "metadata": {},
   "outputs": [],
   "source": [
    "# load fundamental data\n",
    "df_sp500=pd.read_csv('data/sp500_fundamental_dailyprice.csv')"
   ]
  },
  {
   "cell_type": "code",
   "execution_count": null,
   "id": "4360789b-17a1-4c4b-b801-174e8fcd77cc",
   "metadata": {},
   "outputs": [],
   "source": [
    "df_industry_sector=pd.DataFrame(list(df_sp500.Ticker.unique()),columns=['Ticker'])"
   ]
  },
  {
   "cell_type": "code",
   "execution_count": null,
   "id": "42aa3bb1-e457-42fb-8401-513e55dba74a",
   "metadata": {},
   "outputs": [],
   "source": [
    "test=df_industry_sector.iloc[:5]"
   ]
  },
  {
   "cell_type": "code",
   "execution_count": null,
   "id": "7c504d43-bb58-4550-8f95-6faa28cddc20",
   "metadata": {},
   "outputs": [],
   "source": [
    "df2 = {'Ticker': 'KK'}\n",
    "test = test.append(df2, ignore_index = True)\n",
    "test"
   ]
  },
  {
   "cell_type": "code",
   "execution_count": null,
   "id": "3396a199-46d0-49ae-8df7-b71fc62f458c",
   "metadata": {},
   "outputs": [],
   "source": [
    "sector_df= pd.DataFrame(columns=['Ticker', 'Sector', 'Industry'])\n",
    "\n",
    "for ticker in df_industry_sector.Ticker.unique():\n",
    "    try:\n",
    "        sector_df=sector_df.append({\n",
    "            'Ticker':ticker,\n",
    "            'Sector':si.get_company_info(ticker).loc['sector'].Value,\n",
    "            'Industry':si.get_company_info(ticker).loc['industry'].Value\n",
    "        }, ignore_index=True)\n",
    "        # print(ticker)\n",
    "    except:\n",
    "        print(f\"No industry data available for {ticker}\")\n"
   ]
  },
  {
   "cell_type": "code",
   "execution_count": null,
   "id": "63020914-64e2-4930-9789-fc7232eb900a",
   "metadata": {},
   "outputs": [],
   "source": [
    "sector_df.tail()"
   ]
  },
  {
   "cell_type": "code",
   "execution_count": null,
   "id": "d1bf3d64-1166-4cf1-a6ef-456f8d5b8382",
   "metadata": {},
   "outputs": [],
   "source": [
    "sector_df.to_csv('data/industry_sector.csv',index=False)"
   ]
  },
  {
   "cell_type": "code",
   "execution_count": null,
   "id": "3fd8b317-9111-41c6-b8ab-47b567ed435a",
   "metadata": {},
   "outputs": [],
   "source": [
    "df_sp500=pd.merge(df_sp500,sector_df,how='left', on='Ticker')"
   ]
  },
  {
   "cell_type": "code",
   "execution_count": null,
   "id": "4f0bdbba-365a-42bc-825b-1fac4e29d929",
   "metadata": {},
   "outputs": [],
   "source": [
    "len(df_industry_sector.Ticker.unique())"
   ]
  },
  {
   "cell_type": "markdown",
   "id": "25a056ee-1740-4e1b-b9b3-09b99a486ead",
   "metadata": {},
   "source": [
    "#### 2.Earning Surprise"
   ]
  },
  {
   "cell_type": "code",
   "execution_count": null,
   "id": "9cde9fcf-ccc1-49ca-a481-1ccf9c42f1b1",
   "metadata": {},
   "outputs": [],
   "source": [
    "dftest=pd.DataFrame.from_dict(si.get_earnings_history(\"TSLA\"))[['ticker','startdatetime','epsestimate','epsactual','epssurprisepct']]\n",
    "dftest.startdatetime=pd.to_datetime(dftest.startdatetime).dt.date\n",
    "dftest=dftest[dftest['startdatetime']>pd.to_datetime(\"2016-1-1\").date()]\n",
    "dftest['earningestimate_year']= pd.DatetimeIndex(dftest['startdatetime']).year\n",
    "dftest['earningestimate_month']= pd.DatetimeIndex(dftest['startdatetime']).month\n",
    "dftest.sort_values(by=['startdatetime'],inplace=True)"
   ]
  },
  {
   "cell_type": "code",
   "execution_count": null,
   "id": "9c546dc2-be4d-4124-bc7f-e8c1b83cda36",
   "metadata": {},
   "outputs": [],
   "source": [
    "dftest['epsestimate_nextday'] = (pd.to_datetime(dftest['startdatetime']) + pd.DateOffset(days=1)).dt.date"
   ]
  },
  {
   "cell_type": "code",
   "execution_count": null,
   "id": "c42ff498-b494-4fc6-9743-dde17282b969",
   "metadata": {},
   "outputs": [],
   "source": [
    "dftest"
   ]
  },
  {
   "cell_type": "code",
   "execution_count": null,
   "id": "e4779d84-2a72-4261-a34a-2d3327cf2073",
   "metadata": {},
   "outputs": [],
   "source": [
    "df_sp500[df_sp500['Ticker']=='TSLA']['Publish Date'].unique()"
   ]
  },
  {
   "cell_type": "code",
   "execution_count": null,
   "id": "ec6a27ef-74df-4a84-99c3-487aa8396d26",
   "metadata": {},
   "outputs": [],
   "source": []
  },
  {
   "cell_type": "code",
   "execution_count": null,
   "id": "431d6eaf-8969-4cbe-ada9-4812f085aa39",
   "metadata": {},
   "outputs": [],
   "source": [
    "### Part 4: Target Data "
   ]
  },
  {
   "cell_type": "code",
   "execution_count": null,
   "id": "525de12e-2c83-4335-8ddb-b629ffaf097a",
   "metadata": {},
   "outputs": [],
   "source": [
    "# tickers_sp500\n",
    "frames=[]\n",
    "for ticker in ['AAPL','TSLA']:\n",
    "    try:\n",
    "        df1=df_fundamentals[df_fundamentals['Ticker']==ticker]['']\n",
    "        df2=si.get_data(ticker , start_date = start_date, end_date=end_date,index_as_date=False)\n",
    "    except:\n",
    "        print(f\"No data available for {ticker}\")\n",
    "    else:\n",
    "        df_merge=pd.merge(df1,df2,how='left',left_on='Ticker',right_on='ticker')\n",
    "        df_merge= df_merge[(df_merge.date > df_merge['Publish Date']) & (df_merge.date <= df_merge['Next_publish_date'])]\n",
    "        frames.append(df_merge)\n",
    "    \n",
    "\n",
    "df_sp500 = pd.concat(frames)"
   ]
  },
  {
   "cell_type": "code",
   "execution_count": null,
   "id": "2de6fcce-7336-4c4f-aa96-6cbc24375232",
   "metadata": {},
   "outputs": [],
   "source": [
    "test=df_sp500[df_sp500['Ticker']=='TSLA'][['Ticker','Publish Date','date','close']]"
   ]
  },
  {
   "cell_type": "code",
   "execution_count": null,
   "id": "3ba053c6-6607-4440-852c-1e3465f129a2",
   "metadata": {},
   "outputs": [],
   "source": [
    "test['close_minus1']=test['close'].shift(1)\n",
    "test['close_plus1']=test['close'].shift(-4)\n",
    "test"
   ]
  },
  {
   "cell_type": "code",
   "execution_count": null,
   "id": "410cee76-c93d-4b04-bbf7-ffeaa60b7caa",
   "metadata": {},
   "outputs": [],
   "source": [
    "test['T0'] = (pd.to_datetime(test['Publish Date']) + pd.DateOffset(days=-1)).dt.date"
   ]
  },
  {
   "cell_type": "code",
   "execution_count": null,
   "id": "09d880dc-dfd2-47cf-a6c6-34364e156124",
   "metadata": {},
   "outputs": [],
   "source": [
    "df_sp500[df_sp500['Ticker']=='A']"
   ]
  },
  {
   "cell_type": "code",
   "execution_count": null,
   "id": "f5c90858-6cc6-4d8c-9a9d-bcab78a255da",
   "metadata": {},
   "outputs": [],
   "source": []
  }
 ],
 "metadata": {
  "kernelspec": {
   "display_name": "mlenv",
   "language": "python",
   "name": "mlenv"
  },
  "language_info": {
   "codemirror_mode": {
    "name": "ipython",
    "version": 3
   },
   "file_extension": ".py",
   "mimetype": "text/x-python",
   "name": "python",
   "nbconvert_exporter": "python",
   "pygments_lexer": "ipython3",
   "version": "3.7.7"
  }
 },
 "nbformat": 4,
 "nbformat_minor": 5
}
