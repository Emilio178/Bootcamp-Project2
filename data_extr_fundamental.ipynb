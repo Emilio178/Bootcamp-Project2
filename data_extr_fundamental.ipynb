{
 "cells": [
  {
   "cell_type": "code",
   "execution_count": 3,
   "id": "fb545ac0-32cf-4370-b702-3ec4ae9add5f",
   "metadata": {},
   "outputs": [],
   "source": [
    "%matplotlib inline\n",
    "import pandas as pd\n",
    "import os\n",
    "# Import the main functionality from the SimFin Python API.\n",
    "import simfin as sf\n",
    "\n",
    "# Import names used for easy access to SimFin's data-columns.\n",
    "from simfin.names import *\n",
    "\n",
    "import yahoo_fin.stock_info as si\n",
    "# import pandas_datareader.data as web\n",
    "\n",
    "from dateutil.relativedelta import relativedelta\n",
    "from datetime import datetime"
   ]
  },
  {
   "cell_type": "code",
   "execution_count": 4,
   "id": "8f6cc344-f639-4151-9652-efe8b74d208b",
   "metadata": {},
   "outputs": [],
   "source": [
    "# sample base\n",
    "tickers = si.tickers_sp500()"
   ]
  },
  {
   "cell_type": "code",
   "execution_count": null,
   "id": "aebdfd76-e709-4efe-b4be-29eb4cebbd2b",
   "metadata": {},
   "outputs": [],
   "source": [
    "cwd = os.getcwd()\n",
    "cwd"
   ]
  },
  {
   "cell_type": "code",
   "execution_count": null,
   "id": "61143174-f28e-4f3b-9914-dfdc7ae190f4",
   "metadata": {},
   "outputs": [],
   "source": [
    "sf.set_data_dir('/Users/feiyiyang/Documents/Bootcamp/Team9-Project2/Bootcamp-Project2/simfin_data/')"
   ]
  },
  {
   "cell_type": "code",
   "execution_count": null,
   "id": "d5a13545-b58f-4b35-98d2-252ab37d2984",
   "metadata": {},
   "outputs": [],
   "source": [
    "sf.load_api_key(path='/Users/feiyiyang/Documents/Bootcamp/Team9-Project2/Bootcamp-Project2/simfin_data/simfin_api_key.txt')"
   ]
  },
  {
   "cell_type": "markdown",
   "id": "7e8a724c-f125-4ccf-9e22-02fb3130f9f7",
   "metadata": {},
   "source": [
    "### Part 1: Grab quarterly fundamentals from Simfin API"
   ]
  },
  {
   "cell_type": "code",
   "execution_count": null,
   "id": "c7196960-238a-4024-8521-49c87ef82844",
   "metadata": {},
   "outputs": [],
   "source": [
    "df_income = sf.load(dataset='income', variant='quarterly', market='us')\n",
    "df_balance = sf.load(dataset='balance', variant='quarterly', market='us')\n",
    "df_cashflow = sf.load(dataset='cashflow', variant='quarterly', market='us')"
   ]
  },
  {
   "cell_type": "code",
   "execution_count": null,
   "id": "8d1eb56b-309a-4f34-8aab-9a9563579353",
   "metadata": {},
   "outputs": [],
   "source": [
    "df_cashflow.columns"
   ]
  },
  {
   "cell_type": "code",
   "execution_count": null,
   "id": "b2040817-943d-4df3-893e-62e42edfd42a",
   "metadata": {},
   "outputs": [],
   "source": [
    "df_fundamentals = pd.merge(df_income[['Ticker','Fiscal Year','Fiscal Period','Report Date', 'Publish Date','Revenue','Gross Profit','Operating Income (Loss)','Net Income']], \n",
    "                           df_balance[['Ticker','Fiscal Year','Fiscal Period','Shares (Basic)','Cash, Cash Equivalents & Short Term Investments','Total Assets','Total Liabilities','Total Equity']],  \n",
    "                           how='left', \n",
    "                           on=['Ticker','Fiscal Year','Fiscal Period'])"
   ]
  },
  {
   "cell_type": "code",
   "execution_count": null,
   "id": "08a98872-38db-49ad-9f61-cebf910dbf56",
   "metadata": {},
   "outputs": [],
   "source": [
    "df_fundamentals= pd.merge(df_fundamentals,\n",
    "                          df_cashflow[['Ticker','Fiscal Year','Fiscal Period','Net Cash from Operating Activities','Net Change in Long Term Investment','Net Cash from Investing Activities', 'Dividends Paid', 'Net Cash from Financing Activities', 'Net Change in Cash']],\n",
    "                           how='left', \n",
    "                           on=['Ticker','Fiscal Year','Fiscal Period'])"
   ]
  },
  {
   "cell_type": "code",
   "execution_count": null,
   "id": "6433db5e-cb44-43a6-950f-017588b0a3cb",
   "metadata": {},
   "outputs": [],
   "source": [
    "df_fundamentals.tail()"
   ]
  },
  {
   "cell_type": "code",
   "execution_count": null,
   "id": "1ca9075f-29d1-4e23-afa1-f55817925451",
   "metadata": {},
   "outputs": [],
   "source": [
    "# add a column for next earning date - to set the start/end date for append daily price\n",
    "df_fundamentals['Next_publish_date']=df_fundamentals.groupby(\"Ticker\")['Publish Date'].shift(-1)\n",
    "u = (pd.to_datetime(df_fundamentals['Publish Date']) + pd.DateOffset(months=3)).dt.date\n",
    "df_fundamentals.Next_publish_date.fillna(u,inplace=True)"
   ]
  },
  {
   "cell_type": "code",
   "execution_count": null,
   "id": "0546657f-dfa9-4ce3-9a1e-827250b1212a",
   "metadata": {},
   "outputs": [],
   "source": [
    "df_fundamentals.to_csv('data/us_fundamental.csv',index=False)"
   ]
  },
  {
   "cell_type": "markdown",
   "id": "64d65370-44f2-4d0b-a6e2-994ca0d768e5",
   "metadata": {},
   "source": [
    "### Part 2: Grab daily stock price from yahoo finance API (yahoo_fin.stock_info)"
   ]
  },
  {
   "cell_type": "code",
   "execution_count": 5,
   "id": "b6dca4df-0346-4f08-a500-6a4ec085965c",
   "metadata": {},
   "outputs": [],
   "source": [
    "# load fundamental data\n",
    "df_fundamentals=pd.read_csv('data/us_fundamental.csv')"
   ]
  },
  {
   "cell_type": "code",
   "execution_count": 6,
   "id": "ba3efa4a-dbe5-445a-aff5-1807431194de",
   "metadata": {},
   "outputs": [],
   "source": [
    "# sample base and starting date for training\n",
    "tickers_sp500 = list(si.tickers_sp500())\n",
    "start_date = '2016-01-01'\n",
    "end_date = '2021-12-31'"
   ]
  },
  {
   "cell_type": "code",
   "execution_count": 7,
   "id": "5360302d-f68e-449d-829e-3258691856c8",
   "metadata": {},
   "outputs": [
    {
     "name": "stdout",
     "output_type": "stream",
     "text": [
      "No data available for CEG\n"
     ]
    }
   ],
   "source": [
    "# append daily price data to fundamental where the date is within the current publish date and next publish date\n",
    "frames=[]\n",
    "for ticker in tickers_sp500:\n",
    "    try:\n",
    "        df1=df_fundamentals[df_fundamentals['Ticker']==ticker]\n",
    "        df2=si.get_data(ticker , start_date = start_date, end_date=end_date,index_as_date=False)\n",
    "    except:\n",
    "        print(f\"No data available for {ticker}\")\n",
    "    else:\n",
    "        df_merge=pd.merge(df1,df2,how='left',left_on='Ticker',right_on='ticker')\n",
    "        df_merge= df_merge[(df_merge.date > df_merge['Publish Date']) & (df_merge.date <= df_merge['Next_publish_date'])]\n",
    "        frames.append(df_merge)\n",
    "    \n",
    "\n",
    "df_sp500 = pd.concat(frames)"
   ]
  },
  {
   "cell_type": "code",
   "execution_count": null,
   "id": "26885fcb-a7b7-4b02-8770-f75c4fad4736",
   "metadata": {},
   "outputs": [],
   "source": [
    "# this is for testing if the merge was correct\n",
    "#list(df_sp500[(df_sp500['Publish Date']== '2021-05-06') & (df_sp500['Ticker']== 'AES')].date)"
   ]
  },
  {
   "cell_type": "code",
   "execution_count": 8,
   "id": "9e507683-e046-47c3-846e-daf1cd4bd213",
   "metadata": {},
   "outputs": [],
   "source": [
    "df_sp500.to_csv('data/sp500_fundamental_dailyprice.csv',index=False)"
   ]
  },
  {
   "cell_type": "markdown",
   "id": "7a8e8755-d206-4571-8982-e749efe1fb21",
   "metadata": {},
   "source": [
    "### Part 3: Append Other Data "
   ]
  },
  {
   "cell_type": "markdown",
   "id": "39611cce-435c-4dd9-bb45-96c69047ed6f",
   "metadata": {},
   "source": [
    "#### 1.Industry/Sector"
   ]
  },
  {
   "cell_type": "code",
   "execution_count": 9,
   "id": "8976c555-60cf-4ede-99e8-a5a4bb6473d1",
   "metadata": {},
   "outputs": [],
   "source": [
    "# load fundamental data\n",
    "df_sp500=pd.read_csv('data/sp500_fundamental_dailyprice.csv')"
   ]
  },
  {
   "cell_type": "code",
   "execution_count": 1,
   "id": "4360789b-17a1-4c4b-b801-174e8fcd77cc",
   "metadata": {},
   "outputs": [],
   "source": [
    "df_industry_sector=pd.DataFrame(list(df_sp500.Ticker.unique()),columns=['Ticker'])"
   ]
  },
  {
   "cell_type": "code",
   "execution_count": null,
   "id": "3396a199-46d0-49ae-8df7-b71fc62f458c",
   "metadata": {},
   "outputs": [
    {
     "name": "stdout",
     "output_type": "stream",
     "text": [
      "Healthcare Diagnostics & Research\n",
      "Industrials Airlines\n",
      "Consumer Cyclical Specialty Retail\n",
      "Technology Consumer Electronics\n",
      "Healthcare Drug Manufacturers—General\n",
      "Healthcare Medical Distribution\n",
      "Healthcare Medical Devices\n",
      "Healthcare Medical Devices\n",
      "Technology Information Technology Services\n",
      "Technology Software—Infrastructure\n",
      "Technology Semiconductors\n",
      "Consumer Defensive Farm Products\n",
      "Industrials Staffing & Employment Services\n",
      "Technology Software—Application\n",
      "Utilities Utilities—Regulated Electric\n",
      "Utilities Utilities—Regulated Electric\n",
      "Utilities Utilities—Diversified\n",
      "Financial Services Insurance Brokers\n",
      "Technology Software—Infrastructure\n",
      "Basic Materials Specialty Chemicals\n",
      "Healthcare Medical Devices\n",
      "Industrials Airlines\n",
      "Industrials Security & Protection Services\n",
      "Technology Semiconductor Equipment & Materials\n",
      "Technology Semiconductors\n",
      "Industrials Specialty Industrial Machinery\n",
      "Healthcare Drug Manufacturers—General\n",
      "Financial Services Asset Management\n",
      "Real Estate REIT—Specialty\n",
      "Consumer Cyclical Internet Retail\n",
      "Technology Computer Hardware\n",
      "Technology Software—Application\n",
      "Financial Services Insurance Brokers\n",
      "Industrials Specialty Industrial Machinery\n",
      "Energy Oil & Gas E&P\n",
      "Basic Materials Specialty Chemicals\n"
     ]
    }
   ],
   "source": [
    "for i,row in df_industry_sector.iterrows():\n",
    "    \n",
    "    ticker=row['Ticker']\n",
    "    try:\n",
    "        row['Sector']=si.get_company_info(ticker).loc['sector'].Value\n",
    "        row['Industry']=si.get_company_info(ticker).loc['industry'].Value\n",
    "        print(row['Sector'],row['Industry'])\n",
    "    except:\n",
    "        print(f\"No industry data available for {ticker}\")\n",
    "        \n"
   ]
  },
  {
   "cell_type": "code",
   "execution_count": null,
   "id": "c95124ae-cde4-4e82-ba19-bf5856127ae2",
   "metadata": {},
   "outputs": [],
   "source": [
    "df_industry_sector"
   ]
  },
  {
   "cell_type": "code",
   "execution_count": null,
   "id": "779d4ea9-8c81-4d20-b70e-662777458f5a",
   "metadata": {},
   "outputs": [],
   "source": [
    "df_sec=pd.DataFrame({'Ticker':ticker_list,\n",
    "                     'Sector':sector_list,\n",
    "                     'Industry':industry_list\n",
    "                    })"
   ]
  },
  {
   "cell_type": "code",
   "execution_count": null,
   "id": "823c3ac0-aa6a-4c87-8466-c122571747a2",
   "metadata": {},
   "outputs": [],
   "source": [
    "len(sector_list)"
   ]
  },
  {
   "cell_type": "code",
   "execution_count": null,
   "id": "d1bf3d64-1166-4cf1-a6ef-456f8d5b8382",
   "metadata": {},
   "outputs": [],
   "source": [
    "df_sec.to_csv('data/sp500_sectors.csv',index=False)"
   ]
  },
  {
   "cell_type": "code",
   "execution_count": null,
   "id": "3fd8b317-9111-41c6-b8ab-47b567ed435a",
   "metadata": {},
   "outputs": [],
   "source": [
    "df_sp500=pd.merge(df_sp500,df_sec,how='left', on='Ticker')"
   ]
  },
  {
   "cell_type": "markdown",
   "id": "25a056ee-1740-4e1b-b9b3-09b99a486ead",
   "metadata": {},
   "source": [
    "#### 2.Earning Surprise"
   ]
  },
  {
   "cell_type": "code",
   "execution_count": null,
   "id": "ef08c0d1-0313-40e0-9e59-c71d08e302f7",
   "metadata": {},
   "outputs": [],
   "source": [
    "##"
   ]
  },
  {
   "cell_type": "code",
   "execution_count": null,
   "id": "81ef8d05-e478-4920-968d-3b620fd9ae3f",
   "metadata": {},
   "outputs": [],
   "source": []
  },
  {
   "cell_type": "code",
   "execution_count": null,
   "id": "1f18852f-ddd3-41e0-8c55-501cf7a4add9",
   "metadata": {},
   "outputs": [],
   "source": []
  },
  {
   "cell_type": "code",
   "execution_count": null,
   "id": "ac367ec5-06c2-43f4-b827-672b6f9f7b90",
   "metadata": {},
   "outputs": [],
   "source": [
    "dftest=pd.DataFrame.from_dict(si.get_earnings_history(\"aapl\"))[['ticker','startdatetime','epsestimate','epsactual','epssurprisepct']]"
   ]
  },
  {
   "cell_type": "code",
   "execution_count": null,
   "id": "45775666-3bbb-4442-a0e3-6848dda9b6b4",
   "metadata": {},
   "outputs": [],
   "source": [
    "dftest.head()"
   ]
  },
  {
   "cell_type": "code",
   "execution_count": null,
   "id": "a0abe2d0-c9f2-42e7-8900-705d5135a520",
   "metadata": {},
   "outputs": [],
   "source": [
    "si.get_company_info(\"aapl\").loc['sector']+si.get_company_info(\"aapl\").loc['industry']"
   ]
  },
  {
   "cell_type": "code",
   "execution_count": null,
   "id": "431d6eaf-8969-4cbe-ada9-4812f085aa39",
   "metadata": {},
   "outputs": [],
   "source": []
  },
  {
   "cell_type": "code",
   "execution_count": null,
   "id": "2de6fcce-7336-4c4f-aa96-6cbc24375232",
   "metadata": {},
   "outputs": [],
   "source": []
  }
 ],
 "metadata": {
  "kernelspec": {
   "display_name": "mlenv",
   "language": "python",
   "name": "mlenv"
  },
  "language_info": {
   "codemirror_mode": {
    "name": "ipython",
    "version": 3
   },
   "file_extension": ".py",
   "mimetype": "text/x-python",
   "name": "python",
   "nbconvert_exporter": "python",
   "pygments_lexer": "ipython3",
   "version": "3.7.7"
  }
 },
 "nbformat": 4,
 "nbformat_minor": 5
}
