{
 "cells": [
  {
   "cell_type": "code",
   "execution_count": 63,
   "id": "16b9eb7d-9781-4762-aa6e-7dfb05e8e5ac",
   "metadata": {},
   "outputs": [],
   "source": [
    "import pandas as pd\n",
    "import numpy as np\n",
    "import datetime\n",
    "import random as rd\n",
    "\n",
    "from sklearn.model_selection import train_test_split\n",
    "from sklearn.ensemble import RandomForestClassifier\n",
    "from sklearn.metrics import accuracy_score\n",
    "\n",
    "from pathlib import Path\n",
    "\n",
    "import seaborn as sns\n",
    "import matplotlib.pyplot as plt\n",
    "\n",
    "%matplotlib inline"
   ]
  },
  {
   "cell_type": "code",
   "execution_count": 44,
   "id": "a7002784-badd-4291-b5a9-e03e7019144d",
   "metadata": {},
   "outputs": [],
   "source": [
    "model_1_path = Path('data/model_1.csv')\n",
    "model_2_path = Path('data/model_2.csv')\n",
    "\n",
    "dfmdl1 = pd.read_csv(model_1_path)\n",
    "dfmdl2 = pd.read_csv(model_2_path)"
   ]
  },
  {
   "cell_type": "code",
   "execution_count": 45,
   "id": "9b2fa7b5-2a04-45f6-9fe6-c33caf9d1a92",
   "metadata": {},
   "outputs": [],
   "source": [
    "# Assume following attributes as 0 when missing\n",
    "dfmdl1['CAPX'] = dfmdl1['CAPX'].fillna(0)\n",
    "dfmdl1['Dividends'] = dfmdl1['Dividends'].fillna(0)\n",
    "dfmdl1['Dividend_yields_new'] = dfmdl1['Dividend_yields_new'].fillna(0)\n",
    "dfmdl1['Assets_yoy'] = dfmdl1['Assets_yoy'].fillna(0)\n",
    "dfmdl1['Cash_yoy'] = dfmdl1['Cash_yoy'].fillna(0)\n",
    "dfmdl1['CFO_qoq'] = dfmdl1['CFO_qoq'].fillna(0)\n",
    "dfmdl1['FCF_qoq'] = dfmdl1['FCF_qoq'].fillna(0)\n",
    "\n",
    "# Assume missing gross margin = net margin  (rationale: certain industry doesn't report gross margin)\n",
    "dfmdl1['Gross_margin'] = dfmdl1['Gross_margin'].fillna(dfmdl1['Operating_margin'])\n",
    "\n",
    "# Assume missing QoQ change from average\n",
    "dfmdl1[\"Revenue_qoq\"]  = dfmdl1['Revenue_qoq'].fillna(dfmdl1.groupby('Ticker')['Revenue_qoq'].transform('mean'))\n",
    "dfmdl1[\"Net_Income_qoq\"]  = dfmdl1['Net_Income_qoq'].fillna(dfmdl1.groupby('Ticker')['Net_Income_qoq'].transform('mean'))\n",
    "dfmdl1[\"Gross_margin_qoq\"]  = dfmdl1['Gross_margin_qoq'].fillna(dfmdl1.groupby('Ticker')['Gross_margin_qoq'].transform('mean'))\n",
    "dfmdl1[\"Operating_margin_qoq\"]  = dfmdl1['Operating_margin_qoq'].fillna(dfmdl1.groupby('Ticker')['Operating_margin_qoq'].transform('mean'))\n",
    "dfmdl1[\"Net_margin_qoq\"]  = dfmdl1['Net_margin_qoq'].fillna(dfmdl1.groupby('Ticker')['Net_margin_qoq'].transform('mean'))\n",
    "# if still missing: \n",
    "dfmdl1[\"Gross_margin_qoq\"]  = dfmdl1['Gross_margin_qoq'].fillna(dfmdl1['Operating_margin_qoq'])\n",
    "\n",
    "\n",
    "# Assume missing YoY change is interpolated from QoQ \n",
    "def interpolation(df,var):\n",
    "    df[var+'_yoy'].fillna((1+df[var+'_qoq'])**4-1, inplace=True)\n",
    "    return df\n",
    "\n",
    "for var in ['Revenue','Net_Income','Gross_margin','Operating_margin','Net_margin']:\n",
    "    interpolation(dfmdl1,var)\n",
    "\n",
    "# Assume missing sentiment score from ticker's average, it still missing then 0\n",
    "dfmdl1[\"cs_last5\"]  = dfmdl1['cs_last5'].fillna(dfmdl1.groupby('Ticker')['cs_last5'].transform('mean'))\n",
    "dfmdl1['cs_last5'] = dfmdl1['cs_last5'].fillna(0)"
   ]
  },
  {
   "cell_type": "code",
   "execution_count": 46,
   "id": "6250c503-ad33-4fee-af9d-cba32752551e",
   "metadata": {},
   "outputs": [],
   "source": [
    "# Give signal of 1 for positive returns, otherwise 0\n",
    "dfmdl1['target'] = np.where(dfmdl1['T0_5'] > 0.0, 1.0, 0.0)"
   ]
  },
  {
   "cell_type": "code",
   "execution_count": 47,
   "id": "642a6789-6a0e-4ce5-8b5e-43f8b5ab83d3",
   "metadata": {},
   "outputs": [],
   "source": [
    "dfmdl1.dropna(inplace=True)"
   ]
  },
  {
   "cell_type": "code",
   "execution_count": 48,
   "id": "570568c0-5b64-4704-b212-999aee4acda9",
   "metadata": {},
   "outputs": [
    {
     "data": {
      "text/plain": [
       "(7814, 85)"
      ]
     },
     "execution_count": 48,
     "metadata": {},
     "output_type": "execute_result"
    }
   ],
   "source": [
    "dfmdl1.shape"
   ]
  },
  {
   "cell_type": "code",
   "execution_count": 49,
   "id": "cdadb373-5a22-4771-b455-5086b5f9d902",
   "metadata": {},
   "outputs": [
    {
     "data": {
      "text/plain": [
       "Index(['Ticker', 'Fiscal Period', 'Sector', 'Industry', 'Next_EarningDate'], dtype='object')"
      ]
     },
     "execution_count": 49,
     "metadata": {},
     "output_type": "execute_result"
    }
   ],
   "source": [
    "dfmdl1.select_dtypes(include='O').columns"
   ]
  },
  {
   "cell_type": "code",
   "execution_count": 50,
   "id": "c76eaf0d-27f6-4a37-a5ce-48ad88bac243",
   "metadata": {},
   "outputs": [],
   "source": [
    "def label_encoding(data, feature):\n",
    "    mapping_dict = {}\n",
    "    for i, feature_value in enumerate(list(data[feature].sort_values().unique())):\n",
    "        mapping_dict[feature_value] = i+1\n",
    "    data[feature] = data[feature].map(lambda x: mapping_dict[x])\n",
    "    return data"
   ]
  },
  {
   "cell_type": "code",
   "execution_count": 51,
   "id": "151e0792-745b-4264-96ee-478407a75f57",
   "metadata": {},
   "outputs": [],
   "source": [
    "def target_encoding(data, columns: list, target):\n",
    "    empty_dict = {}\n",
    "    \n",
    "    for col in columns:\n",
    "        grouped = data[[col,target]].groupby(col,as_index=False).mean()\n",
    "        \n",
    "        for i in range(len(grouped)):\n",
    "            empty_dict[grouped.iloc[i,0]]=grouped.iloc[i,1]\n",
    "            \n",
    "        data[col]=data[col].map(lambda x: empty_dict[x])\n",
    "    \n",
    "    return data"
   ]
  },
  {
   "cell_type": "code",
   "execution_count": 52,
   "id": "a9a44831-02e3-4081-a5d1-a3ab486ec0d4",
   "metadata": {},
   "outputs": [],
   "source": [
    "dfmdl1.Next_EarningDate = pd.to_datetime(dfmdl1.Next_EarningDate, format='%Y-%m-%d')\n",
    "dfmdl1['Next_EarningDate_Y'] = dfmdl1.Next_EarningDate.dt.year\n",
    "dfmdl1['Next_EarningDate_M'] = dfmdl1.Next_EarningDate.dt.month\n",
    "dfmdl1['Next_EarningDate_D'] = dfmdl1.Next_EarningDate.dt.day\n",
    "dfmdl1.drop(columns=['Next_EarningDate'], inplace=True)"
   ]
  },
  {
   "cell_type": "code",
   "execution_count": 53,
   "id": "5938f5d4-90f1-4446-81db-e1b359100cc1",
   "metadata": {},
   "outputs": [],
   "source": [
    "dfmdl1 = label_encoding(dfmdl1, 'Fiscal Period')\n",
    "dfmdl1 = target_encoding(dfmdl1, ['Ticker','Sector','Industry'], 'T0_5')"
   ]
  },
  {
   "cell_type": "code",
   "execution_count": 54,
   "id": "38df5e23-1740-4a9e-83c4-ce0e2f92c328",
   "metadata": {},
   "outputs": [],
   "source": [
    "dfmdl1.EPSsuprise_ind = dfmdl1.EPSsuprise_ind.astype(int)"
   ]
  },
  {
   "cell_type": "code",
   "execution_count": 55,
   "id": "58bee8f5-c46b-4c2d-b00d-bec1b6d911ac",
   "metadata": {},
   "outputs": [],
   "source": [
    "dfmdl1.replace([np.inf, -np.inf], np.nan, inplace=True)"
   ]
  },
  {
   "cell_type": "code",
   "execution_count": 56,
   "id": "a891dd95-32ad-4b7b-a9bd-35518fb4750e",
   "metadata": {},
   "outputs": [],
   "source": [
    "dfmdl1.dropna(inplace=True)"
   ]
  },
  {
   "cell_type": "code",
   "execution_count": 57,
   "id": "83bf68aa-c7f7-42a5-bcc0-24bff36c56ab",
   "metadata": {},
   "outputs": [
    {
     "data": {
      "text/plain": [
       "(7796, 87)"
      ]
     },
     "execution_count": 57,
     "metadata": {},
     "output_type": "execute_result"
    }
   ],
   "source": [
    "dfmdl1.shape"
   ]
  },
  {
   "cell_type": "code",
   "execution_count": 58,
   "id": "9c09d615-831f-4ae2-9a78-bb05246bf037",
   "metadata": {},
   "outputs": [
    {
     "data": {
      "text/plain": [
       "Ticker                float64\n",
       "beta_30avg            float64\n",
       "adjclose              float64\n",
       "Fiscal Year             int64\n",
       "Fiscal Period           int64\n",
       "                       ...   \n",
       "Market_cap_mm         float64\n",
       "target                float64\n",
       "Next_EarningDate_Y      int64\n",
       "Next_EarningDate_M      int64\n",
       "Next_EarningDate_D      int64\n",
       "Length: 87, dtype: object"
      ]
     },
     "execution_count": 58,
     "metadata": {},
     "output_type": "execute_result"
    }
   ],
   "source": [
    "dfmdl1.dtypes"
   ]
  },
  {
   "cell_type": "code",
   "execution_count": 118,
   "id": "ea5dfdab-196d-49ea-b244-e8d1641dc727",
   "metadata": {},
   "outputs": [],
   "source": [
    "X1 = dfmdl1.drop(columns=['T0_5', 'target'], axis=0)\n",
    "y = dfmdl1['target']\n",
    "\n",
    "X1_train, X1_test, y_train, y_test = train_test_split(X1, \n",
    "                                                    y, \n",
    "                                                    random_state=1, \n",
    "                                                    train_size=0.7)"
   ]
  },
  {
   "cell_type": "code",
   "execution_count": 119,
   "id": "cb830cf2-6da7-4f25-a422-ed97c5519e56",
   "metadata": {},
   "outputs": [
    {
     "data": {
      "text/plain": [
       "RandomForestClassifier(random_state=42)"
      ]
     },
     "execution_count": 119,
     "metadata": {},
     "output_type": "execute_result"
    }
   ],
   "source": [
    "model = RandomForestClassifier(n_estimators=100, random_state=42)\n",
    "model.fit(X1_train, y_train)"
   ]
  },
  {
   "cell_type": "code",
   "execution_count": 120,
   "id": "69c6819d-5d9a-47cf-9a78-67a992ff0b52",
   "metadata": {},
   "outputs": [
    {
     "data": {
      "text/plain": [
       "<AxesSubplot:xlabel='Features', ylabel='importances'>"
      ]
     },
     "execution_count": 120,
     "metadata": {},
     "output_type": "execute_result"
    },
    {
     "data": {
      "image/png": "[encoded data removed]",
      "text/plain": [
       "<Figure size 1440x360 with 1 Axes>"
      ]
     },
     "metadata": {
      "needs_background": "light"
     },
     "output_type": "display_data"
    }
   ],
   "source": [
    "importances = model.feature_importances_\n",
    "feature_df = pd.DataFrame({'Features':X1_train.columns, 'importances': importances})\n",
    "feature_df.sort_values('importances', ascending=False, inplace=True)\n",
    "\n",
    "plt.figure(figsize=(20,5))\n",
    "plt.xticks(rotation=90)\n",
    "sns.barplot(x=\"Features\", y= 'importances', data=feature_df)"
   ]
  },
  {
   "cell_type": "code",
   "execution_count": 121,
   "id": "3d9df79a-780f-43be-b100-4450bd4e935d",
   "metadata": {},
   "outputs": [],
   "source": [
    "drop_feats = list(feature_df.loc[feature_df.importances < 0.010]['Features'])"
   ]
  },
  {
   "cell_type": "code",
   "execution_count": 129,
   "id": "6a609a55-6585-410f-be6f-4a443fd22538",
   "metadata": {},
   "outputs": [],
   "source": [
    "features = list(feature_df.loc[feature_df.importances >= 0.010]['Features'])"
   ]
  },
  {
   "cell_type": "code",
   "execution_count": 130,
   "id": "3f690e97-8a36-47ec-8443-6fbb2257182c",
   "metadata": {},
   "outputs": [
    {
     "data": {
      "text/plain": [
       "67"
      ]
     },
     "execution_count": 130,
     "metadata": {},
     "output_type": "execute_result"
    }
   ],
   "source": [
    "len(features)"
   ]
  },
  {
   "cell_type": "code",
   "execution_count": 123,
   "id": "b030fb50-e84b-406f-aed7-46bdb9a8545a",
   "metadata": {},
   "outputs": [],
   "source": [
    "X2 = X1.drop(columns=drop_feats)\n",
    "X2_train, X2_test, y_train, y_test = train_test_split(X2, y, random_state=1, train_size=0.7)"
   ]
  },
  {
   "cell_type": "code",
   "execution_count": 124,
   "id": "5759c42c-4175-45ac-ae87-086a9a240266",
   "metadata": {},
   "outputs": [
    {
     "data": {
      "text/plain": [
       "RandomForestClassifier(random_state=42)"
      ]
     },
     "execution_count": 124,
     "metadata": {},
     "output_type": "execute_result"
    }
   ],
   "source": [
    "model_fs = RandomForestClassifier(n_estimators=100, random_state=42)\n",
    "model_fs.fit(X2_train, y_train)\n",
    "\n",
    "# sel_rfe_tree = RFE(estimator=model_tree, n_features_to_select=1, step=1)"
   ]
  },
  {
   "cell_type": "code",
   "execution_count": 125,
   "id": "ae986bd0-4741-433d-b67f-bdd4372cd718",
   "metadata": {},
   "outputs": [],
   "source": [
    "data_scaler = StandardScaler()\n",
    "data_scaler.fit(X1_train)\n",
    "\n",
    "# Scale the training and testing data\n",
    "X1_train_s=data_scaler.transform(X1_train)\n",
    "X1_test_s=data_scaler.transform(X1_test)"
   ]
  },
  {
   "cell_type": "code",
   "execution_count": 126,
   "id": "d8ebeb14-a895-49eb-912b-aced493474a8",
   "metadata": {},
   "outputs": [],
   "source": [
    "data_scaler = StandardScaler()\n",
    "data_scaler.fit(X2_train)\n",
    "\n",
    "# Scale the training and testing data\n",
    "X2_train_s=data_scaler.transform(X2_train)\n",
    "X2_test_s=data_scaler.transform(X2_test)"
   ]
  },
  {
   "cell_type": "code",
   "execution_count": 135,
   "id": "2a863276-bb57-489b-8400-107bfd3ecfa6",
   "metadata": {},
   "outputs": [
    {
     "name": "stderr",
     "output_type": "stream",
     "text": [
      "/Users/hasnainraza/opt/anaconda3/lib/python3.8/site-packages/sklearn/base.py:450: UserWarning: X does not have valid feature names, but RandomForestClassifier was fitted with feature names\n",
      "  warnings.warn(\n"
     ]
    },
    {
     "data": {
      "text/html": [
       "<div>\n",
       "<style scoped>\n",
       "    .dataframe tbody tr th:only-of-type {\n",
       "        vertical-align: middle;\n",
       "    }\n",
       "\n",
       "    .dataframe tbody tr th {\n",
       "        vertical-align: top;\n",
       "    }\n",
       "\n",
       "    .dataframe thead th {\n",
       "        text-align: right;\n",
       "    }\n",
       "</style>\n",
       "<table border=\"1\" class=\"dataframe\">\n",
       "  <thead>\n",
       "    <tr style=\"text-align: right;\">\n",
       "      <th></th>\n",
       "      <th>Prediction</th>\n",
       "      <th>Actual</th>\n",
       "    </tr>\n",
       "  </thead>\n",
       "  <tbody>\n",
       "    <tr>\n",
       "      <th>1715</th>\n",
       "      <td>0.69</td>\n",
       "      <td>1.0</td>\n",
       "    </tr>\n",
       "    <tr>\n",
       "      <th>1329</th>\n",
       "      <td>0.66</td>\n",
       "      <td>1.0</td>\n",
       "    </tr>\n",
       "    <tr>\n",
       "      <th>1540</th>\n",
       "      <td>0.66</td>\n",
       "      <td>1.0</td>\n",
       "    </tr>\n",
       "    <tr>\n",
       "      <th>219</th>\n",
       "      <td>0.65</td>\n",
       "      <td>0.0</td>\n",
       "    </tr>\n",
       "    <tr>\n",
       "      <th>2049</th>\n",
       "      <td>0.64</td>\n",
       "      <td>1.0</td>\n",
       "    </tr>\n",
       "    <tr>\n",
       "      <th>382</th>\n",
       "      <td>0.64</td>\n",
       "      <td>1.0</td>\n",
       "    </tr>\n",
       "    <tr>\n",
       "      <th>655</th>\n",
       "      <td>0.64</td>\n",
       "      <td>0.0</td>\n",
       "    </tr>\n",
       "    <tr>\n",
       "      <th>1021</th>\n",
       "      <td>0.64</td>\n",
       "      <td>1.0</td>\n",
       "    </tr>\n",
       "    <tr>\n",
       "      <th>16</th>\n",
       "      <td>0.64</td>\n",
       "      <td>1.0</td>\n",
       "    </tr>\n",
       "    <tr>\n",
       "      <th>2146</th>\n",
       "      <td>0.63</td>\n",
       "      <td>0.0</td>\n",
       "    </tr>\n",
       "  </tbody>\n",
       "</table>\n",
       "</div>"
      ],
      "text/plain": [
       "      Prediction  Actual\n",
       "1715        0.69     1.0\n",
       "1329        0.66     1.0\n",
       "1540        0.66     1.0\n",
       "219         0.65     0.0\n",
       "2049        0.64     1.0\n",
       "382         0.64     1.0\n",
       "655         0.64     0.0\n",
       "1021        0.64     1.0\n",
       "16          0.64     1.0\n",
       "2146        0.63     0.0"
      ]
     },
     "execution_count": 135,
     "metadata": {},
     "output_type": "execute_result"
    }
   ],
   "source": [
    "# Predict outcomes for test data set\n",
    "y_pred = model.predict_proba(X1_test_s)[:,1]\n",
    "\n",
    "df_result=pd.DataFrame({\"Prediction\": y_pred, \"Actual\": y_test.values.ravel()}).sort_values(by=['Prediction'],ascending=False)\n",
    "df_result[:10]"
   ]
  },
  {
   "cell_type": "code",
   "execution_count": 136,
   "id": "876d4b60-b855-4972-b4be-46b16ae7c7b9",
   "metadata": {},
   "outputs": [
    {
     "name": "stderr",
     "output_type": "stream",
     "text": [
      "/Users/hasnainraza/opt/anaconda3/lib/python3.8/site-packages/sklearn/base.py:450: UserWarning: X does not have valid feature names, but RandomForestClassifier was fitted with feature names\n",
      "  warnings.warn(\n"
     ]
    },
    {
     "data": {
      "text/html": [
       "<div>\n",
       "<style scoped>\n",
       "    .dataframe tbody tr th:only-of-type {\n",
       "        vertical-align: middle;\n",
       "    }\n",
       "\n",
       "    .dataframe tbody tr th {\n",
       "        vertical-align: top;\n",
       "    }\n",
       "\n",
       "    .dataframe thead th {\n",
       "        text-align: right;\n",
       "    }\n",
       "</style>\n",
       "<table border=\"1\" class=\"dataframe\">\n",
       "  <thead>\n",
       "    <tr style=\"text-align: right;\">\n",
       "      <th></th>\n",
       "      <th>Prediction</th>\n",
       "      <th>Actual</th>\n",
       "    </tr>\n",
       "  </thead>\n",
       "  <tbody>\n",
       "    <tr>\n",
       "      <th>5950</th>\n",
       "      <td>0.69</td>\n",
       "      <td>1.0</td>\n",
       "    </tr>\n",
       "    <tr>\n",
       "      <th>1545</th>\n",
       "      <td>0.66</td>\n",
       "      <td>1.0</td>\n",
       "    </tr>\n",
       "    <tr>\n",
       "      <th>190</th>\n",
       "      <td>0.66</td>\n",
       "      <td>1.0</td>\n",
       "    </tr>\n",
       "    <tr>\n",
       "      <th>2004</th>\n",
       "      <td>0.65</td>\n",
       "      <td>0.0</td>\n",
       "    </tr>\n",
       "    <tr>\n",
       "      <th>646</th>\n",
       "      <td>0.64</td>\n",
       "      <td>1.0</td>\n",
       "    </tr>\n",
       "    <tr>\n",
       "      <th>306</th>\n",
       "      <td>0.64</td>\n",
       "      <td>1.0</td>\n",
       "    </tr>\n",
       "    <tr>\n",
       "      <th>243</th>\n",
       "      <td>0.64</td>\n",
       "      <td>0.0</td>\n",
       "    </tr>\n",
       "    <tr>\n",
       "      <th>1550</th>\n",
       "      <td>0.64</td>\n",
       "      <td>1.0</td>\n",
       "    </tr>\n",
       "    <tr>\n",
       "      <th>4757</th>\n",
       "      <td>0.64</td>\n",
       "      <td>1.0</td>\n",
       "    </tr>\n",
       "    <tr>\n",
       "      <th>6628</th>\n",
       "      <td>0.63</td>\n",
       "      <td>0.0</td>\n",
       "    </tr>\n",
       "  </tbody>\n",
       "</table>\n",
       "</div>"
      ],
      "text/plain": [
       "      Prediction  Actual\n",
       "5950        0.69     1.0\n",
       "1545        0.66     1.0\n",
       "190         0.66     1.0\n",
       "2004        0.65     0.0\n",
       "646         0.64     1.0\n",
       "306         0.64     1.0\n",
       "243         0.64     0.0\n",
       "1550        0.64     1.0\n",
       "4757        0.64     1.0\n",
       "6628        0.63     0.0"
      ]
     },
     "execution_count": 136,
     "metadata": {},
     "output_type": "execute_result"
    }
   ],
   "source": [
    "y_pred2 = model_fs.predict_proba(X2_test_s)[:,1]\n",
    "\n",
    "df_result_fs=pd.DataFrame({\"Prediction\": y_pred, \"Actual\": y_test}).sort_values(by=['Prediction'],ascending=False)\n",
    "df_result_fs[:10]"
   ]
  },
  {
   "cell_type": "code",
   "execution_count": 153,
   "id": "bc9b8e42-f3ac-4e75-a4e0-225ec7611ecb",
   "metadata": {},
   "outputs": [
    {
     "data": {
      "text/plain": [
       "Prediction    float64\n",
       "Actual        float64\n",
       "dtype: object"
      ]
     },
     "execution_count": 153,
     "metadata": {},
     "output_type": "execute_result"
    }
   ],
   "source": [
    "df_result.dtypes"
   ]
  },
  {
   "cell_type": "code",
   "execution_count": null,
   "id": "d85d757d-a9fa-42db-ab8b-d656f895c6e4",
   "metadata": {},
   "outputs": [],
   "source": []
  }
 ],
 "metadata": {
  "kernelspec": {
   "display_name": "Python 3 (ipykernel)",
   "language": "python",
   "name": "python3"
  },
  "language_info": {
   "codemirror_mode": {
    "name": "ipython",
    "version": 3
   },
   "file_extension": ".py",
   "mimetype": "text/x-python",
   "name": "python",
   "nbconvert_exporter": "python",
   "pygments_lexer": "ipython3",
   "version": "3.8.2"
  }
 },
 "nbformat": 4,
 "nbformat_minor": 5
}
