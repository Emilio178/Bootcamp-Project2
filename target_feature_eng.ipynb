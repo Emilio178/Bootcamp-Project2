{
 "cells": [
  {
   "cell_type": "code",
   "execution_count": 1,
   "id": "bc4ce05e-748e-43e6-8945-232188a61e46",
   "metadata": {},
   "outputs": [],
   "source": [
    "%matplotlib inline\n",
    "import pandas as pd\n",
    "import numpy as np\n",
    "import os\n",
    "# Import the main functionality from the SimFin Python API.\n",
    "import simfin as sf\n",
    "\n",
    "# Import names used for easy access to SimFin's data-columns.\n",
    "from simfin.names import *\n",
    "\n",
    "import yfinance as yf\n",
    "import yahoo_fin.stock_info as si\n",
    "# import pandas_datareader.data as web\n",
    "\n",
    "from dateutil.relativedelta import relativedelta\n",
    "from datetime import datetime"
   ]
  },
  {
   "cell_type": "markdown",
   "id": "44982f48-443c-4307-976b-4fcb9cbf8eba",
   "metadata": {},
   "source": [
    "### Part.1 Create Target T0_5 and T1_5"
   ]
  },
  {
   "cell_type": "code",
   "execution_count": null,
   "id": "97d4234c-2459-49ab-9374-2e7b51de9577",
   "metadata": {},
   "outputs": [],
   "source": [
    "#load daily price data and earning dates data\n",
    "df_dailyprice=pd.read_csv('data/sp500_dailyprice.csv')\n",
    "df_earningdate=pd.read_csv('data/sp500_earningdate.csv')\n",
    "# df_dailyprice[df_dailyprice['ticker']=='TSLA']"
   ]
  },
  {
   "cell_type": "code",
   "execution_count": null,
   "id": "b06ee20c-1338-47a0-a83d-c75e3f75e9a3",
   "metadata": {},
   "outputs": [],
   "source": [
    "df_dailyprice.rename(columns={'adjclose':'T0'},inplace=True)\n",
    "df_target=df_dailyprice[['date','ticker','T0']]\n",
    "df_target['T0_pre1']=df_target.groupby('ticker')['T0'].shift(1)\n",
    "df_target['T1']=df_target.groupby('ticker')['T0'].shift(-1)\n",
    "df_target['T5']=df_target.groupby('ticker')['T0'].shift(-5)\n",
    "df_target['T0_5']=(df_target['T5']-df_target['T0'])/df_target['T0']\n",
    "df_target['T1_5']=(df_target['T5']-df_target['T1'])/df_target['T1']\n",
    "df_target['T0_fromlastday']=(df_target['T0']-df_target['T0_pre1'])/df_target['T0_pre1']\n",
    "df_target=df_target.drop(columns=['T1','T5'])\n",
    "df_target.dropna(inplace=True)\n",
    "# df_target.iloc[1500:1520]"
   ]
  },
  {
   "cell_type": "code",
   "execution_count": null,
   "id": "7bab23ef-53c4-4c88-872d-d5f78ae27515",
   "metadata": {},
   "outputs": [],
   "source": [
    "df_target=pd.merge(df_earningdate[['Ticker','Earning Date']]\n",
    "                   , df_target\n",
    "                   , how='left'\n",
    "                   , left_on=['Ticker','Earning Date']\n",
    "                   , right_on=['ticker','date'])\n",
    "df_target.drop(columns=['ticker','date'],inplace=True)"
   ]
  },
  {
   "cell_type": "code",
   "execution_count": null,
   "id": "ab50b6a9-348e-4ebc-a1a6-2b3897c3c041",
   "metadata": {},
   "outputs": [],
   "source": [
    "df_target.to_csv(\"data/target.csv\",index=False)"
   ]
  },
  {
   "cell_type": "markdown",
   "id": "f941cff0-0ae7-4f49-8ca6-281d3b226302",
   "metadata": {},
   "source": [
    "### Part.2 Create Technical indicators"
   ]
  },
  {
   "cell_type": "code",
   "execution_count": null,
   "id": "031abc4a-9ab6-449b-95a0-d500125bef71",
   "metadata": {},
   "outputs": [],
   "source": [
    "#load daily price data and earning dates data\n",
    "df_dailyprice=pd.read_csv('data/sp500_dailyprice.csv')\n",
    "df_earningdate=pd.read_csv('data/sp500_earningdate.csv')"
   ]
  },
  {
   "cell_type": "code",
   "execution_count": null,
   "id": "1b041216-b7f6-4a27-a80a-d0eb00a5ec59",
   "metadata": {},
   "outputs": [],
   "source": [
    "# Simple Moving Average \n",
    "def SMA(data, ndays): \n",
    "    SMA = pd.Series(data['adjclose'].rolling(ndays).mean(), name = 'SMA_' + str(ndays)) \n",
    "    data = data.join(SMA) \n",
    "    return data\n",
    "\n",
    "# Exponentially-weighted Moving Average \n",
    "def EWMA(data, ndays): \n",
    "    EMA = pd.Series(data['close'].ewm(span = ndays, min_periods = ndays - 1).mean(), \n",
    "                 name = 'EWMA_' + str(ndays)) \n",
    "    data = data.join(EMA) \n",
    "    return data"
   ]
  },
  {
   "cell_type": "code",
   "execution_count": null,
   "id": "f1d99ba3-a80d-49bc-a26b-299cbfb4506a",
   "metadata": {},
   "outputs": [],
   "source": [
    "# Compute the Bollinger Bands \n",
    "def BBANDS(data, window):\n",
    "    MA = data.adjclose.rolling(window).mean()\n",
    "    SD = data.adjclose.rolling(window).std()\n",
    "    data['MiddleBand'] = MA\n",
    "    data['UpperBand'] = MA + (2 * SD) \n",
    "    data['LowerBand'] = MA - (2 * SD)\n",
    "    return data"
   ]
  },
  {
   "cell_type": "code",
   "execution_count": null,
   "id": "d756662e-ec54-4450-a294-10e0ac57b3d2",
   "metadata": {},
   "outputs": [],
   "source": [
    "# Returns RSI values\n",
    "def rsi(data, periods = 14):\n",
    "    \n",
    "    close_delta = data['adjclose'].diff()\n",
    "\n",
    "    # Make two series: one for lower closes and one for higher closes\n",
    "    up = close_delta.clip(lower=0)\n",
    "    down = -1 * close_delta.clip(upper=0)\n",
    "    \n",
    "    ma_up = up.ewm(com = periods - 1, adjust=True, min_periods = periods).mean()\n",
    "    ma_down = down.ewm(com = periods - 1, adjust=True, min_periods = periods).mean()\n",
    "\n",
    "    rsi = ma_up / ma_down\n",
    "    rsi = 100 - (100/(1 + rsi))\n",
    "    data['RSI']=rsi\n",
    "    return data"
   ]
  },
  {
   "cell_type": "code",
   "execution_count": null,
   "id": "24066389-da01-47d0-a467-a1202e2b8b13",
   "metadata": {},
   "outputs": [],
   "source": [
    "# Calculate money flow index\n",
    "def gain(x):\n",
    "    return ((x > 0) * x).sum()\n",
    "def loss(x):\n",
    "    return ((x < 0) * x).sum()\n",
    "def mfi(high, low, close, volume, n=14):\n",
    "    typical_price = (high + low + close)/3\n",
    "    money_flow = typical_price * volume\n",
    "    mf_sign = np.where(typical_price > typical_price.shift(1), 1, -1)\n",
    "    signed_mf = money_flow * mf_sign\n",
    "    mf_avg_gain = signed_mf.rolling(n).apply(gain, raw=True)\n",
    "    mf_avg_loss = signed_mf.rolling(n).apply(loss, raw=True)\n",
    "    return (100 - (100 / (1 + (mf_avg_gain / abs(mf_avg_loss))))).to_numpy()"
   ]
  },
  {
   "cell_type": "code",
   "execution_count": null,
   "id": "e1274f87-c7e4-4730-943d-84c387230ec1",
   "metadata": {},
   "outputs": [],
   "source": [
    "def createratio(data, column1, column2): \n",
    "    ratio = pd.Series(data[column1]/data[column2], name = column1+'_'+column2) \n",
    "    data = data.join(ratio) \n",
    "    return data"
   ]
  },
  {
   "cell_type": "code",
   "execution_count": null,
   "id": "92e95184-dd13-4a6a-ace0-344721e165ef",
   "metadata": {},
   "outputs": [],
   "source": [
    "df_dailyprice=SMA(df_dailyprice,12)\n",
    "df_dailyprice=SMA(df_dailyprice,30)\n",
    "df_dailyprice=EWMA(df_dailyprice,12)\n",
    "df_dailyprice=EWMA(df_dailyprice,30)\n",
    "df_dailyprice=BBANDS(df_dailyprice,30)\n",
    "df_dailyprice=rsi(df_dailyprice)\n",
    "df_dailyprice['MFI']=mfi(df_dailyprice['high'],df_dailyprice['low'],df_dailyprice['adjclose'],df_dailyprice['volume'])"
   ]
  },
  {
   "cell_type": "code",
   "execution_count": null,
   "id": "3f4baf16-3226-4323-ad81-62a1de5d92bb",
   "metadata": {},
   "outputs": [],
   "source": [
    "for column in ['SMA_12','SMA_30','EWMA_12','EWMA_30','UpperBand','LowerBand']:\n",
    "    df_dailyprice=createratio(df_dailyprice,'adjclose',column)\n",
    "\n",
    "df_dailyprice=createratio(df_dailyprice,'SMA_12','SMA_30')\n",
    "df_dailyprice=createratio(df_dailyprice,'EWMA_12','EWMA_30')\n",
    "df_dailyprice=createratio(df_dailyprice,'UpperBand','LowerBand')"
   ]
  },
  {
   "cell_type": "code",
   "execution_count": null,
   "id": "386fae34-c1a8-4725-8a1c-2928b92dc29d",
   "metadata": {},
   "outputs": [],
   "source": [
    "df_dailyprice.drop(columns=['open','MiddleBand','high', 'low', 'close', 'volume','adjclose','SMA_12','SMA_30','EWMA_12','EWMA_30','UpperBand','LowerBand'],inplace=True)"
   ]
  },
  {
   "cell_type": "code",
   "execution_count": null,
   "id": "4cc32813-b8c9-4b34-b150-84db950e05ed",
   "metadata": {},
   "outputs": [],
   "source": [
    "df_techind=pd.merge(df_earningdate[['Ticker','Earning Date']]\n",
    "                   , df_dailyprice\n",
    "                   , how='left'\n",
    "                   , left_on=['Ticker','Earning Date']\n",
    "                   , right_on=['ticker','date'])\n",
    "df_techind.drop(columns=['ticker','date'],inplace=True)\n",
    "df_techind.dropna(inplace=True)"
   ]
  },
  {
   "cell_type": "code",
   "execution_count": null,
   "id": "66f445fe-0203-4edd-8227-c77d3c1e6f75",
   "metadata": {},
   "outputs": [],
   "source": [
    "df_techind.to_csv(\"data/techind.csv\",index=False)"
   ]
  },
  {
   "cell_type": "markdown",
   "id": "5d647d4b-6eee-437a-98a3-c624193043d9",
   "metadata": {},
   "source": [
    "### Part.3 Append segment features to earning data"
   ]
  },
  {
   "cell_type": "code",
   "execution_count": 2,
   "id": "5a74047c-e608-43f7-a2f4-a9d31d06f2b7",
   "metadata": {},
   "outputs": [],
   "source": [
    "#load daily price data and earning dates data\n",
    "df_dailyprice=pd.read_csv('data/sp500_dailyprice.csv')\n",
    "df_fundamental=pd.read_csv('data/us_fundamental.csv')\n",
    "df_earningdate=pd.read_csv('data/sp500_earningdate.csv')"
   ]
  },
  {
   "cell_type": "code",
   "execution_count": 3,
   "id": "9c9c2aa8-c85f-4d39-9c96-d1fdf0fc325f",
   "metadata": {},
   "outputs": [],
   "source": [
    "start_date= '2015-01-01'\n",
    "end_date= '2021-12-30'"
   ]
  },
  {
   "cell_type": "code",
   "execution_count": 75,
   "id": "f39194a3-bc03-4ccd-9230-f93e7e9b1a3a",
   "metadata": {},
   "outputs": [],
   "source": [
    "# calculate 1-year average return and volatility\n",
    "sp500 = si.get_data('^GSPC', start_date=start_date, end_date=end_date,index_as_date=False)[['date','close']]\n",
    "sp500.columns = ['date','SP500']\n",
    "sp500['date']=sp500['date'].astype(str)\n",
    "sp500['sp500_r']=sp500['SP500'].pct_change()\n",
    "sp500['sp500_var']=sp500['sp500_r'].rolling(21).var()"
   ]
  },
  {
   "cell_type": "code",
   "execution_count": 76,
   "id": "0ea46f6d-eecd-439e-9c33-444743c68894",
   "metadata": {},
   "outputs": [],
   "source": [
    "beta_calc=pd.merge(df_dailyprice[['date','ticker','adjclose']]\n",
    "                   ,sp500\n",
    "                   ,how='left'\n",
    "                   ,on='date')"
   ]
  },
  {
   "cell_type": "code",
   "execution_count": 77,
   "id": "07ab0436-f500-492c-b378-581293431896",
   "metadata": {},
   "outputs": [],
   "source": [
    "beta_calc['ticker_r']=beta_calc.groupby('ticker')['adjclose'].pct_change()"
   ]
  },
  {
   "cell_type": "code",
   "execution_count": 78,
   "id": "946f6c08-71d8-4a69-b9b3-56348632f8b4",
   "metadata": {},
   "outputs": [],
   "source": [
    "df_temp=beta_calc[['date','ticker','ticker_r','sp500_r']].set_index('date')"
   ]
  },
  {
   "cell_type": "code",
   "execution_count": 79,
   "id": "49b5d9ae-b463-4a12-989b-9684ce09447d",
   "metadata": {},
   "outputs": [],
   "source": [
    "df_cov = df_temp.groupby('ticker').rolling(21).cov().unstack()['ticker_r']['sp500_r']"
   ]
  },
  {
   "cell_type": "code",
   "execution_count": 80,
   "id": "5137148b-e97c-45fb-bd28-c7a9e76211b8",
   "metadata": {},
   "outputs": [],
   "source": [
    "beta_calc=pd.merge(beta_calc\n",
    "                   ,df_cov\n",
    "                   ,how='left'\n",
    "                   ,on=['date','ticker'])"
   ]
  },
  {
   "cell_type": "code",
   "execution_count": 81,
   "id": "a14577ba-f83d-492c-975c-f0b3fdba021b",
   "metadata": {},
   "outputs": [],
   "source": [
    "beta_calc['beta']=beta_calc['sp500_r_y']/beta_calc['sp500_var']"
   ]
  },
  {
   "cell_type": "code",
   "execution_count": 82,
   "id": "38cdd5fa-3492-4d17-a787-38b0a9a0b8a6",
   "metadata": {},
   "outputs": [],
   "source": [
    "beta_calc['beta_30avg']=beta_calc['beta'].rolling(30,min_periods=2).mean()"
   ]
  },
  {
   "cell_type": "code",
   "execution_count": 83,
   "id": "a33f8d02-a441-44bc-a634-aef1eb54282b",
   "metadata": {},
   "outputs": [],
   "source": [
    "merge2=pd.merge(df_earningdate\n",
    "                   , beta_calc[['ticker','date','beta_30avg','adjclose']]\n",
    "                   , how='left'\n",
    "                   , left_on=['Ticker','Earning Date']\n",
    "                   , right_on=['ticker','date'])\n",
    "\n",
    "merge2.drop(columns=['date','ticker'],inplace=True)"
   ]
  },
  {
   "cell_type": "code",
   "execution_count": 84,
   "id": "a264123f-c6a0-41cf-bc53-bfc4e6a8be02",
   "metadata": {},
   "outputs": [],
   "source": [
    "sp_500_fundamental=pd.merge(merge2\n",
    "                   , df_fundamental\n",
    "                   , how='left'\n",
    "                   , on=['Ticker','Publish Date']\n",
    "                   )"
   ]
  },
  {
   "cell_type": "code",
   "execution_count": 85,
   "id": "99ee5b4d-60ca-47fe-99ce-b1191ef54678",
   "metadata": {},
   "outputs": [
    {
     "data": {
      "text/plain": [
       "Index(['Ticker', 'Earning Date', 'beta_30avg', 'adjclose', 'Fiscal Year',\n",
       "       'Fiscal Period', 'Revenue', 'Net Income', 'Shares (Basic)',\n",
       "       'Cash, Cash Equivalents & Short Term Investments', 'Total Assets',\n",
       "       'Net Cash from Operating Activities',\n",
       "       'Net Change in Long Term Investment', 'Dividends Paid',\n",
       "       'Net Change in Cash', 'EPSsuprise_ind', 'Revenue_qoq', 'Revenue_yoy',\n",
       "       'Net_Income_qoq', 'Net_Income_yoy', 'Gross_margin', 'Gross_margin_qoq',\n",
       "       'Gross_margin_yoy', 'Operating_margin', 'Operating_margin_qoq',\n",
       "       'Operating_margin_yoy', 'Net_margin', 'Net_margin_qoq',\n",
       "       'Net_margin_yoy', 'Cash_yoy', 'Assets_yoy', 'Leverage', 'CFO_qoq',\n",
       "       'FCF_qoq'],\n",
       "      dtype='object')"
      ]
     },
     "execution_count": 85,
     "metadata": {},
     "output_type": "execute_result"
    }
   ],
   "source": [
    "sp_500_fundamental['EPSsuprise_ind']=sp_500_fundamental['epssurprisepct']>0\n",
    "\n",
    "sp_500_fundamental['Revenue_qoq']=sp_500_fundamental.groupby('Ticker')['Revenue'].pct_change()\n",
    "sp_500_fundamental['Revenue_yoy']=sp_500_fundamental.groupby('Ticker')['Revenue'].pct_change(4)\n",
    "sp_500_fundamental['Net_Income_qoq']=sp_500_fundamental.groupby('Ticker')['Net Income'].pct_change()\n",
    "sp_500_fundamental['Net_Income_yoy']=sp_500_fundamental.groupby('Ticker')['Net Income'].pct_change(4)\n",
    "\n",
    "sp_500_fundamental['Gross_margin']=sp_500_fundamental['Gross Profit']/sp_500_fundamental['Revenue']\n",
    "sp_500_fundamental['Gross_margin_qoq']=sp_500_fundamental.groupby('Ticker')['Gross_margin'].diff()\n",
    "sp_500_fundamental['Gross_margin_yoy']=sp_500_fundamental.groupby('Ticker')['Gross_margin'].diff(4)\n",
    "sp_500_fundamental['Operating_margin']=sp_500_fundamental['Operating Income (Loss)']/sp_500_fundamental['Revenue']\n",
    "sp_500_fundamental['Operating_margin_qoq']=sp_500_fundamental.groupby('Ticker')['Operating_margin'].diff()\n",
    "sp_500_fundamental['Operating_margin_yoy']=sp_500_fundamental.groupby('Ticker')['Operating_margin'].diff(4)\n",
    "sp_500_fundamental['Net_margin']=sp_500_fundamental['Net Income']/sp_500_fundamental['Revenue']\n",
    "sp_500_fundamental['Net_margin_qoq']=sp_500_fundamental.groupby('Ticker')['Net_margin'].diff()\n",
    "sp_500_fundamental['Net_margin_yoy']=sp_500_fundamental.groupby('Ticker')['Net_margin'].diff(4)\n",
    "sp_500_fundamental['Cash_yoy']=sp_500_fundamental.groupby('Ticker')['Cash, Cash Equivalents & Short Term Investments'].pct_change(4)\n",
    "sp_500_fundamental['Assets_yoy']=sp_500_fundamental.groupby('Ticker')['Total Assets'].pct_change(4)\n",
    "sp_500_fundamental['Leverage']=sp_500_fundamental['Total Assets']/sp_500_fundamental['Total Liabilities']\n",
    "sp_500_fundamental['CFO_qoq']=sp_500_fundamental.groupby('Ticker')['Net Cash from Operating Activities'].pct_change()\n",
    "sp_500_fundamental['FCF_qoq']=sp_500_fundamental.groupby('Ticker')['Net Change in Cash'].pct_change()\n",
    "sp_500_fundamental[10:20]\n",
    "\n",
    "sp_500_fundamental.drop(columns=['Publish Date', 'epsestimate', 'epsactual','epssurprisepct', 'Report Date','Gross Profit'\n",
    "                                 , 'Operating Income (Loss)','Total Liabilities', 'Total Equity','Net Cash from Investing Activities', \n",
    "       'Net Cash from Financing Activities', 'Next_publish_date'],inplace=True)\n",
    "sp_500_fundamental.columns"
   ]
  },
  {
   "cell_type": "code",
   "execution_count": 86,
   "id": "d9627792-cc43-4dc7-8494-e4bb4a2abe4c",
   "metadata": {},
   "outputs": [],
   "source": [
    "sp_500_fundamental.rename(columns={\n",
    "    'Net Income':'Net_income',\n",
    "    'Shares (Basic)':'Shares',\n",
    "    'Cash, Cash Equivalents & Short Term Investments':'Cash',\n",
    "    'Net Cash from Operating Activities':'CFO',\n",
    "    'Total Assets':'Assets',\n",
    "    'Net Change in Long Term Investment':'CAPX',\n",
    "    'Dividends Paid':'Dividends',\n",
    "    'Net Change in Cash':'FCF'\n",
    "     },inplace=True)"
   ]
  },
  {
   "cell_type": "code",
   "execution_count": 87,
   "id": "78261222-34bf-4550-830e-d3e4b531af54",
   "metadata": {},
   "outputs": [
    {
     "data": {
      "text/plain": [
       "Index(['Ticker', 'Earning Date', 'beta_30avg', 'adjclose', 'Fiscal Year',\n",
       "       'Fiscal Period', 'Revenue', 'Net_income', 'Shares', 'Cash', 'Assets',\n",
       "       'CFO', 'CAPX', 'Dividends', 'FCF', 'EPSsuprise_ind', 'Revenue_qoq',\n",
       "       'Revenue_yoy', 'Net_Income_qoq', 'Net_Income_yoy', 'Gross_margin',\n",
       "       'Gross_margin_qoq', 'Gross_margin_yoy', 'Operating_margin',\n",
       "       'Operating_margin_qoq', 'Operating_margin_yoy', 'Net_margin',\n",
       "       'Net_margin_qoq', 'Net_margin_yoy', 'Cash_yoy', 'Assets_yoy',\n",
       "       'Leverage', 'CFO_qoq', 'FCF_qoq'],\n",
       "      dtype='object')"
      ]
     },
     "execution_count": 87,
     "metadata": {},
     "output_type": "execute_result"
    }
   ],
   "source": [
    "sp_500_fundamental.columns"
   ]
  },
  {
   "cell_type": "code",
   "execution_count": 88,
   "id": "6f1a37e9-4a8c-4d6c-b9e9-33b9ec64fdbb",
   "metadata": {},
   "outputs": [],
   "source": [
    "#valuationmetrics\n",
    "sp_500_fundamental['PE_new']=sp_500_fundamental['adjclose']/(sp_500_fundamental['Net_income']/sp_500_fundamental['Shares'])\n",
    "sp_500_fundamental['PS_new']=sp_500_fundamental['adjclose']/(sp_500_fundamental['Revenue']/sp_500_fundamental['Shares'])\n",
    "sp_500_fundamental['PB_new']=sp_500_fundamental['adjclose']/(sp_500_fundamental['Assets']/sp_500_fundamental['Shares'])\n",
    "sp_500_fundamental['Dividend_yields_new']=(sp_500_fundamental['Dividends']/sp_500_fundamental['Shares'])/sp_500_fundamental['adjclose']\n",
    "sp_500_fundamental['Market_cap_mm']=sp_500_fundamental['Shares']*sp_500_fundamental['adjclose']/1000000"
   ]
  },
  {
   "cell_type": "code",
   "execution_count": 89,
   "id": "851cd7f9-bf35-4f40-95c5-d6db61b3490e",
   "metadata": {},
   "outputs": [
    {
     "data": {
      "text/plain": [
       "(7889, 39)"
      ]
     },
     "execution_count": 89,
     "metadata": {},
     "output_type": "execute_result"
    }
   ],
   "source": [
    "sp_500_fundamental.shape"
   ]
  },
  {
   "cell_type": "code",
   "execution_count": 90,
   "id": "8720152f-e3bc-4f11-9523-11acef728966",
   "metadata": {},
   "outputs": [],
   "source": [
    "sp_500_fundamental.to_csv(\"data/fundamental.csv\",index=False)"
   ]
  },
  {
   "cell_type": "code",
   "execution_count": null,
   "id": "4e0b5d68-ab5d-4320-acf7-89e050f5349a",
   "metadata": {},
   "outputs": [],
   "source": []
  }
 ],
 "metadata": {
  "kernelspec": {
   "display_name": "mlenv",
   "language": "python",
   "name": "mlenv"
  },
  "language_info": {
   "codemirror_mode": {
    "name": "ipython",
    "version": 3
   },
   "file_extension": ".py",
   "mimetype": "text/x-python",
   "name": "python",
   "nbconvert_exporter": "python",
   "pygments_lexer": "ipython3",
   "version": "3.7.7"
  }
 },
 "nbformat": 4,
 "nbformat_minor": 5
}
