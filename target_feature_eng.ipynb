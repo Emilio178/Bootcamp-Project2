{
 "cells": [
  {
   "cell_type": "code",
   "execution_count": 2,
   "id": "bc4ce05e-748e-43e6-8945-232188a61e46",
   "metadata": {},
   "outputs": [],
   "source": [
    "%matplotlib inline\n",
    "import pandas as pd\n",
    "import numpy as np\n",
    "import os\n",
    "# Import the main functionality from the SimFin Python API.\n",
    "import simfin as sf\n",
    "\n",
    "# Import names used for easy access to SimFin's data-columns.\n",
    "from simfin.names import *\n",
    "\n",
    "import yfinance as yf\n",
    "import yahoo_fin.stock_info as si\n",
    "# import pandas_datareader.data as web\n",
    "\n",
    "from dateutil.relativedelta import relativedelta\n",
    "from datetime import datetime"
   ]
  },
  {
   "cell_type": "markdown",
   "id": "44982f48-443c-4307-976b-4fcb9cbf8eba",
   "metadata": {},
   "source": [
    "### Part.1 Create Target T0_5 and T1_5"
   ]
  },
  {
   "cell_type": "code",
   "execution_count": null,
   "id": "97d4234c-2459-49ab-9374-2e7b51de9577",
   "metadata": {},
   "outputs": [],
   "source": [
    "#load daily price data and earning dates data\n",
    "df_dailyprice=pd.read_csv('data/sp500_dailyprice.csv')\n",
    "df_earningdate=pd.read_csv('data/sp500_earningdate.csv')\n",
    "# df_dailyprice[df_dailyprice['ticker']=='TSLA']"
   ]
  },
  {
   "cell_type": "code",
   "execution_count": null,
   "id": "b06ee20c-1338-47a0-a83d-c75e3f75e9a3",
   "metadata": {},
   "outputs": [],
   "source": [
    "df_dailyprice.rename(columns={'adjclose':'T0'},inplace=True)\n",
    "df_target=df_dailyprice[['date','ticker','T0']]\n",
    "df_target['T0_pre1']=df_target.groupby('ticker')['T0'].shift(1)\n",
    "df_target['T1']=df_target.groupby('ticker')['T0'].shift(-1)\n",
    "df_target['T5']=df_target.groupby('ticker')['T0'].shift(-5)\n",
    "df_target['T0_5']=(df_target['T5']-df_target['T0'])/df_target['T0']\n",
    "df_target['T1_5']=(df_target['T5']-df_target['T1'])/df_target['T1']\n",
    "df_target['T0_fromlastday']=(df_target['T0']-df_target['T0_pre1'])/df_target['T0_pre1']\n",
    "df_target=df_target.drop(columns=['T1','T5'])\n",
    "df_target.dropna(inplace=True)\n",
    "# df_target.iloc[1500:1520]"
   ]
  },
  {
   "cell_type": "code",
   "execution_count": null,
   "id": "7bab23ef-53c4-4c88-872d-d5f78ae27515",
   "metadata": {},
   "outputs": [],
   "source": [
    "df_target=pd.merge(df_earningdate[['Ticker','Earning Date']]\n",
    "                   , df_target\n",
    "                   , how='left'\n",
    "                   , left_on=['Ticker','Earning Date']\n",
    "                   , right_on=['ticker','date'])\n",
    "df_target.drop(columns=['ticker','date'],inplace=True)"
   ]
  },
  {
   "cell_type": "code",
   "execution_count": null,
   "id": "ab50b6a9-348e-4ebc-a1a6-2b3897c3c041",
   "metadata": {},
   "outputs": [],
   "source": [
    "df_target.to_csv(\"data/target.csv\",index=False)"
   ]
  },
  {
   "cell_type": "markdown",
   "id": "f941cff0-0ae7-4f49-8ca6-281d3b226302",
   "metadata": {},
   "source": [
    "### Part.2 Create Technical indicators"
   ]
  },
  {
   "cell_type": "code",
   "execution_count": 13,
   "id": "031abc4a-9ab6-449b-95a0-d500125bef71",
   "metadata": {},
   "outputs": [],
   "source": [
    "#load daily price data and earning dates data\n",
    "df_dailyprice=pd.read_csv('data/sp500_dailyprice.csv')\n",
    "df_earningdate=pd.read_csv('data/sp500_earningdate.csv')"
   ]
  },
  {
   "cell_type": "code",
   "execution_count": 4,
   "id": "1b041216-b7f6-4a27-a80a-d0eb00a5ec59",
   "metadata": {},
   "outputs": [],
   "source": [
    "# Simple Moving Average \n",
    "def SMA(data, ndays): \n",
    "    SMA = pd.Series(data['adjclose'].rolling(ndays).mean(), name = 'SMA_' + str(ndays)) \n",
    "    data = data.join(SMA) \n",
    "    return data\n",
    "\n",
    "# Exponentially-weighted Moving Average \n",
    "def EWMA(data, ndays): \n",
    "    EMA = pd.Series(data['close'].ewm(span = ndays, min_periods = ndays - 1).mean(), \n",
    "                 name = 'EWMA_' + str(ndays)) \n",
    "    data = data.join(EMA) \n",
    "    return data"
   ]
  },
  {
   "cell_type": "code",
   "execution_count": 5,
   "id": "f1d99ba3-a80d-49bc-a26b-299cbfb4506a",
   "metadata": {},
   "outputs": [],
   "source": [
    "# Compute the Bollinger Bands \n",
    "def BBANDS(data, window):\n",
    "    MA = data.adjclose.rolling(window).mean()\n",
    "    SD = data.adjclose.rolling(window).std()\n",
    "    data['MiddleBand'] = MA\n",
    "    data['UpperBand'] = MA + (2 * SD) \n",
    "    data['LowerBand'] = MA - (2 * SD)\n",
    "    return data"
   ]
  },
  {
   "cell_type": "code",
   "execution_count": 6,
   "id": "d756662e-ec54-4450-a294-10e0ac57b3d2",
   "metadata": {},
   "outputs": [],
   "source": [
    "# Returns RSI values\n",
    "def rsi(data, periods = 14):\n",
    "    \n",
    "    close_delta = data['adjclose'].diff()\n",
    "\n",
    "    # Make two series: one for lower closes and one for higher closes\n",
    "    up = close_delta.clip(lower=0)\n",
    "    down = -1 * close_delta.clip(upper=0)\n",
    "    \n",
    "    ma_up = up.ewm(com = periods - 1, adjust=True, min_periods = periods).mean()\n",
    "    ma_down = down.ewm(com = periods - 1, adjust=True, min_periods = periods).mean()\n",
    "\n",
    "    rsi = ma_up / ma_down\n",
    "    rsi = 100 - (100/(1 + rsi))\n",
    "    data['RSI']=rsi\n",
    "    return data"
   ]
  },
  {
   "cell_type": "code",
   "execution_count": 7,
   "id": "24066389-da01-47d0-a467-a1202e2b8b13",
   "metadata": {},
   "outputs": [],
   "source": [
    "# Calculate money flow index\n",
    "def gain(x):\n",
    "    return ((x > 0) * x).sum()\n",
    "def loss(x):\n",
    "    return ((x < 0) * x).sum()\n",
    "def mfi(high, low, close, volume, n=14):\n",
    "    typical_price = (high + low + close)/3\n",
    "    money_flow = typical_price * volume\n",
    "    mf_sign = np.where(typical_price > typical_price.shift(1), 1, -1)\n",
    "    signed_mf = money_flow * mf_sign\n",
    "    mf_avg_gain = signed_mf.rolling(n).apply(gain, raw=True)\n",
    "    mf_avg_loss = signed_mf.rolling(n).apply(loss, raw=True)\n",
    "    return (100 - (100 / (1 + (mf_avg_gain / abs(mf_avg_loss))))).to_numpy()"
   ]
  },
  {
   "cell_type": "code",
   "execution_count": 8,
   "id": "e1274f87-c7e4-4730-943d-84c387230ec1",
   "metadata": {},
   "outputs": [],
   "source": [
    "def createratio(data, column1, column2): \n",
    "    ratio = pd.Series(data[column1]/data[column2], name = column1+'_'+column2) \n",
    "    data = data.join(ratio) \n",
    "    return data"
   ]
  },
  {
   "cell_type": "code",
   "execution_count": 14,
   "id": "92e95184-dd13-4a6a-ace0-344721e165ef",
   "metadata": {},
   "outputs": [],
   "source": [
    "df_dailyprice=SMA(df_dailyprice,12)\n",
    "df_dailyprice=SMA(df_dailyprice,30)\n",
    "df_dailyprice=EWMA(df_dailyprice,12)\n",
    "df_dailyprice=EWMA(df_dailyprice,30)\n",
    "df_dailyprice=BBANDS(df_dailyprice,30)\n",
    "df_dailyprice=rsi(df_dailyprice)\n",
    "df_dailyprice['MFI']=mfi(df_dailyprice['high'],df_dailyprice['low'],df_dailyprice['adjclose'],df_dailyprice['volume'])"
   ]
  },
  {
   "cell_type": "code",
   "execution_count": 15,
   "id": "3f4baf16-3226-4323-ad81-62a1de5d92bb",
   "metadata": {},
   "outputs": [],
   "source": [
    "for column in ['SMA_12','SMA_30','EWMA_12','EWMA_30','UpperBand','LowerBand']:\n",
    "    df_dailyprice=createratio(df_dailyprice,'adjclose',column)\n",
    "\n",
    "df_dailyprice=createratio(df_dailyprice,'SMA_12','SMA_30')\n",
    "df_dailyprice=createratio(df_dailyprice,'EWMA_12','EWMA_30')\n",
    "df_dailyprice=createratio(df_dailyprice,'UpperBand','LowerBand')"
   ]
  },
  {
   "cell_type": "code",
   "execution_count": null,
   "id": "97fd5c6a-9316-4bbc-b952-f45bc1e4f5f1",
   "metadata": {},
   "outputs": [],
   "source": []
  },
  {
   "cell_type": "code",
   "execution_count": 16,
   "id": "386fae34-c1a8-4725-8a1c-2928b92dc29d",
   "metadata": {},
   "outputs": [],
   "source": [
    "df_dailyprice.drop(columns=['open','MiddleBand','high', 'low', 'close', 'volume','adjclose','SMA_12','SMA_30','EWMA_12','EWMA_30','UpperBand','LowerBand'],inplace=True)"
   ]
  },
  {
   "cell_type": "code",
   "execution_count": 18,
   "id": "4cc32813-b8c9-4b34-b150-84db950e05ed",
   "metadata": {},
   "outputs": [],
   "source": [
    "df_techind=pd.merge(df_earningdate[['Ticker','Earning Date']]\n",
    "                   , df_dailyprice\n",
    "                   , how='left'\n",
    "                   , left_on=['Ticker','Earning Date']\n",
    "                   , right_on=['ticker','date'])\n",
    "df_techind.drop(columns=['ticker','date'],inplace=True)\n",
    "df_techind.dropna(inplace=True)"
   ]
  },
  {
   "cell_type": "code",
   "execution_count": null,
   "id": "66f445fe-0203-4edd-8227-c77d3c1e6f75",
   "metadata": {},
   "outputs": [],
   "source": [
    "df_techind.to_csv(\"data/techind.csv\",index=False)"
   ]
  }
 ],
 "metadata": {
  "kernelspec": {
   "display_name": "mlenv",
   "language": "python",
   "name": "mlenv"
  },
  "language_info": {
   "codemirror_mode": {
    "name": "ipython",
    "version": 3
   },
   "file_extension": ".py",
   "mimetype": "text/x-python",
   "name": "python",
   "nbconvert_exporter": "python",
   "pygments_lexer": "ipython3",
   "version": "3.7.7"
  }
 },
 "nbformat": 4,
 "nbformat_minor": 5
}
