{
 "cells": [
  {
   "cell_type": "code",
   "execution_count": 25,
   "id": "fa95bb04-128e-46e6-88e8-8592b5e6acb4",
   "metadata": {},
   "outputs": [],
   "source": [
    "%matplotlib inline\n",
    "import pandas as pd\n",
    "import numpy as np\n",
    "import os\n",
    "# Import the main functionality from the SimFin Python API.\n",
    "import simfin as sf\n",
    "\n",
    "# Import names used for easy access to SimFin's data-columns.\n",
    "from simfin.names import *\n",
    "\n",
    "import yfinance as yf\n",
    "import yahoo_fin.stock_info as si\n",
    "# import pandas_datareader.data as web\n",
    "\n",
    "from dateutil.relativedelta import relativedelta\n",
    "from datetime import datetime"
   ]
  },
  {
   "cell_type": "code",
   "execution_count": 80,
   "id": "677d9931-5937-44e2-b167-5c1ee513a805",
   "metadata": {},
   "outputs": [],
   "source": [
    "fdmt=pd.read_csv('data/fundamental.csv')\n",
    "seg=pd.read_csv('data/industry_sector.csv') \n",
    "tech=pd.read_csv('data/techind.csv') \n",
    "tech2=pd.read_csv('data/techind_model2.csv')\n",
    "mkts=pd.read_csv('data/fin_mkts.csv') \n",
    "senti=pd.read_csv('data/mean_news_sentiment.csv') \n",
    "target=pd.read_csv('data/target.csv') "
   ]
  },
  {
   "cell_type": "markdown",
   "id": "b60ceb2f-3434-40b1-bc8c-eb5d30154ded",
   "metadata": {
    "tags": []
   },
   "source": [
    "## Create dataset for Model 1 - \"Before-Earning-Call Betting\"\n",
    "### Predicting likelihood of positive return without knowing the newest information"
   ]
  },
  {
   "cell_type": "code",
   "execution_count": 81,
   "id": "4c22572b-5503-43b1-95b9-9782c0a142ce",
   "metadata": {},
   "outputs": [],
   "source": [
    "df_model1=pd.merge(fdmt, seg\n",
    "                   , how='left'\n",
    "                   , left_on=['Ticker']\n",
    "                   , right_on=['Ticker'])\n",
    "\n",
    "df_model1['Next_EarningDate']=df_model1.groupby('Ticker')['Earning Date'].shift(-1)\n",
    "\n",
    "df_model1.drop(columns=[\n",
    "    'PE_new',\n",
    "    'PS_new',\n",
    "    'PB_new',\n",
    "    'Dividend_yields_new',\n",
    "    'Market_cap_mm'\n",
    "],inplace=True)\n",
    "\n",
    "df_model1=pd.merge(df_model1, tech\n",
    "                   , how='left'\n",
    "                   , left_on=['Ticker','Next_EarningDate']\n",
    "                   , right_on=['Ticker','Earning Date'])\n",
    "\n",
    "df_model1=pd.merge(df_model1, mkts\n",
    "                   , how='left'\n",
    "                   , left_on=['Ticker','Next_EarningDate']\n",
    "                   , right_on=['Ticker','Earning Date'])\n",
    "\n",
    "df_model1=pd.merge(df_model1, senti\n",
    "                   , how='left'\n",
    "                   , left_on=['Ticker','Next_EarningDate']\n",
    "                   , right_on=['ticker','release_date'])\n",
    "\n",
    "df_model1.drop(columns=['ticker','release_date'],inplace=True)"
   ]
  },
  {
   "cell_type": "code",
   "execution_count": 82,
   "id": "1c66328b-2864-4336-a6f1-f2506969f17c",
   "metadata": {},
   "outputs": [
    {
     "name": "stderr",
     "output_type": "stream",
     "text": [
      "/Users/feiyiyang/opt/anaconda3/envs/mlenv/lib/python3.7/site-packages/ipykernel_launcher.py:4: FutureWarning: Passing 'suffixes' which cause duplicate columns {'Earning Date_x'} in the result is deprecated and will raise a MergeError in a future version.\n",
      "  after removing the cwd from sys.path.\n"
     ]
    }
   ],
   "source": [
    "df_model1=pd.merge(df_model1, target\n",
    "                   , how='left'\n",
    "                   , left_on=['Ticker','Next_EarningDate']\n",
    "                   , right_on=['Ticker','Earning Date'])"
   ]
  },
  {
   "cell_type": "code",
   "execution_count": 83,
   "id": "17d9bc52-d3bb-4763-963c-67ecb0aad8ff",
   "metadata": {},
   "outputs": [],
   "source": [
    "df_model1.drop(columns=['T1','T1_5','open','overnight_jump','Earning Date_x','Earning Date_y'],inplace=True)"
   ]
  },
  {
   "cell_type": "code",
   "execution_count": 84,
   "id": "d8684e13-08af-4814-8a5f-9e3cbaa2ebdf",
   "metadata": {},
   "outputs": [
    {
     "data": {
      "text/plain": [
       "(8211, 79)"
      ]
     },
     "execution_count": 84,
     "metadata": {},
     "output_type": "execute_result"
    }
   ],
   "source": [
    "df_model1.shape"
   ]
  },
  {
   "cell_type": "code",
   "execution_count": 85,
   "id": "fbfa4c01-079e-48ec-9f7d-c556b2c3d1ea",
   "metadata": {},
   "outputs": [],
   "source": [
    "#valuationmetrics\n",
    "df_model1['PE_new']=df_model1['T0']/(df_model1['Net_income']/df_model1['Shares'])\n",
    "df_model1['PS_new']=df_model1['T0']/(df_model1['Revenue']/df_model1['Shares'])\n",
    "df_model1['PB_new']=df_model1['T0']/(df_model1['Assets']/df_model1['Shares'])\n",
    "df_model1['Dividend_yields_new']=(df_model1['Dividends']/df_model1['Shares'])/df_model1['T0']\n",
    "df_model1['Market_cap_mm']=df_model1['Shares']*df_model1['T0']/1000000"
   ]
  },
  {
   "cell_type": "code",
   "execution_count": 86,
   "id": "ffa0dedc-5ae5-45b4-8b01-15c8f5dedb70",
   "metadata": {},
   "outputs": [
    {
     "data": {
      "text/plain": [
       "Index(['Ticker', 'beta_30avg', 'adjclose', 'Fiscal Year', 'Fiscal Period',\n",
       "       'Revenue', 'Net_income', 'Shares', 'Cash', 'Assets', 'CFO', 'CAPX',\n",
       "       'Dividends', 'FCF', 'EPSsuprise_ind', 'Revenue_qoq', 'Revenue_yoy',\n",
       "       'Net_Income_qoq', 'Net_Income_yoy', 'Gross_margin', 'Gross_margin_qoq',\n",
       "       'Gross_margin_yoy', 'Operating_margin', 'Operating_margin_qoq',\n",
       "       'Operating_margin_yoy', 'Net_margin', 'Net_margin_qoq',\n",
       "       'Net_margin_yoy', 'Cash_yoy', 'Assets_yoy', 'Leverage', 'CFO_qoq',\n",
       "       'FCF_qoq', 'Sector', 'Industry', 'Next_EarningDate', 'RSI', 'MFI',\n",
       "       'adjclose_SMA_12', 'adjclose_SMA_30', 'adjclose_EWMA_12',\n",
       "       'adjclose_EWMA_30', 'adjclose_UpperBand', 'adjclose_LowerBand',\n",
       "       'SMA_12_SMA_30', 'EWMA_12_EWMA_30', 'UpperBand_LowerBand', '^GSPC',\n",
       "       '^GSPC_pctchange_5', '^GSPC_pctchange_21', '^GSPC_pctchange_yoy',\n",
       "       '^RUT', '^RUT_pctchange_5', '^RUT_pctchange_21', '^RUT_pctchange_yoy',\n",
       "       '^VIX', '^VIX_pctchange_5', '^VIX_pctchange_21', '^VIX_pctchange_yoy',\n",
       "       'GC=F', 'GC=F_pctchange_5', 'GC=F_pctchange_21', 'GC=F_pctchange_yoy',\n",
       "       'CL=F', 'CL=F_pctchange_5', 'CL=F_pctchange_21', 'CL=F_pctchange_yoy',\n",
       "       '^TNX', '^TNX_pctchange_5', '^TNX_pctchange_21', '^TNX_pctchange_yoy',\n",
       "       '^FVX', '^FVX_pctchange_5', '^FVX_pctchange_21', '^FVX_pctchange_yoy',\n",
       "       'compound_sentiment', 'T0', 'sameday_jump', 'T0_5', 'PE_new', 'PS_new',\n",
       "       'PB_new', 'Dividend_yields_new', 'Market_cap_mm'],\n",
       "      dtype='object')"
      ]
     },
     "execution_count": 86,
     "metadata": {},
     "output_type": "execute_result"
    }
   ],
   "source": [
    "df_model1.columns"
   ]
  },
  {
   "cell_type": "code",
   "execution_count": 87,
   "id": "59d261d7-d9bc-4cb4-8ef9-0b19d5ba84a4",
   "metadata": {},
   "outputs": [],
   "source": [
    "df_model1.to_csv(\"data/model_1.csv\",index=False)"
   ]
  },
  {
   "cell_type": "markdown",
   "id": "8e18973c-2b90-48dc-957f-23791fabac0b",
   "metadata": {
    "tags": []
   },
   "source": [
    "## Create dataset for Model 2 - \"After-Earning-Call Betting\"\n",
    "### Predicting likelihood of positive return after earning release and price action taking place (acting on T1)"
   ]
  },
  {
   "cell_type": "code",
   "execution_count": 70,
   "id": "ea651dd5-877d-4474-8822-996f4f6ecd99",
   "metadata": {},
   "outputs": [],
   "source": [
    "df_model2=pd.merge(fdmt, seg\n",
    "                   , how='left'\n",
    "                   , left_on=['Ticker']\n",
    "                   , right_on=['Ticker'])"
   ]
  },
  {
   "cell_type": "code",
   "execution_count": 71,
   "id": "3112a355-c7fb-4289-b826-90082e4424f8",
   "metadata": {},
   "outputs": [],
   "source": [
    "df_model2=pd.merge(df_model2, tech2\n",
    "                   , how='left'\n",
    "                   , left_on=['Ticker','Earning Date']\n",
    "                   , right_on=['Ticker','Earning Date'])"
   ]
  },
  {
   "cell_type": "code",
   "execution_count": 72,
   "id": "71cf1608-47c4-4479-aad3-ee321cfcd146",
   "metadata": {},
   "outputs": [],
   "source": [
    "df_model2=pd.merge(df_model2, mkts\n",
    "                   , how='left'\n",
    "                   , left_on=['Ticker','Earning Date']\n",
    "                   , right_on=['Ticker','Earning Date'])"
   ]
  },
  {
   "cell_type": "code",
   "execution_count": 73,
   "id": "f5a4df7e-5e1e-4485-8a66-f4899890682c",
   "metadata": {},
   "outputs": [],
   "source": [
    "df_model2=pd.merge(df_model2, senti\n",
    "                   , how='left'\n",
    "                   , left_on=['Ticker','Earning Date']\n",
    "                   , right_on=['ticker','release_date'])\n",
    "\n",
    "df_model2.drop(columns=['ticker','release_date'],inplace=True)"
   ]
  },
  {
   "cell_type": "code",
   "execution_count": 74,
   "id": "440be9a4-3c67-4831-89e9-6994acd0076c",
   "metadata": {},
   "outputs": [],
   "source": [
    "df_model2=pd.merge(df_model2, target\n",
    "                   , how='left'\n",
    "                   , left_on=['Ticker','Earning Date']\n",
    "                   , right_on=['Ticker','Earning Date'])"
   ]
  },
  {
   "cell_type": "code",
   "execution_count": 75,
   "id": "d1265884-6701-4f9a-bfa0-798abb9a3a72",
   "metadata": {},
   "outputs": [],
   "source": [
    "df_model2.drop(columns=['T0','open','T0_5'],inplace=True)"
   ]
  },
  {
   "cell_type": "code",
   "execution_count": 76,
   "id": "d5fa2243-134a-4205-9b17-72b6d40d2db6",
   "metadata": {},
   "outputs": [
    {
     "data": {
      "text/plain": [
       "(8225, 88)"
      ]
     },
     "execution_count": 76,
     "metadata": {},
     "output_type": "execute_result"
    }
   ],
   "source": [
    "df_model2.shape"
   ]
  },
  {
   "cell_type": "code",
   "execution_count": 77,
   "id": "533a9f60-46be-41b6-83dc-df82f947d6b4",
   "metadata": {},
   "outputs": [
    {
     "data": {
      "text/plain": [
       "Index(['Ticker', 'Earning Date', 'beta_30avg', 'adjclose', 'Fiscal Year',\n",
       "       'Fiscal Period', 'Revenue', 'Net_income', 'Shares', 'Cash', 'Assets',\n",
       "       'CFO', 'CAPX', 'Dividends', 'FCF', 'EPSsuprise_ind', 'Revenue_qoq',\n",
       "       'Revenue_yoy', 'Net_Income_qoq', 'Net_Income_yoy', 'Gross_margin',\n",
       "       'Gross_margin_qoq', 'Gross_margin_yoy', 'Operating_margin',\n",
       "       'Operating_margin_qoq', 'Operating_margin_yoy', 'Net_margin',\n",
       "       'Net_margin_qoq', 'Net_margin_yoy', 'Cash_yoy', 'Assets_yoy',\n",
       "       'Leverage', 'CFO_qoq', 'FCF_qoq', 'PE_new', 'PS_new', 'PB_new',\n",
       "       'Dividend_yields_new', 'Market_cap_mm', 'Sector', 'Industry', 'date',\n",
       "       'RSI', 'MFI', 'adjclose_SMA_12', 'adjclose_SMA_30', 'adjclose_EWMA_12',\n",
       "       'adjclose_EWMA_30', 'adjclose_UpperBand', 'adjclose_LowerBand',\n",
       "       'SMA_12_SMA_30', 'EWMA_12_EWMA_30', 'UpperBand_LowerBand', 'nextday',\n",
       "       'lastday', '^GSPC', '^GSPC_pctchange_5', '^GSPC_pctchange_21',\n",
       "       '^GSPC_pctchange_yoy', '^RUT', '^RUT_pctchange_5', '^RUT_pctchange_21',\n",
       "       '^RUT_pctchange_yoy', '^VIX', '^VIX_pctchange_5', '^VIX_pctchange_21',\n",
       "       '^VIX_pctchange_yoy', 'GC=F', 'GC=F_pctchange_5', 'GC=F_pctchange_21',\n",
       "       'GC=F_pctchange_yoy', 'CL=F', 'CL=F_pctchange_5', 'CL=F_pctchange_21',\n",
       "       'CL=F_pctchange_yoy', '^TNX', '^TNX_pctchange_5', '^TNX_pctchange_21',\n",
       "       '^TNX_pctchange_yoy', '^FVX', '^FVX_pctchange_5', '^FVX_pctchange_21',\n",
       "       '^FVX_pctchange_yoy', 'compound_sentiment', 'sameday_jump',\n",
       "       'overnight_jump', 'T1', 'T1_5'],\n",
       "      dtype='object')"
      ]
     },
     "execution_count": 77,
     "metadata": {},
     "output_type": "execute_result"
    }
   ],
   "source": [
    "df_model2.columns"
   ]
  },
  {
   "cell_type": "code",
   "execution_count": 78,
   "id": "779ffa3d-6565-471f-84ec-10beac2f482e",
   "metadata": {},
   "outputs": [],
   "source": [
    "df_model2.to_csv(\"data/model_2.csv\",index=False)"
   ]
  },
  {
   "cell_type": "code",
   "execution_count": null,
   "id": "32f39d41-a9b1-485b-8822-e4ad0f56d448",
   "metadata": {},
   "outputs": [],
   "source": []
  }
 ],
 "metadata": {
  "kernelspec": {
   "display_name": "mlenv",
   "language": "python",
   "name": "mlenv"
  },
  "language_info": {
   "codemirror_mode": {
    "name": "ipython",
    "version": 3
   },
   "file_extension": ".py",
   "mimetype": "text/x-python",
   "name": "python",
   "nbconvert_exporter": "python",
   "pygments_lexer": "ipython3",
   "version": "3.7.7"
  }
 },
 "nbformat": 4,
 "nbformat_minor": 5
}
