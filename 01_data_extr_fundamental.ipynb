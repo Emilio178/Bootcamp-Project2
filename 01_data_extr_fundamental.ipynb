{
 "cells": [
  {
   "cell_type": "code",
   "execution_count": null,
   "id": "fb545ac0-32cf-4370-b702-3ec4ae9add5f",
   "metadata": {},
   "outputs": [],
   "source": [
    "%matplotlib inline\n",
    "import pandas as pd\n",
    "import os\n",
    "# Import the main functionality from the SimFin Python API.\n",
    "import simfin as sf\n",
    "\n",
    "# Import names used for easy access to SimFin's data-columns.\n",
    "from simfin.names import *\n",
    "\n",
    "import yfinance as yf\n",
    "import yahoo_fin.stock_info as si\n",
    "# import pandas_datareader.data as web\n",
    "\n",
    "from dateutil.relativedelta import relativedelta\n",
    "from datetime import datetime"
   ]
  },
  {
   "cell_type": "code",
   "execution_count": null,
   "id": "8f6cc344-f639-4151-9652-efe8b74d208b",
   "metadata": {},
   "outputs": [],
   "source": [
    "# sample base and starting date for training\n",
    "tickers_sp500 = list(si.tickers_sp500())\n",
    "start_date = '2016-01-01'\n",
    "end_date = '2021-12-31'"
   ]
  },
  {
   "cell_type": "code",
   "execution_count": null,
   "id": "8e513fc3-973a-43e7-b378-e03b535c1a09",
   "metadata": {},
   "outputs": [],
   "source": [
    "tickers_sp500"
   ]
  },
  {
   "cell_type": "code",
   "execution_count": null,
   "id": "aebdfd76-e709-4efe-b4be-29eb4cebbd2b",
   "metadata": {},
   "outputs": [],
   "source": [
    "cwd = os.getcwd()\n",
    "cwd"
   ]
  },
  {
   "cell_type": "code",
   "execution_count": null,
   "id": "61143174-f28e-4f3b-9914-dfdc7ae190f4",
   "metadata": {},
   "outputs": [],
   "source": [
    "sf.set_data_dir('/Users/feiyiyang/Documents/Bootcamp/Team9-Project2/Bootcamp-Project2/simfin_data/')"
   ]
  },
  {
   "cell_type": "code",
   "execution_count": null,
   "id": "d5a13545-b58f-4b35-98d2-252ab37d2984",
   "metadata": {},
   "outputs": [],
   "source": [
    "sf.load_api_key(path='/Users/feiyiyang/Documents/Bootcamp/Team9-Project2/Bootcamp-Project2/simfin_data/simfin_api_key.txt')"
   ]
  },
  {
   "cell_type": "markdown",
   "id": "7e8a724c-f125-4ccf-9e22-02fb3130f9f7",
   "metadata": {},
   "source": [
    "### Part 1: Grab quarterly fundamentals from Simfin API"
   ]
  },
  {
   "cell_type": "code",
   "execution_count": null,
   "id": "c7196960-238a-4024-8521-49c87ef82844",
   "metadata": {},
   "outputs": [],
   "source": [
    "df_income = sf.load(dataset='income', variant='quarterly', market='us')\n",
    "df_balance = sf.load(dataset='balance', variant='quarterly', market='us')\n",
    "df_cashflow = sf.load(dataset='cashflow', variant='quarterly', market='us')"
   ]
  },
  {
   "cell_type": "code",
   "execution_count": null,
   "id": "8d1eb56b-309a-4f34-8aab-9a9563579353",
   "metadata": {},
   "outputs": [],
   "source": [
    "df_cashflow.columns"
   ]
  },
  {
   "cell_type": "code",
   "execution_count": null,
   "id": "b2040817-943d-4df3-893e-62e42edfd42a",
   "metadata": {},
   "outputs": [],
   "source": [
    "df_fundamentals = pd.merge(df_income[['Ticker','Fiscal Year','Fiscal Period','Report Date', 'Publish Date','Revenue','Gross Profit','Operating Income (Loss)','Net Income']], \n",
    "                           df_balance[['Ticker','Fiscal Year','Fiscal Period','Shares (Basic)','Cash, Cash Equivalents & Short Term Investments','Total Assets','Total Liabilities','Total Equity']],  \n",
    "                           how='left', \n",
    "                           on=['Ticker','Fiscal Year','Fiscal Period'])"
   ]
  },
  {
   "cell_type": "code",
   "execution_count": null,
   "id": "08a98872-38db-49ad-9f61-cebf910dbf56",
   "metadata": {},
   "outputs": [],
   "source": [
    "df_fundamentals= pd.merge(df_fundamentals,\n",
    "                          df_cashflow[['Ticker','Fiscal Year','Fiscal Period','Net Cash from Operating Activities','Net Change in Long Term Investment','Net Cash from Investing Activities', 'Dividends Paid', 'Net Cash from Financing Activities', 'Net Change in Cash']],\n",
    "                           how='left', \n",
    "                           on=['Ticker','Fiscal Year','Fiscal Period'])"
   ]
  },
  {
   "cell_type": "code",
   "execution_count": null,
   "id": "6433db5e-cb44-43a6-950f-017588b0a3cb",
   "metadata": {},
   "outputs": [],
   "source": [
    "df_fundamentals.tail()"
   ]
  },
  {
   "cell_type": "code",
   "execution_count": null,
   "id": "1ca9075f-29d1-4e23-afa1-f55817925451",
   "metadata": {},
   "outputs": [],
   "source": [
    "# add a column for next earning date - to set the start/end date for append daily price\n",
    "df_fundamentals['Next_publish_date']=df_fundamentals.groupby(\"Ticker\")['Publish Date'].shift(-1)\n",
    "u = (pd.to_datetime(df_fundamentals['Publish Date']) + pd.DateOffset(months=3)).dt.date\n",
    "df_fundamentals.Next_publish_date.fillna(u,inplace=True)"
   ]
  },
  {
   "cell_type": "code",
   "execution_count": null,
   "id": "0546657f-dfa9-4ce3-9a1e-827250b1212a",
   "metadata": {},
   "outputs": [],
   "source": [
    "df_fundamentals.to_csv('data/us_fundamental.csv',index=False)"
   ]
  },
  {
   "cell_type": "markdown",
   "id": "4c16c23e-c96f-4a72-990e-b90ce9c76d86",
   "metadata": {
    "tags": []
   },
   "source": [
    "### Part 2: Grab EARNING DATA from yahoo finance API (yahoo_fin.stock_info)"
   ]
  },
  {
   "cell_type": "code",
   "execution_count": null,
   "id": "0c47bbf3-4141-4570-b9ce-bd1dd266c623",
   "metadata": {},
   "outputs": [],
   "source": [
    "# load fundamental data\n",
    "df_fundamentals=pd.read_csv('data/us_fundamental.csv')"
   ]
  },
  {
   "cell_type": "code",
   "execution_count": null,
   "id": "140d5613-cf50-4cb4-86dd-cd44550be739",
   "metadata": {},
   "outputs": [],
   "source": [
    "# dftest=pd.DataFrame.from_dict(si.get_earnings_history(\"A\"))[['ticker','startdatetime','epsestimate','epsactual','epssurprisepct']]\n",
    "# dftest.startdatetime=pd.to_datetime(dftest.startdatetime).dt.date\n",
    "# dftest=dftest[dftest['startdatetime']>pd.to_datetime(start_date).date()]\n",
    "# dftest['earning_y']= pd.DatetimeIndex(dftest['startdatetime']).year\n",
    "# dftest['earning_m']= pd.DatetimeIndex(dftest['startdatetime']).month\n",
    "# dftest.sort_values(by=['startdatetime'],inplace=True)\n",
    "# dftest"
   ]
  },
  {
   "cell_type": "code",
   "execution_count": null,
   "id": "7cf08953-d3b0-467a-8010-59f5b9e8804d",
   "metadata": {},
   "outputs": [],
   "source": [
    "earningdata_1=[]\n",
    "notmatch=[]\n",
    "for ticker in tickers_sp500:\n",
    "    try:\n",
    "        # print(ticker)\n",
    "        dftest=pd.DataFrame.from_dict(si.get_earnings_history(ticker))[['ticker','startdatetime','epsestimate','epsactual','epssurprisepct']]\n",
    "        dftest.startdatetime=pd.to_datetime(dftest.startdatetime).dt.date\n",
    "        dftest=dftest[dftest['startdatetime']>pd.to_datetime(start_date).date()]\n",
    "        dftest['earning_y']= pd.DatetimeIndex(dftest['startdatetime']).year\n",
    "        dftest['earning_m']= pd.DatetimeIndex(dftest['startdatetime']).month\n",
    "        dftest.sort_values(by=['startdatetime'],inplace=True)\n",
    "\n",
    "        df1=df_fundamentals[df_fundamentals['Ticker']==ticker][['Ticker','Publish Date']]\n",
    "        df1['Publish_y']=pd.DatetimeIndex(df1['Publish Date']).year\n",
    "        df1['Publish_m']=pd.DatetimeIndex(df1['Publish Date']).month\n",
    "    except:\n",
    "        print(f\"No data available for {ticker}\")\n",
    "        notmatch.append(ticker)\n",
    "    else:\n",
    "        merge= pd.merge(df1,dftest,how='left',left_on=('Ticker','Publish_y'),right_on=('ticker','earning_y'))\n",
    "        merge= merge[(merge.earning_m == merge.Publish_m) | (merge.earning_m == merge.Publish_m-1)]\n",
    "        earningdata_1.append(merge)\n",
    "    \n",
    "\n",
    "df_sp500_earning = pd.concat(earningdata_1)"
   ]
  },
  {
   "cell_type": "code",
   "execution_count": null,
   "id": "dfed6318-5111-461b-afa7-32c46f1874ac",
   "metadata": {},
   "outputs": [],
   "source": [
    "df_sp500_earning=df_sp500_earning.reset_index()\n",
    "df_sp500_earning.drop(columns=['index','earning_y','earning_m','Publish_y','Publish_m','ticker'],inplace=True)\n",
    "df_sp500_earning.rename(columns={'startdatetime':'Earning Date'},inplace=True)\n",
    "df_sp500_earning"
   ]
  },
  {
   "cell_type": "code",
   "execution_count": null,
   "id": "b861e7fb-4012-4739-b104-ccb80b5ac909",
   "metadata": {},
   "outputs": [],
   "source": [
    "df_sp500_earning.to_csv('data/sp500_earningdate.csv',index=False)"
   ]
  },
  {
   "cell_type": "markdown",
   "id": "64d65370-44f2-4d0b-a6e2-994ca0d768e5",
   "metadata": {
    "tags": []
   },
   "source": [
    "### Part 3: Grab daily stock price from yahoo finance API (yahoo_fin.stock_info)"
   ]
  },
  {
   "cell_type": "code",
   "execution_count": null,
   "id": "b6dca4df-0346-4f08-a500-6a4ec085965c",
   "metadata": {},
   "outputs": [],
   "source": [
    "# load fundamental data\n",
    "df_fundamentals=pd.read_csv('data/us_fundamental.csv')\n",
    "df_sp500_earning=pd.read_csv('data/sp500_earningdate.csv')"
   ]
  },
  {
   "cell_type": "code",
   "execution_count": null,
   "id": "e08efae4-6f7d-4101-bc1c-70718440b9d6",
   "metadata": {},
   "outputs": [],
   "source": [
    "# append daily price data to fundamental where the dACC_NOTES_RECVate is within the current publish date and next publish date\n",
    "price=[]\n",
    "for ticker in tickers_sp500:\n",
    "    try:\n",
    "        # df1=df_fundamentals[df_fundamentals['Ticker']==ticker]\n",
    "        df2=si.get_data(ticker , start_date = start_date, end_date=end_date,index_as_date=False)\n",
    "    except:\n",
    "        print(f\"No data available for {ticker}\")\n",
    "    else:\n",
    "        # df_merge=pd.merge(df1,df2,how='left',left_on='Ticker',right_on='ticker')\n",
    "        # df_merge= df_merge[(df_merge.date > df_merge['Publish Date']) & (df_merge.date <= df_merge['Next_publish_date'])]\n",
    "        price.append(df2)\n",
    "sp500_price = pd.concat(price)\n",
    "sp500_price.to_csv('data/sp500_dailyprice.csv',index=False)"
   ]
  },
  {
   "cell_type": "code",
   "execution_count": null,
   "id": "24178486-134b-4b8c-bee4-e2f39002cff9",
   "metadata": {},
   "outputs": [],
   "source": [
    "sp500_price"
   ]
  },
  {
   "cell_type": "markdown",
   "id": "7a8e8755-d206-4571-8982-e749efe1fb21",
   "metadata": {},
   "source": [
    "### Part 4: Append additional data source"
   ]
  },
  {
   "cell_type": "markdown",
   "id": "39611cce-435c-4dd9-bb45-96c69047ed6f",
   "metadata": {},
   "source": [
    "#### 1.Industry/Sector"
   ]
  },
  {
   "cell_type": "code",
   "execution_count": null,
   "id": "8976c555-60cf-4ede-99e8-a5a4bb6473d1",
   "metadata": {},
   "outputs": [],
   "source": [
    "# load fundamental data\n",
    "df_sp500=pd.read_csv('data/sp500_fundamental_dailyprice.csv')"
   ]
  },
  {
   "cell_type": "code",
   "execution_count": null,
   "id": "4360789b-17a1-4c4b-b801-174e8fcd77cc",
   "metadata": {},
   "outputs": [],
   "source": [
    "df_industry_sector=pd.DataFrame(list(df_sp500.Ticker.unique()),columns=['Ticker'])"
   ]
  },
  {
   "cell_type": "code",
   "execution_count": null,
   "id": "42aa3bb1-e457-42fb-8401-513e55dba74a",
   "metadata": {},
   "outputs": [],
   "source": [
    "test=df_industry_sector.iloc[:5]"
   ]
  },
  {
   "cell_type": "code",
   "execution_count": null,
   "id": "7c504d43-bb58-4550-8f95-6faa28cddc20",
   "metadata": {},
   "outputs": [],
   "source": [
    "df2 = {'Ticker': 'KK'}\n",
    "test = test.append(df2, ignore_index = True)\n",
    "test"
   ]
  },
  {
   "cell_type": "code",
   "execution_count": null,
   "id": "3396a199-46d0-49ae-8df7-b71fc62f458c",
   "metadata": {},
   "outputs": [],
   "source": [
    "sector_df= pd.DataFrame(columns=['Ticker', 'Sector', 'Industry'])\n",
    "\n",
    "for ticker in df_industry_sector.Ticker.unique():\n",
    "    try:\n",
    "        sector_df=sector_df.append({\n",
    "            'Ticker':ticker,\n",
    "            'Sector':si.get_company_info(ticker).loc['sector'].Value,\n",
    "            'Industry':si.get_company_info(ticker).loc['industry'].Value\n",
    "        }, ignore_index=True)\n",
    "        # print(ticker)\n",
    "    except:\n",
    "        print(f\"No industry data available for {ticker}\")\n"
   ]
  },
  {
   "cell_type": "code",
   "execution_count": null,
   "id": "63020914-64e2-4930-9789-fc7232eb900a",
   "metadata": {},
   "outputs": [],
   "source": [
    "sector_df.tail()"
   ]
  },
  {
   "cell_type": "code",
   "execution_count": null,
   "id": "d1bf3d64-1166-4cf1-a6ef-456f8d5b8382",
   "metadata": {},
   "outputs": [],
   "source": [
    "sector_df.to_csv('data/industry_sector.csv',index=False)"
   ]
  },
  {
   "cell_type": "code",
   "execution_count": null,
   "id": "3fd8b317-9111-41c6-b8ab-47b567ed435a",
   "metadata": {},
   "outputs": [],
   "source": [
    "df_sp500=pd.merge(df_sp500,sector_df,how='left', on='Ticker')"
   ]
  },
  {
   "cell_type": "code",
   "execution_count": null,
   "id": "4f0bdbba-365a-42bc-825b-1fac4e29d929",
   "metadata": {},
   "outputs": [],
   "source": [
    "len(df_industry_sector.Ticker.unique())"
   ]
  },
  {
   "cell_type": "markdown",
   "id": "25a056ee-1740-4e1b-b9b3-09b99a486ead",
   "metadata": {},
   "source": [
    "#### 2.Earning Surprise"
   ]
  },
  {
   "cell_type": "code",
   "execution_count": null,
   "id": "9cde9fcf-ccc1-49ca-a481-1ccf9c42f1b1",
   "metadata": {},
   "outputs": [],
   "source": [
    "# dftest=pd.DataFrame.from_dict(si.get_earnings_history(\"TSLA\"))[['ticker','startdatetime','epsestimate','epsactual','epssurprisepct']]\n",
    "# dftest.startdatetime=pd.to_datetime(dftest.startdatetime).dt.date\n",
    "# dftest=dftest[dftest['startdatetime']>pd.to_datetime(\"2016-1-1\").date()]\n",
    "# dftest['earningestimate_year']= pd.DatetimeIndex(dftest['startdatetime']).year\n",
    "# dftest['earningestimate_month']= pd.DatetimeIndex(dftest['startdatetime']).month\n",
    "# dftest.sort_values(by=['startdatetime'],inplace=True)"
   ]
  },
  {
   "cell_type": "code",
   "execution_count": null,
   "id": "f5c90858-6cc6-4d8c-9a9d-bcab78a255da",
   "metadata": {},
   "outputs": [],
   "source": []
  }
 ],
 "metadata": {
  "kernelspec": {
   "display_name": "mlenv",
   "language": "python",
   "name": "mlenv"
  },
  "language_info": {
   "codemirror_mode": {
    "name": "ipython",
    "version": 3
   },
   "file_extension": ".py",
   "mimetype": "text/x-python",
   "name": "python",
   "nbconvert_exporter": "python",
   "pygments_lexer": "ipython3",
   "version": "3.7.7"
  }
 },
 "nbformat": 4,
 "nbformat_minor": 5
}
